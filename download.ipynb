{
 "cells": [
  {
   "cell_type": "markdown",
   "metadata": {},
   "source": [
    "# Download"
   ]
  },
  {
   "cell_type": "code",
   "execution_count": 1,
   "metadata": {},
   "outputs": [],
   "source": [
    "import time\n",
    "import requests\n",
    "import pandas as pd\n",
    "from bs4 import BeautifulSoup\n",
    "from dateutil.parser import parse as dateparse"
   ]
  },
  {
   "cell_type": "code",
   "execution_count": 2,
   "metadata": {},
   "outputs": [],
   "source": [
    "buildings_dict = {\n",
    "    28: {\"name\": \"Promenade West\", \"region\": \"Bunker Hill\"},\n",
    "    27: {\"name\": \"Promenade\", \"region\": \"Bunker Hill\"},\n",
    "    14: {\"name\": \"Bunker Hill Tower\", \"region\": \"Bunker Hill\"},\n",
    "    36: {\"name\": \"Douglas\", \"region\": \"Historic Core\"},\n",
    "    38: {\"name\": \"El Dorado\", \"region\": \"Historic Core\"},\n",
    "    39: {\"name\": \"Higgins\", \"region\": \"Historic Core\"},\n",
    "    47: {\"name\": \"Pan American\", \"region\": \"Historic Core\"},\n",
    "    59: {\"name\": \"Shy Barry Grand\", \"region\": \"Historic Core\"},\n",
    "    57: {\"name\": \"The Rowan\", \"region\": \"Historic Core\"},\n",
    "    34: {\"name\": \"655 Hope\", \"region\": \"Financial District\"},\n",
    "    35: {\"name\": \"Library Court\", \"region\": \"Financial District\"},    \n",
    "    87: {\"name\": \"Roosevelt\", \"region\": \"Financial District\"},\n",
    "    29: {\"name\": \"110 Wilshire\", \"region\": \"City West\"},\n",
    "    30: {\"name\": \"Vero\", \"region\": \"City West\"},\n",
    "    60: {\"name\": \"Bartlett\", \"region\": \"Jewelry District\"},\n",
    "    62: {\"name\": \"Brockman\", \"region\": \"Jewelry District\"},\n",
    "    76: {\"name\": \"Little Tokyo Lofts\", \"region\": \"Little Tokyo\"},\n",
    "    80: {\"name\": \"Teramachi\", \"region\": \"Little Tokyo\"},\n",
    "    128: {\"name\": \"Tokyo Villa\", \"region\": \"Little Tokyo\"},\n",
    "    17: {\"name\": \"940 E. 2nd Street\", \"region\": \"Arts District\"},\n",
    "    20: {\"name\": \"Barker Block Warehouse\", \"region\": \"Arts District\"},\n",
    "    18: {\"name\": \"Barker Block Lofts\", \"region\": \"Arts District\"},\n",
    "    21: {\"name\": \"Beacon Lofts\", \"region\": \"Arts District\"},\n",
    "    22: {\"name\": \"Biscuit Company Lofts\", \"region\": \"Arts District\"},\n",
    "    63: {\"name\": \"Gallery Lofts\", \"region\": \"Arts District\"},\n",
    "    50: {\"name\": \"Molino Street Lofts\", \"region\": \"Arts District\"},\n",
    "    127: {\"name\": \"Mura\", \"region\": \"Arts District\"},\n",
    "    24: {\"name\": \"Savoy\", \"region\": \"Arts District\"},\n",
    "    25: {\"name\": \"Toy Factory\", \"region\": \"Arts District\"},\n",
    "    26: {\"name\": \"Toy Warehouse\", \"region\": \"Arts District\"},\n",
    "    31: {\"name\": \"Santee Village: Cornell\", \"region\": \"Fashion District\"},\n",
    "    64: {\"name\": \"Santee Village: Eckardt\", \"region\": \"Fashion District\"},\n",
    "    32: {\"name\": \"Textile Building\", \"region\": \"Fashion District\"},\n",
    "    33: {\"name\": \"Tomahawk Lofts\", \"region\": \"Fashion District\"},\n",
    "    92: {\"name\": \"Atelier\", \"region\": \"L.A. Live\"},\n",
    "    94: {\"name\": \"Circa\", \"region\": \"L.A. Live\"},\n",
    "    65: {\"name\": \"Concerto Lofts\", \"region\": \"L.A. Live\"},\n",
    "    37: {\"name\": \"Eastern Columbia\", \"region\": \"L.A. Live\"},\n",
    "    66: {\"name\": \"Elleven Lofts\", \"region\": \"L.A. Live\"},\n",
    "    67: {\"name\": \"Evo\", \"region\": \"L.A. Live\"},\n",
    "    68: {\"name\": \"Flower Street Lofts\", \"region\": \"L.A. Live\"},\n",
    "    69: {\"name\": \"Grand Lofts\", \"region\": \"L.A. Live\"},\n",
    "    82: {\"name\": \"Level\", \"region\": \"L.A. Live\"},\n",
    "    70: {\"name\": \"Luma Lofts\", \"region\": \"L.A. Live\"},\n",
    "    71: {\"name\": \"Market Lofts\", \"region\": \"L.A. Live\"},\n",
    "    72: {\"name\": \"Metropolis Tower I\", \"region\": \"L.A. Live\"},\n",
    "    83: {\"name\": \"Metropolis Tower II\", \"region\": \"L.A. Live\"},\n",
    "    93: {\"name\": \"Park Hyatt\", \"region\": \"L.A. Live\"},\n",
    "    74: {\"name\": \"Ritz Carlton\", \"region\": \"L.A. Live\"},\n",
    "    73: {\"name\": \"Sky Lofts\", \"region\": \"L.A. Live\"},\n",
    "    85: {\"name\": \"Ten50\", \"region\": \"L.A. Live\"},\n",
    "    75: {\"name\": \"Skyline\", \"region\": \"L.A. Live\"},\n",
    "    81: {\"name\": \"WaterMarke\", \"region\": \"L.A. Live\"},\n",
    "}"
   ]
  },
  {
   "cell_type": "code",
   "execution_count": 3,
   "metadata": {},
   "outputs": [],
   "source": [
    "def safe_price(value):\n",
    "    return int(value.replace(\"$\", \"\").replace(\",\", \"\"))\n",
    "\n",
    "def safe_beds(value):\n",
    "    return int(value.split(\"/\")[0].replace(\"BR\", \"\"))\n",
    "\n",
    "def safe_baths(value):\n",
    "    return int(value.split(\"/\")[1].replace(\"BATHS\", \"\").replace(\",\", \"\"))\n",
    "\n",
    "def safe_sqft(value):\n",
    "    return int(value.replace(\",\", \"\"))\n",
    "\n",
    "def parse_li(li):\n",
    "    parts = li.a.text.split()\n",
    "    return dict(\n",
    "        url=li.a['href'],\n",
    "        unit=parts[1].strip(),\n",
    "        price=safe_price(parts[3]),\n",
    "        date=dateparse(parts[4]),\n",
    "        bedrooms=safe_beds(parts[5]),\n",
    "        bathrooms=safe_baths(parts[5]),\n",
    "        square_feet=safe_sqft(parts[6])\n",
    "    )"
   ]
  },
  {
   "cell_type": "code",
   "execution_count": 4,
   "metadata": {},
   "outputs": [],
   "source": [
    "def request_building(number, listing_type=\"Listing\", months=240):\n",
    "    print(\"Requesting {}\".format(buildings_dict[number]['name']))\n",
    "    url = \"https://www.dlxco.com/property/getproperty/name/R-{}/value/{}/building/{}\".format(\n",
    "        listing_type,\n",
    "        months,\n",
    "        number\n",
    "    )\n",
    "    payload = dict(building_url=\"the-promenade-west-lofts-condos-for-sale-lease-downtown-losangeles\")\n",
    "    r = requests.post(url, data=payload)\n",
    "    soup = BeautifulSoup(r.text, \"html5lib\")\n",
    "    row_list = []\n",
    "    for li in soup.find_all(\"li\", {\"class\": \"leased-prop\"}):\n",
    "        try:\n",
    "            row_list.append(parse_li(li))\n",
    "        except Exception:\n",
    "            print(\"Count not parse\\n {}\".format(li))\n",
    "    df = pd.DataFrame(row_list)\n",
    "    df['building_number'] = number\n",
    "    df['building_name'] = buildings_dict[number]['name']\n",
    "    df['region'] = buildings_dict[number]['region']\n",
    "    time.sleep(1)\n",
    "    return df"
   ]
  },
  {
   "cell_type": "code",
   "execution_count": 5,
   "metadata": {},
   "outputs": [
    {
     "name": "stdout",
     "output_type": "stream",
     "text": [
      "Requesting Bunker Hill Tower\n",
      "Requesting 940 E. 2nd Street\n",
      "Requesting Barker Block Lofts\n",
      "Requesting Barker Block Warehouse\n",
      "Requesting Beacon Lofts\n",
      "Requesting Biscuit Company Lofts\n",
      "Requesting Savoy\n",
      "Requesting Toy Factory\n",
      "Requesting Toy Warehouse\n",
      "Requesting Promenade\n",
      "Count not parse\n",
      " <li class=\"leased-prop 430000\"><a href=\"https://www.dlxco.com/the-promenade-west-lofts-condos-for-sale-lease-downtown-losangeles?mlsno=316009980IT\">Unit  - $430,000, 02/28/2017, 1BR/1BATHS, 793 SQFT                                <span style=\"color: red; font-size: 10px; padding-left: 9px; font-weight: 700;\"></span>\n",
      "\n",
      "                            </a></li>\n",
      "Count not parse\n",
      " <li class=\"leased-prop 450000\"><a href=\"https://www.dlxco.com/the-promenade-west-lofts-condos-for-sale-lease-downtown-losangeles?mlsno=315004139IT\">Unit  - $450,000, 12/07/2015, 1BR/1BATHS, 793 SQFT                                <span style=\"color: red; font-size: 10px; padding-left: 9px; font-weight: 700;\"></span>\n",
      "\n",
      "                            </a></li>\n",
      "Count not parse\n",
      " <li class=\"leased-prop 440000\"><a href=\"https://www.dlxco.com/the-promenade-west-lofts-condos-for-sale-lease-downtown-losangeles?mlsno=315005365IT\">Unit  - $440,000, 07/30/2015, 1BR/1BATHS, 793 SQFT                                <span style=\"color: red; font-size: 10px; padding-left: 9px; font-weight: 700;\"></span>\n",
      "\n",
      "                            </a></li>\n",
      "Requesting Promenade West\n",
      "Requesting 110 Wilshire\n",
      "Requesting Vero\n",
      "Requesting Santee Village: Cornell\n",
      "Requesting Textile Building\n",
      "Requesting Tomahawk Lofts\n",
      "Requesting 655 Hope\n",
      "Requesting Library Court\n",
      "Requesting Douglas\n",
      "Count not parse\n",
      " <li class=\"leased-prop 715000\"><a href=\"https://www.dlxco.com/the-promenade-west-lofts-condos-for-sale-lease-downtown-losangeles?mlsno=22180120IT\">Unit PH C - $715,000, 04/04/2014, 1BR/3BATHS, 1,387 SQFT                                <span style=\"color: red; font-size: 10px; padding-left: 9px; font-weight: 700;\"></span>\n",
      "\n",
      "                            </a></li>\n",
      "Count not parse\n",
      " <li class=\"leased-prop 592000\"><a href=\"https://www.dlxco.com/the-promenade-west-lofts-condos-for-sale-lease-downtown-losangeles?mlsno=12-631137\">Unit PH B - $592,000, 12/14/2012, 2BR/2BATHS, 1,370 SQFT                                <span style=\"color: red; font-size: 10px; padding-left: 9px; font-weight: 700;\"></span>\n",
      "\n",
      "                            </a></li>\n",
      "Requesting Eastern Columbia\n",
      "Requesting El Dorado\n",
      "Requesting Higgins\n",
      "Requesting Pan American\n",
      "Requesting Molino Street Lofts\n",
      "Requesting The Rowan\n",
      "Requesting Shy Barry Grand\n",
      "Requesting Bartlett\n",
      "Requesting Brockman\n",
      "Requesting Gallery Lofts\n",
      "Requesting Santee Village: Eckardt\n",
      "Requesting Concerto Lofts\n",
      "Requesting Elleven Lofts\n",
      "Requesting Evo\n",
      "Requesting Flower Street Lofts\n",
      "Requesting Grand Lofts\n",
      "Requesting Luma Lofts\n",
      "Requesting Market Lofts\n",
      "Requesting Metropolis Tower I\n",
      "Requesting Sky Lofts\n",
      "Requesting Ritz Carlton\n",
      "Requesting Skyline\n",
      "Requesting Little Tokyo Lofts\n",
      "Count not parse\n",
      " <li class=\"leased-prop 269000\"><a href=\"https://www.dlxco.com/the-promenade-west-lofts-condos-for-sale-lease-downtown-losangeles?mlsno=CV14037788MR\">Unit  - $269,000, 05/05/2014, 0BR/1BATHS, 610 SQFT                                <span style=\"color: red; font-size: 10px; padding-left: 9px; font-weight: 700;\"></span>\n",
      "\n",
      "                            </a></li>\n",
      "Requesting Teramachi\n",
      "Requesting WaterMarke\n",
      "Requesting Level\n",
      "Requesting Metropolis Tower II\n",
      "Requesting Ten50\n",
      "Requesting Roosevelt\n",
      "Requesting Atelier\n",
      "Requesting Park Hyatt\n",
      "Requesting Circa\n",
      "Requesting Mura\n",
      "Count not parse\n",
      " <li class=\"leased-prop 300000\"><a href=\"https://www.dlxco.com/the-promenade-west-lofts-condos-for-sale-lease-downtown-losangeles?mlsno=F12104032CN\">Unit  - $300,000, 11/30/2012, 1BR/1BATHS, 1,050 SQFT                                <span style=\"color: red; font-size: 10px; padding-left: 9px; font-weight: 700;\">Short Sale</span>\n",
      "\n",
      "                            </a></li>\n",
      "Requesting Tokyo Villa\n"
     ]
    },
    {
     "name": "stderr",
     "output_type": "stream",
     "text": [
      "/home/palewire/.virtualenvs/pdubs-market-analysis/lib/python2.7/site-packages/ipykernel_launcher.py:1: FutureWarning: Sorting because non-concatenation axis is not aligned. A future version\n",
      "of pandas will change to not sort by default.\n",
      "\n",
      "To accept the future behavior, pass 'sort=False'.\n",
      "\n",
      "To retain the current behavior and silence the warning, pass 'sort=True'.\n",
      "\n",
      "  \"\"\"Entry point for launching an IPython kernel.\n"
     ]
    }
   ],
   "source": [
    "df = pd.concat([request_building(number) for number in buildings_dict.keys()])"
   ]
  },
  {
   "cell_type": "code",
   "execution_count": 6,
   "metadata": {},
   "outputs": [],
   "source": [
    "df['price_per_square_foot'] = df['price'] / df['square_feet']"
   ]
  },
  {
   "cell_type": "code",
   "execution_count": 7,
   "metadata": {},
   "outputs": [],
   "source": [
    "df['year'] = df['date'].dt.year"
   ]
  },
  {
   "cell_type": "code",
   "execution_count": 8,
   "metadata": {},
   "outputs": [],
   "source": [
    "df = df[df.year >= 2011]"
   ]
  },
  {
   "cell_type": "code",
   "execution_count": 9,
   "metadata": {},
   "outputs": [],
   "source": [
    "df.sort_values([\"building_name\", \"date\"], ascending=[True, False]).to_csv(\"./_data/sales.csv\", index=False)"
   ]
  }
 ],
 "metadata": {
  "kernelspec": {
   "display_name": "Python 2",
   "language": "python",
   "name": "python2"
  },
  "language_info": {
   "codemirror_mode": {
    "name": "ipython",
    "version": 2
   },
   "file_extension": ".py",
   "mimetype": "text/x-python",
   "name": "python",
   "nbconvert_exporter": "python",
   "pygments_lexer": "ipython2",
   "version": "2.7.12"
  }
 },
 "nbformat": 4,
 "nbformat_minor": 2
}
