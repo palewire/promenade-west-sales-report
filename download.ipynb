{
 "cells": [
  {
   "cell_type": "markdown",
   "metadata": {},
   "source": [
    "# Download"
   ]
  },
  {
   "cell_type": "code",
   "execution_count": 96,
   "metadata": {},
   "outputs": [],
   "source": [
    "import requests\n",
    "import pandas as pd\n",
    "from bs4 import BeautifulSoup\n",
    "from dateutil.parser import parse as dateparse"
   ]
  },
  {
   "cell_type": "code",
   "execution_count": 181,
   "metadata": {},
   "outputs": [],
   "source": [
    "buildings_dict = {\n",
    "    28: {\"name\": \"Promenade West\", \"region\": \"Bunker Hill\"},\n",
    "    27: {\"name\": \"Promenade\", \"region\": \"Bunker Hill\"},\n",
    "    14: {\"name\": \"Bunker Hill Tower\", \"region\": \"Bunker Hill\"},\n",
    "    36: {\"name\": \"Douglas\", \"region\": \"Historic Core\"},\n",
    "    38: {\"name\": \"El Dorado\", \"region\": \"Historic Core\"},\n",
    "    39: {\"name\": \"Higgins\", \"region\": \"Historic Core\"},\n",
    "    47: {\"name\": \"Pan American\", \"region\": \"Historic Core\"},\n",
    "    59: {\"name\": \"Shy Barry Grand\", \"region\": \"Historic Core\"},\n",
    "    57: {\"name\": \"The Rowan\", \"region\": \"Historic Core\"},\n",
    "    34: {\"name\": \"655 Hope\", \"region\": \"Financial District\"},\n",
    "    35: {\"name\": \"Library Court\", \"region\": \"Financial District\"},    \n",
    "    87: {\"name\": \"Roosevelt\", \"region\": \"Financial District\"},\n",
    "    29: {\"name\": \"110 Wilshire\", \"region\": \"City West\"},\n",
    "    30: {\"name\": \"Vero\", \"region\": \"City West\"},\n",
    "    60: {\"name\": \"Bartlett\", \"region\": \"Jewelry District\"},\n",
    "    62: {\"name\": \"Brockman\", \"region\": \"Jewelry District\"},\n",
    "}"
   ]
  },
  {
   "cell_type": "code",
   "execution_count": 182,
   "metadata": {},
   "outputs": [],
   "source": [
    "def safe_price(value):\n",
    "    return int(value.replace(\"$\", \"\").replace(\",\", \"\"))\n",
    "\n",
    "def safe_beds(value):\n",
    "    return int(value.split(\"/\")[0].replace(\"BR\", \"\"))\n",
    "\n",
    "def safe_baths(value):\n",
    "    return int(value.split(\"/\")[1].replace(\"BATHS\", \"\").replace(\",\", \"\"))\n",
    "\n",
    "def safe_sqft(value):\n",
    "    return int(value.replace(\",\", \"\"))\n",
    "\n",
    "def parse_li(li):\n",
    "    parts = li.a.text.split()\n",
    "    return dict(\n",
    "        url=li.a['href'],\n",
    "        unit=parts[1].strip(),\n",
    "        price=safe_price(parts[3]),\n",
    "        date=dateparse(parts[4]),\n",
    "        bedrooms=safe_beds(parts[5]),\n",
    "        bathrooms=safe_baths(parts[5]),\n",
    "        square_feet=safe_sqft(parts[6])\n",
    "    )"
   ]
  },
  {
   "cell_type": "code",
   "execution_count": 183,
   "metadata": {},
   "outputs": [],
   "source": [
    "def request_building(number, listing_type=\"Listing\", months=240):\n",
    "    print(\"Requesting {}\".format(buildings_dict[number]['name']))\n",
    "    url = \"https://www.dlxco.com/property/getproperty/name/R-{}/value/{}/building/{}\".format(\n",
    "        listing_type,\n",
    "        months,\n",
    "        number\n",
    "    )\n",
    "    payload = dict(building_url=\"the-promenade-west-lofts-condos-for-sale-lease-downtown-losangeles\")\n",
    "    r = requests.post(url, data=payload)\n",
    "    soup = BeautifulSoup(r.text, \"html5lib\")\n",
    "    row_list = []\n",
    "    for li in soup.find_all(\"li\", {\"class\": \"leased-prop\"}):\n",
    "        try:\n",
    "            row_list.append(parse_li(li))\n",
    "        except Exception:\n",
    "            print(\"Count not parse\\n {}\".format(li))\n",
    "    df = pd.DataFrame(row_list)\n",
    "    df['building_number'] = number\n",
    "    df['building_name'] = buildings_dict[number]['name']\n",
    "    df['region'] = buildings_dict[number]['region']\n",
    "    return df"
   ]
  },
  {
   "cell_type": "code",
   "execution_count": 184,
   "metadata": {},
   "outputs": [
    {
     "name": "stdout",
     "output_type": "stream",
     "text": [
      "Requesting 655 Hope\n",
      "Requesting Shy Barry Grand\n",
      "Requesting Douglas\n",
      "Count not parse\n",
      " <li class=\"leased-prop 715000\"><a href=\"https://www.dlxco.com/the-promenade-west-lofts-condos-for-sale-lease-downtown-losangeles?mlsno=22180120IT\">Unit PH C - $715,000, 04/04/2014, 1BR/3BATHS, 1,387 SQFT                                <span style=\"color: red; font-size: 10px; padding-left: 9px; font-weight: 700;\"></span>\n",
      "\n",
      "                            </a></li>\n",
      "Count not parse\n",
      " <li class=\"leased-prop 592000\"><a href=\"https://www.dlxco.com/the-promenade-west-lofts-condos-for-sale-lease-downtown-losangeles?mlsno=12-631137\">Unit PH B - $592,000, 12/14/2012, 2BR/2BATHS, 1,370 SQFT                                <span style=\"color: red; font-size: 10px; padding-left: 9px; font-weight: 700;\"></span>\n",
      "\n",
      "                            </a></li>\n",
      "Requesting El Dorado\n",
      "Requesting Higgins\n",
      "Requesting Bartlett\n",
      "Requesting Bunker Hill Tower\n",
      "Requesting Pan American\n",
      "Requesting Library Court\n",
      "Requesting Brockman\n",
      "Requesting Roosevelt\n",
      "Requesting The Rowan\n",
      "Requesting Promenade\n",
      "Count not parse\n",
      " <li class=\"leased-prop 430000\"><a href=\"https://www.dlxco.com/the-promenade-west-lofts-condos-for-sale-lease-downtown-losangeles?mlsno=316009980IT\">Unit  - $430,000, 02/28/2017, 1BR/1BATHS, 793 SQFT                                <span style=\"color: red; font-size: 10px; padding-left: 9px; font-weight: 700;\"></span>\n",
      "\n",
      "                            </a></li>\n",
      "Count not parse\n",
      " <li class=\"leased-prop 450000\"><a href=\"https://www.dlxco.com/the-promenade-west-lofts-condos-for-sale-lease-downtown-losangeles?mlsno=315004139IT\">Unit  - $450,000, 12/07/2015, 1BR/1BATHS, 793 SQFT                                <span style=\"color: red; font-size: 10px; padding-left: 9px; font-weight: 700;\"></span>\n",
      "\n",
      "                            </a></li>\n",
      "Count not parse\n",
      " <li class=\"leased-prop 440000\"><a href=\"https://www.dlxco.com/the-promenade-west-lofts-condos-for-sale-lease-downtown-losangeles?mlsno=315005365IT\">Unit  - $440,000, 07/30/2015, 1BR/1BATHS, 793 SQFT                                <span style=\"color: red; font-size: 10px; padding-left: 9px; font-weight: 700;\"></span>\n",
      "\n",
      "                            </a></li>\n",
      "Requesting Promenade West\n",
      "Requesting 110 Wilshire\n",
      "Requesting Vero\n"
     ]
    },
    {
     "name": "stderr",
     "output_type": "stream",
     "text": [
      "/home/palewire/.virtualenvs/pdubs-market-analysis/lib/python2.7/site-packages/ipykernel_launcher.py:1: FutureWarning: Sorting because non-concatenation axis is not aligned. A future version\n",
      "of pandas will change to not sort by default.\n",
      "\n",
      "To accept the future behavior, pass 'sort=False'.\n",
      "\n",
      "To retain the current behavior and silence the warning, pass 'sort=True'.\n",
      "\n",
      "  \"\"\"Entry point for launching an IPython kernel.\n"
     ]
    }
   ],
   "source": [
    "df = pd.concat([request_building(number) for number in buildings_dict.keys()])"
   ]
  },
  {
   "cell_type": "code",
   "execution_count": 185,
   "metadata": {},
   "outputs": [],
   "source": [
    "df['price_per_square_foot'] = df['price'] / df['square_feet']"
   ]
  },
  {
   "cell_type": "code",
   "execution_count": 180,
   "metadata": {},
   "outputs": [],
   "source": [
    "df.sort_values([\"building_name\", \"date\"], ascending=[True, False]).to_csv(\"./_data/sales.csv\", index=False)"
   ]
  }
 ],
 "metadata": {
  "kernelspec": {
   "display_name": "Python 2",
   "language": "python",
   "name": "python2"
  },
  "language_info": {
   "codemirror_mode": {
    "name": "ipython",
    "version": 2
   },
   "file_extension": ".py",
   "mimetype": "text/x-python",
   "name": "python",
   "nbconvert_exporter": "python",
   "pygments_lexer": "ipython2",
   "version": "2.7.12"
  }
 },
 "nbformat": 4,
 "nbformat_minor": 2
}
