{
 "cells": [
  {
   "cell_type": "code",
   "execution_count": 96,
   "metadata": {},
   "outputs": [],
   "source": [
    "import requests\n",
    "import pandas as pd\n",
    "from bs4 import BeautifulSoup\n",
    "from dateutil.parser import parse as dateparse"
   ]
  },
  {
   "cell_type": "code",
   "execution_count": 52,
   "metadata": {},
   "outputs": [],
   "source": [
    "payload = dict(building_url=\"the-promenade-west-lofts-condos-for-sale-lease-downtown-losangeles\")"
   ]
  },
  {
   "cell_type": "code",
   "execution_count": 122,
   "metadata": {},
   "outputs": [],
   "source": [
    "r = requests.post(\"https://www.dlxco.com/property/getproperty/name/R-Listing/value/240/building/28\", data=payload)"
   ]
  },
  {
   "cell_type": "code",
   "execution_count": 123,
   "metadata": {},
   "outputs": [],
   "source": [
    "soup = BeautifulSoup(r.text, \"html5lib\")"
   ]
  },
  {
   "cell_type": "code",
   "execution_count": 124,
   "metadata": {},
   "outputs": [],
   "source": [
    "def parse_li(li):\n",
    "    parts = li.a.text.split()\n",
    "    return dict(\n",
    "        url=li.a['href'],\n",
    "        unit=int(parts[1]),\n",
    "        price=int(parts[3].replace(\"$\", \"\").replace(\",\", \"\")),\n",
    "        date=dateparse(parts[4]),\n",
    "        bedrooms=int(parts[5].split(\"/\")[0].replace(\"BR\", \"\")),\n",
    "        bathrooms=int(parts[5].split(\"/\")[1].replace(\"BATHS\", \"\").replace(\",\", \"\")),\n",
    "        square_feet=int(parts[6].replace(\",\", \"\"))\n",
    "    )"
   ]
  },
  {
   "cell_type": "code",
   "execution_count": 125,
   "metadata": {},
   "outputs": [],
   "source": [
    "df = pd.DataFrame([parse_li(li) for li in soup.find_all(\"li\", {\"class\": \"leased-prop\"})])"
   ]
  },
  {
   "cell_type": "code",
   "execution_count": 126,
   "metadata": {},
   "outputs": [],
   "source": [
    "df['price_per_square_foot'] = df['price'] / df['square_feet']"
   ]
  },
  {
   "cell_type": "code",
   "execution_count": 127,
   "metadata": {},
   "outputs": [],
   "source": [
    "df.sort_values(\"date\", ascending=False).to_csv(\"./_data/sales.csv\", index=False)"
   ]
  }
 ],
 "metadata": {
  "kernelspec": {
   "display_name": "Python 2",
   "language": "python",
   "name": "python2"
  },
  "language_info": {
   "codemirror_mode": {
    "name": "ipython",
    "version": 2
   },
   "file_extension": ".py",
   "mimetype": "text/x-python",
   "name": "python",
   "nbconvert_exporter": "python",
   "pygments_lexer": "ipython2",
   "version": "2.7.12"
  }
 },
 "nbformat": 4,
 "nbformat_minor": 2
}
