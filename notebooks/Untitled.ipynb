{
 "cells": [
  {
   "cell_type": "code",
   "execution_count": 4,
   "metadata": {},
   "outputs": [],
   "source": [
    "import requests\n",
    "from bs4 import BeautifulSoup"
   ]
  },
  {
   "cell_type": "code",
   "execution_count": 5,
   "metadata": {},
   "outputs": [],
   "source": [
    "r = requests.get(\"https://www.dlxco.com/the-promenade-west-lofts-condos-for-sale-lease-downtown-losangeles\")"
   ]
  },
  {
   "cell_type": "code",
   "execution_count": 6,
   "metadata": {},
   "outputs": [],
   "source": [
    "soup = BeautifulSoup(r.text, \"html5lib\")"
   ]
  },
  {
   "cell_type": "code",
   "execution_count": 8,
   "metadata": {},
   "outputs": [],
   "source": [
    "li_list = soup.find_all(\"li\", class_=\"for-sale-listing\")"
   ]
  },
  {
   "cell_type": "code",
   "execution_count": 9,
   "metadata": {},
   "outputs": [
    {
     "name": "stdout",
     "output_type": "stream",
     "text": [
      "<li class=\"for-sale-listing 785000\"><a href=\"https://www.dlxco.com/the-promenade-west-lofts-condos-for-sale-lease-downtown-losangeles?mlsno=19-440728\">Unit 520 - $785,000 - 3BR/2BATHS, 1707\t\t\t\t\t\t\t\t\t\t\t\tSQFT <span style=\"color: red; font-size: 10px; padding-left: 0px; font-weight: 700;\"></span>\t\t\t\t\t\t\t\t\t\t\t\t</a></li>\n",
      "<li class=\"for-sale-listing 720000\"><a href=\"https://www.dlxco.com/the-promenade-west-lofts-condos-for-sale-lease-downtown-losangeles?mlsno=18-377282\">Unit 302 - $720,000 - 3BR/2BATHS, 1710\t\t\t\t\t\t\t\t\t\t\t\tSQFT <span style=\"color: red; font-size: 10px; padding-left: 0px; font-weight: 700;\"></span>\t\t\t\t\t\t\t\t\t\t\t\t</a></li>\n",
      "<li class=\"for-sale-listing 650000\"><a href=\"https://www.dlxco.com/the-promenade-west-lofts-condos-for-sale-lease-downtown-losangeles?mlsno=19-445772\">Unit  - $650,000 - 2BR/2BATHS, 1348\t\t\t\t\t\t\t\t\t\t\t\tSQFT <span style=\"color: red; font-size: 10px; padding-left: 0px; font-weight: 700;\"></span><span style=\"color: green; padding-left: 8px; font-size: 11px; font-weight: bold;\">New!</span>\t\t\t\t\t\t\t\t\t\t\t\t</a></li>\n",
      "<li class=\"for-sale-listing 599000\"><a href=\"https://www.dlxco.com/the-promenade-west-lofts-condos-for-sale-lease-downtown-losangeles?mlsno=18-409076\">Unit 522 - $599,000 - 2BR/2BATHS, 1323\t\t\t\t\t\t\t\t\t\t\t\tSQFT <span style=\"color: red; font-size: 10px; padding-left: 0px; font-weight: 700;\"></span>\t\t\t\t\t\t\t\t\t\t\t\t</a></li>\n",
      "<li class=\"for-sale-listing 585000\"><a href=\"https://www.dlxco.com/the-promenade-west-lofts-condos-for-sale-lease-downtown-losangeles?mlsno=18-308878\">Unit 208 - $585,000 - 2BR/2BATHS, 1326\t\t\t\t\t\t\t\t\t\t\t\tSQFT <span style=\"color: red; font-size: 10px; padding-left: 0px; font-weight: 700;\"></span>\t\t\t\t\t\t\t\t\t\t\t\t</a></li>\n",
      "<li class=\"for-sale-listing 529000\"><a href=\"https://www.dlxco.com/the-promenade-west-lofts-condos-for-sale-lease-downtown-losangeles?mlsno=19-440076\">Unit 801 - $529,000 - 1BR/1BATHS, 1006\t\t\t\t\t\t\t\t\t\t\t\tSQFT <span style=\"color: red; font-size: 10px; padding-left: 0px; font-weight: 700;\"></span>\t\t\t\t\t\t\t\t\t\t\t\t</a></li>\n",
      "<li class=\"for-sale-listing 490000\"><a href=\"https://www.dlxco.com/the-promenade-west-lofts-condos-for-sale-lease-downtown-losangeles?mlsno=AR19059793MR\">Unit 217 - $490,000 - 2BR/2BATHS, 1243\t\t\t\t\t\t\t\t\t\t\t\tSQFT <span style=\"color: red; font-size: 10px; padding-left: 0px; font-weight: 700;\"></span><span style=\"color: green; padding-left: 8px; font-size: 11px; font-weight: bold;\">New!</span>\t\t\t\t\t\t\t\t\t\t\t\t</a></li>\n"
     ]
    }
   ],
   "source": [
    "for li in li_list:\n",
    "    print(li)"
   ]
  },
  {
   "cell_type": "code",
   "execution_count": null,
   "metadata": {},
   "outputs": [],
   "source": []
  }
 ],
 "metadata": {
  "kernelspec": {
   "display_name": "Python 3",
   "language": "python",
   "name": "python3"
  },
  "language_info": {
   "codemirror_mode": {
    "name": "ipython",
    "version": 3
   },
   "file_extension": ".py",
   "mimetype": "text/x-python",
   "name": "python",
   "nbconvert_exporter": "python",
   "pygments_lexer": "ipython3",
   "version": "3.6.7"
  }
 },
 "nbformat": 4,
 "nbformat_minor": 2
}
