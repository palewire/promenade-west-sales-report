{
 "cells": [
  {
   "cell_type": "code",
   "execution_count": 2,
   "metadata": {},
   "outputs": [],
   "source": [
    "import json\n",
    "import pandas as pd\n",
    "import altair as alt\n",
    "from datetime import datetime, timedelta"
   ]
  },
  {
   "cell_type": "code",
   "execution_count": 3,
   "metadata": {},
   "outputs": [
    {
     "data": {
      "text/plain": [
       "DataTransformerRegistry.enable('json')"
      ]
     },
     "execution_count": 3,
     "metadata": {},
     "output_type": "execute_result"
    }
   ],
   "source": [
    "alt.data_transformers.enable('json')"
   ]
  },
  {
   "cell_type": "code",
   "execution_count": 4,
   "metadata": {},
   "outputs": [],
   "source": [
    "df = pd.read_csv(\"./_data/sales.csv\")"
   ]
  },
  {
   "cell_type": "code",
   "execution_count": 5,
   "metadata": {},
   "outputs": [],
   "source": [
    "df.date = pd.to_datetime(df.date)"
   ]
  },
  {
   "cell_type": "code",
   "execution_count": 6,
   "metadata": {},
   "outputs": [],
   "source": [
    "def percentage_change(old_value, new_value, multiply=True, fail_silently=True):\n",
    "    \"\"\"\n",
    "    Accepts two integers, an old and a new number,\n",
    "    and then measures the percent change between them.\n",
    "    The change between the two numbers is determined\n",
    "    and then divided into the original figure.\n",
    "    By default, it is then multiplied by 100, and\n",
    "    returning as a float.\n",
    "    If you don't want the number multiplied by 100,\n",
    "    set the 'multiply' kwarg to False.\n",
    "    If you divide into zero -- an illegal operation -- a null value\n",
    "    is returned by default. If you prefer for an error to be raised,\n",
    "    set the kwarg 'fail_silently' to False.\n",
    "    h3. Example usage\n",
    "        >> import calculate\n",
    "        >> calculate.percentage_change(2, 10)\n",
    "        400.0\n",
    "    h3. Documentation\n",
    "        * \"percentage_change\":http://en.wikipedia.org/wiki/Percentage_change\n",
    "    \"\"\"\n",
    "    change = new_value - old_value\n",
    "    try:\n",
    "        percentage_change = (change / float(old_value))\n",
    "        if multiply:\n",
    "            percentage_change = percentage_change * 100\n",
    "        return percentage_change\n",
    "    except ZeroDivisionError:\n",
    "        # If there's a zero involved return null if set to fail silent\n",
    "        if fail_silently:\n",
    "            return None\n",
    "        # but otherwise shout it all out\n",
    "        else:\n",
    "            raise ZeroDivisionError(\"Sorry. You can't divide into zero.\")"
   ]
  },
  {
   "cell_type": "markdown",
   "metadata": {},
   "source": [
    "## Promenade West"
   ]
  },
  {
   "cell_type": "code",
   "execution_count": 7,
   "metadata": {},
   "outputs": [],
   "source": [
    "pwest = df[df.building_name == 'Promenade West']\n",
    "pwest.to_csv(\"./_data/pwest_sales.csv\", index=False)"
   ]
  },
  {
   "cell_type": "code",
   "execution_count": 8,
   "metadata": {},
   "outputs": [],
   "source": [
    "def year_over_year_comparison(df):\n",
    "    this_year = df[df.year == datetime.now().year]\n",
    "    last_year = df[df.year == datetime.now().year - 1]\n",
    "    stats = {\n",
    "        'this_year': {\n",
    "            'count': len(this_year),\n",
    "            'median_price': this_year.price.median(),\n",
    "            'median_price_per_sqft': this_year.price_per_square_foot.median(),\n",
    "        },\n",
    "        'last_year': {\n",
    "            'count': len(last_year),\n",
    "            'median_price': last_year.price.median(),\n",
    "            'median_price_per_sqft': last_year.price_per_square_foot.median(),\n",
    "        },\n",
    "        'all_time': {\n",
    "            'median_sqft': df.square_feet.median()\n",
    "        }\n",
    "    }\n",
    "    stats.update({\n",
    "        'change': {\n",
    "            'price': percentage_change(stats['last_year']['median_price'], stats['this_year']['median_price']), \n",
    "            'median_price_per_sqft': percentage_change(stats['last_year']['median_price_per_sqft'], stats['this_year']['median_price_per_sqft']), \n",
    "        }\n",
    "    })\n",
    "    return stats"
   ]
  },
  {
   "cell_type": "code",
   "execution_count": 9,
   "metadata": {},
   "outputs": [],
   "source": [
    "json.dump(year_over_year_comparison(pwest), open(\"./_data/pwest.json\", \"w\"), indent=4)"
   ]
  },
  {
   "cell_type": "markdown",
   "metadata": {},
   "source": [
    "### Most recent sales"
   ]
  },
  {
   "cell_type": "code",
   "execution_count": 10,
   "metadata": {},
   "outputs": [
    {
     "data": {
      "text/html": [
       "<div>\n",
       "<style scoped>\n",
       "    .dataframe tbody tr th:only-of-type {\n",
       "        vertical-align: middle;\n",
       "    }\n",
       "\n",
       "    .dataframe tbody tr th {\n",
       "        vertical-align: top;\n",
       "    }\n",
       "\n",
       "    .dataframe thead th {\n",
       "        text-align: right;\n",
       "    }\n",
       "</style>\n",
       "<table border=\"1\" class=\"dataframe\">\n",
       "  <thead>\n",
       "    <tr style=\"text-align: right;\">\n",
       "      <th></th>\n",
       "      <th>building_name</th>\n",
       "      <th>date</th>\n",
       "      <th>unit</th>\n",
       "      <th>price</th>\n",
       "      <th>square_feet</th>\n",
       "      <th>price_per_square_foot</th>\n",
       "    </tr>\n",
       "  </thead>\n",
       "  <tbody>\n",
       "    <tr>\n",
       "      <th>1963</th>\n",
       "      <td>Promenade West</td>\n",
       "      <td>2018-07-03</td>\n",
       "      <td>308</td>\n",
       "      <td>620000.0</td>\n",
       "      <td>1323.0</td>\n",
       "      <td>468.631897</td>\n",
       "    </tr>\n",
       "    <tr>\n",
       "      <th>1964</th>\n",
       "      <td>Promenade West</td>\n",
       "      <td>2018-06-12</td>\n",
       "      <td>527</td>\n",
       "      <td>600000.0</td>\n",
       "      <td>1323.0</td>\n",
       "      <td>453.514739</td>\n",
       "    </tr>\n",
       "    <tr>\n",
       "      <th>1965</th>\n",
       "      <td>Promenade West</td>\n",
       "      <td>2018-04-11</td>\n",
       "      <td>706</td>\n",
       "      <td>598000.0</td>\n",
       "      <td>1348.0</td>\n",
       "      <td>443.620178</td>\n",
       "    </tr>\n",
       "    <tr>\n",
       "      <th>1966</th>\n",
       "      <td>Promenade West</td>\n",
       "      <td>2018-02-01</td>\n",
       "      <td>409</td>\n",
       "      <td>590000.0</td>\n",
       "      <td>1323.0</td>\n",
       "      <td>445.956160</td>\n",
       "    </tr>\n",
       "    <tr>\n",
       "      <th>1967</th>\n",
       "      <td>Promenade West</td>\n",
       "      <td>2018-01-24</td>\n",
       "      <td>315</td>\n",
       "      <td>615000.0</td>\n",
       "      <td>1509.0</td>\n",
       "      <td>407.554672</td>\n",
       "    </tr>\n",
       "  </tbody>\n",
       "</table>\n",
       "</div>"
      ],
      "text/plain": [
       "       building_name       date unit     price  square_feet  \\\n",
       "1963  Promenade West 2018-07-03  308  620000.0       1323.0   \n",
       "1964  Promenade West 2018-06-12  527  600000.0       1323.0   \n",
       "1965  Promenade West 2018-04-11  706  598000.0       1348.0   \n",
       "1966  Promenade West 2018-02-01  409  590000.0       1323.0   \n",
       "1967  Promenade West 2018-01-24  315  615000.0       1509.0   \n",
       "\n",
       "      price_per_square_foot  \n",
       "1963             468.631897  \n",
       "1964             453.514739  \n",
       "1965             443.620178  \n",
       "1966             445.956160  \n",
       "1967             407.554672  "
      ]
     },
     "execution_count": 10,
     "metadata": {},
     "output_type": "execute_result"
    }
   ],
   "source": [
    "pwest.sort_values(\"date\", ascending=False)[[\n",
    "    'building_name',\n",
    "    'date',\n",
    "    'unit',\n",
    "    'price',\n",
    "    'square_feet',\n",
    "    'price_per_square_foot'\n",
    "]].head(5)"
   ]
  },
  {
   "cell_type": "markdown",
   "metadata": {},
   "source": [
    "### The pace of sales"
   ]
  },
  {
   "cell_type": "code",
   "execution_count": 12,
   "metadata": {},
   "outputs": [
    {
     "data": {
      "application/vnd.vegalite.v2+json": {
       "$schema": "https://vega.github.io/schema/vega-lite/v2.6.0.json",
       "config": {
        "view": {
         "height": 300,
         "width": 400
        }
       },
       "layer": [
        {
         "data": {
          "format": {
           "type": "json"
          },
          "url": "altair-data-f4750c700ee542edadc4f1150462a880.json"
         },
         "encoding": {
          "x": {
           "axis": {
            "labelAngle": 0,
            "title": ""
           },
           "field": "date",
           "timeUnit": "year",
           "type": "ordinal"
          },
          "y": {
           "aggregate": "count",
           "axis": {
            "grid": false,
            "title": ""
           },
           "scale": {
            "domain": [
             0,
             14
            ]
           },
           "type": "quantitative"
          }
         },
         "mark": {
          "color": "black",
          "type": "bar"
         },
         "width": 600
        },
        {
         "data": {
          "format": {
           "type": "json"
          },
          "url": "altair-data-f4750c700ee542edadc4f1150462a880.json"
         },
         "encoding": {
          "text": {
           "aggregate": "count",
           "type": "quantitative"
          },
          "x": {
           "axis": {
            "labelAngle": 0,
            "title": ""
           },
           "field": "date",
           "timeUnit": "year",
           "type": "ordinal"
          },
          "y": {
           "aggregate": "count",
           "axis": {
            "grid": false,
            "title": ""
           },
           "scale": {
            "domain": [
             0,
             14
            ]
           },
           "type": "quantitative"
          }
         },
         "mark": {
          "align": "center",
          "baseline": "middle",
          "dy": -12,
          "size": 20,
          "type": "text"
         },
         "width": 600
        }
       ]
      },
      "image/png": "[encoded data removed]",
      "text/plain": [
       "<VegaLite 2 object>\n",
       "\n",
       "If you see this message, it means the renderer has not been properly enabled\n",
       "for the frontend that you are using. For more information, see\n",
       "https://altair-viz.github.io/user_guide/troubleshooting.html\n"
      ]
     },
     "execution_count": 12,
     "metadata": {},
     "output_type": "execute_result"
    }
   ],
   "source": [
    "bars = alt.Chart(pwest).mark_bar(color=\"black\").encode(\n",
    "    x=alt.X(\"date:O\", timeUnit=\"year\", axis=alt.Axis(labelAngle=0, title=\"\")),\n",
    "    y=alt.Y(\"count()\", scale=alt.Scale(domain=(0, 14)), axis=alt.Axis(title=\"\", grid=False))\n",
    ").properties(width=600)\n",
    "\n",
    "text = bars.mark_text(\n",
    "    align='center',\n",
    "    baseline='middle',\n",
    "    dy=-12,\n",
    "    size=20\n",
    ").encode(\n",
    "    text='count()'\n",
    ")\n",
    "\n",
    "chart = bars + text\n",
    "\n",
    "# chart.configure_view(\n",
    "#     strokeOpacity=0\n",
    "# ).save('assets/sales-by-year.svg')\n",
    "\n",
    "chart"
   ]
  },
  {
   "cell_type": "code",
   "execution_count": 13,
   "metadata": {},
   "outputs": [
    {
     "data": {
      "application/vnd.vegalite.v2+json": {
       "$schema": "https://vega.github.io/schema/vega-lite/v2.6.0.json",
       "config": {
        "view": {
         "height": 300,
         "width": 400
        }
       },
       "layer": [
        {
         "data": {
          "format": {
           "type": "json"
          },
          "url": "altair-data-fd0a46e01d12f93c44640575b123be61.json"
         },
         "encoding": {
          "x": {
           "axis": {
            "labelAngle": 0,
            "title": ""
           },
           "field": "date",
           "timeUnit": "year",
           "type": "ordinal"
          },
          "y": {
           "aggregate": "count",
           "axis": {
            "grid": false,
            "title": ""
           },
           "scale": {
            "domain": [
             0,
             600
            ]
           },
           "type": "quantitative"
          }
         },
         "mark": {
          "color": "gray",
          "type": "bar"
         },
         "width": 600
        },
        {
         "data": {
          "format": {
           "type": "json"
          },
          "url": "altair-data-fd0a46e01d12f93c44640575b123be61.json"
         },
         "encoding": {
          "text": {
           "aggregate": "count",
           "type": "quantitative"
          },
          "x": {
           "axis": {
            "labelAngle": 0,
            "title": ""
           },
           "field": "date",
           "timeUnit": "year",
           "type": "ordinal"
          },
          "y": {
           "aggregate": "count",
           "axis": {
            "grid": false,
            "title": ""
           },
           "scale": {
            "domain": [
             0,
             600
            ]
           },
           "type": "quantitative"
          }
         },
         "mark": {
          "align": "center",
          "baseline": "middle",
          "dy": -12,
          "size": 20,
          "type": "text"
         },
         "width": 600
        }
       ]
      },
      "image/png": "[encoded data removed]",
      "text/plain": [
       "<VegaLite 2 object>\n",
       "\n",
       "If you see this message, it means the renderer has not been properly enabled\n",
       "for the frontend that you are using. For more information, see\n",
       "https://altair-viz.github.io/user_guide/troubleshooting.html\n"
      ]
     },
     "execution_count": 13,
     "metadata": {},
     "output_type": "execute_result"
    }
   ],
   "source": [
    "bars = alt.Chart(df).mark_bar(color=\"gray\").encode(\n",
    "    x=alt.X(\"date:O\", timeUnit=\"year\", axis=alt.Axis(labelAngle=0, title=\"\")),\n",
    "    y=alt.Y(\"count()\", scale=alt.Scale(domain=(0, 600)), axis=alt.Axis(title=\"\", grid=False))\n",
    ").properties(width=600)\n",
    "\n",
    "text = bars.mark_text(\n",
    "    align='center',\n",
    "    baseline='middle',\n",
    "    dy=-12,\n",
    "    size=20\n",
    ").encode(\n",
    "    text='count()'\n",
    ")\n",
    "\n",
    "chart = bars + text\n",
    "\n",
    "# chart.configure_view(\n",
    "#     strokeOpacity=0\n",
    "# ).save('assets/dtla-sales-by-year.svg')\n",
    "\n",
    "chart"
   ]
  },
  {
   "cell_type": "markdown",
   "metadata": {},
   "source": [
    "### Prices by date"
   ]
  },
  {
   "cell_type": "code",
   "execution_count": 14,
   "metadata": {},
   "outputs": [
    {
     "data": {
      "application/vnd.vegalite.v2+json": {
       "$schema": "https://vega.github.io/schema/vega-lite/v2.6.0.json",
       "config": {
        "view": {
         "height": 300,
         "width": 400
        }
       },
       "data": {
        "format": {
         "type": "json"
        },
        "url": "altair-data-f4750c700ee542edadc4f1150462a880.json"
       },
       "encoding": {
        "tooltip": [
         {
          "field": "unit",
          "type": "nominal"
         },
         {
          "field": "price",
          "type": "quantitative"
         },
         {
          "field": "square_feet",
          "type": "quantitative"
         },
         {
          "field": "price_per_square_foot",
          "type": "quantitative"
         }
        ],
        "x": {
         "axis": {
          "format": "%Y",
          "grid": false,
          "tickCount": 7,
          "title": ""
         },
         "field": "date",
         "type": "temporal"
        },
        "y": {
         "axis": {
          "format": "$s",
          "grid": false,
          "title": ""
         },
         "field": "price",
         "scale": {
          "domain": [
           0,
           700000
          ]
         },
         "type": "quantitative"
        }
       },
       "mark": {
        "color": "black",
        "size": 50,
        "type": "point"
       },
       "width": 600
      },
      "image/png": "[encoded data removed]",
      "text/plain": [
       "<VegaLite 2 object>\n",
       "\n",
       "If you see this message, it means the renderer has not been properly enabled\n",
       "for the frontend that you are using. For more information, see\n",
       "https://altair-viz.github.io/user_guide/troubleshooting.html\n"
      ]
     },
     "execution_count": 14,
     "metadata": {},
     "output_type": "execute_result"
    }
   ],
   "source": [
    "chart = alt.Chart(pwest).mark_point(size=50, color=\"black\").encode(\n",
    "    x=alt.X(\n",
    "        \"date:T\",\n",
    "        axis=alt.Axis(title=\"\", format=\"%Y\", tickCount=7, grid=False),\n",
    "    ),\n",
    "    y=alt.Y(\n",
    "        \"price:Q\",\n",
    "        axis=alt.Axis(title=\"\", format=\"$s\", grid=False),\n",
    "        scale=alt.Scale(domain=[0, 700000])\n",
    "    ),\n",
    "    tooltip=[\"unit\", \"price\", \"square_feet\", \"price_per_square_foot\"]\n",
    ").properties(width=600)\n",
    "\n",
    "# chart.configure_view(\n",
    "#     strokeOpacity=0\n",
    "# ).save('assets/price-by-date.svg')\n",
    "\n",
    "chart"
   ]
  },
  {
   "cell_type": "code",
   "execution_count": 15,
   "metadata": {},
   "outputs": [
    {
     "data": {
      "application/vnd.vegalite.v2+json": {
       "$schema": "https://vega.github.io/schema/vega-lite/v2.6.0.json",
       "config": {
        "view": {
         "height": 300,
         "width": 400
        }
       },
       "data": {
        "format": {
         "type": "json"
        },
        "url": "altair-data-fd0a46e01d12f93c44640575b123be61.json"
       },
       "encoding": {
        "tooltip": [
         {
          "field": "unit",
          "type": "nominal"
         },
         {
          "field": "price",
          "type": "quantitative"
         },
         {
          "field": "square_feet",
          "type": "quantitative"
         },
         {
          "field": "price_per_square_foot",
          "type": "quantitative"
         }
        ],
        "x": {
         "axis": {
          "format": "%Y",
          "grid": false,
          "tickCount": 7,
          "title": ""
         },
         "field": "date",
         "type": "temporal"
        },
        "y": {
         "axis": {
          "format": "$s",
          "grid": false,
          "title": ""
         },
         "field": "price",
         "scale": {
          "domain": [
           0,
           10000000
          ]
         },
         "type": "quantitative"
        }
       },
       "mark": {
        "color": "gray",
        "size": 50,
        "type": "point"
       },
       "width": 600
      },
      "image/png": "[encoded data removed]",
      "text/plain": [
       "<VegaLite 2 object>\n",
       "\n",
       "If you see this message, it means the renderer has not been properly enabled\n",
       "for the frontend that you are using. For more information, see\n",
       "https://altair-viz.github.io/user_guide/troubleshooting.html\n"
      ]
     },
     "execution_count": 15,
     "metadata": {},
     "output_type": "execute_result"
    }
   ],
   "source": [
    "chart = alt.Chart(df).mark_point(size=50, color=\"gray\").encode(\n",
    "    x=alt.X(\n",
    "        \"date:T\",\n",
    "        axis=alt.Axis(title=\"\", format=\"%Y\", tickCount=7, grid=False),\n",
    "    ),\n",
    "    y=alt.Y(\n",
    "        \"price:Q\",\n",
    "        axis=alt.Axis(title=\"\", format=\"$s\", grid=False),\n",
    "        scale=alt.Scale(domain=[0, 10000000])\n",
    "    ),\n",
    "    tooltip=[\"unit\", \"price\", \"square_feet\", \"price_per_square_foot\"]\n",
    ").properties(width=600)\n",
    "\n",
    "# chart.configure_view(\n",
    "#     strokeOpacity=0\n",
    "# ).save('assets/dtla-price-by-date.svg')\n",
    "\n",
    "chart"
   ]
  },
  {
   "cell_type": "code",
   "execution_count": 16,
   "metadata": {},
   "outputs": [
    {
     "data": {
      "application/vnd.vegalite.v2+json": {
       "$schema": "https://vega.github.io/schema/vega-lite/v2.6.0.json",
       "config": {
        "view": {
         "height": 300,
         "width": 400
        }
       },
       "data": {
        "format": {
         "type": "json"
        },
        "url": "altair-data-f4750c700ee542edadc4f1150462a880.json"
       },
       "encoding": {
        "tooltip": [
         {
          "field": "unit",
          "type": "nominal"
         },
         {
          "field": "price",
          "type": "quantitative"
         },
         {
          "field": "square_feet",
          "type": "quantitative"
         },
         {
          "field": "price_per_square_foot",
          "type": "quantitative"
         }
        ],
        "x": {
         "axis": {
          "format": "%Y",
          "grid": false,
          "tickCount": 7,
          "title": ""
         },
         "field": "date",
         "type": "temporal"
        },
        "y": {
         "axis": {
          "format": "$s",
          "grid": false,
          "title": ""
         },
         "field": "price_per_square_foot",
         "scale": {
          "domain": [
           0,
           600
          ]
         },
         "type": "quantitative"
        }
       },
       "mark": {
        "color": "black",
        "size": 50,
        "type": "point"
       },
       "width": 600
      },
      "image/png": "[encoded data removed]",
      "text/plain": [
       "<VegaLite 2 object>\n",
       "\n",
       "If you see this message, it means the renderer has not been properly enabled\n",
       "for the frontend that you are using. For more information, see\n",
       "https://altair-viz.github.io/user_guide/troubleshooting.html\n"
      ]
     },
     "execution_count": 16,
     "metadata": {},
     "output_type": "execute_result"
    }
   ],
   "source": [
    "chart = alt.Chart(pwest).mark_point(size=50, color=\"black\").encode(\n",
    "    x=alt.X(\n",
    "        \"date:T\",\n",
    "        axis=alt.Axis(title=\"\", format=\"%Y\", tickCount=7, grid=False),\n",
    "    ),\n",
    "    y=alt.Y(\n",
    "        \"price_per_square_foot:Q\",\n",
    "        axis=alt.Axis(title=\"\", format=\"$s\", grid=False),\n",
    "        scale=alt.Scale(domain=[0, 600])\n",
    "    ),\n",
    "    tooltip=[\"unit\", \"price\", \"square_feet\", \"price_per_square_foot\"]\n",
    ").properties(width=600)\n",
    "\n",
    "# chart.configure_view(\n",
    "#     strokeOpacity=0\n",
    "# ).save('assets/price-per-sqft-by-date.svg')\n",
    "\n",
    "chart"
   ]
  },
  {
   "cell_type": "code",
   "execution_count": 17,
   "metadata": {},
   "outputs": [
    {
     "data": {
      "application/vnd.vegalite.v2+json": {
       "$schema": "https://vega.github.io/schema/vega-lite/v2.6.0.json",
       "config": {
        "view": {
         "height": 300,
         "width": 400
        }
       },
       "layer": [
        {
         "data": {
          "format": {
           "type": "json"
          },
          "url": "altair-data-f4750c700ee542edadc4f1150462a880.json"
         },
         "encoding": {
          "x": {
           "axis": {
            "labelAngle": 0,
            "title": ""
           },
           "field": "date",
           "timeUnit": "year",
           "type": "ordinal"
          },
          "y": {
           "aggregate": "median",
           "axis": {
            "format": "$s",
            "grid": false,
            "title": ""
           },
           "field": "price",
           "scale": {
            "domain": [
             0,
             750000
            ]
           },
           "type": "quantitative"
          }
         },
         "mark": {
          "color": "black",
          "type": "bar"
         },
         "width": 600
        },
        {
         "data": {
          "format": {
           "type": "json"
          },
          "url": "altair-data-f4750c700ee542edadc4f1150462a880.json"
         },
         "encoding": {
          "text": {
           "aggregate": "median",
           "field": "price",
           "format": "$,.0f",
           "type": "quantitative"
          },
          "x": {
           "axis": {
            "labelAngle": 0,
            "title": ""
           },
           "field": "date",
           "timeUnit": "year",
           "type": "ordinal"
          },
          "y": {
           "aggregate": "median",
           "axis": {
            "format": "$s",
            "grid": false,
            "title": ""
           },
           "field": "price",
           "scale": {
            "domain": [
             0,
             750000
            ]
           },
           "type": "quantitative"
          }
         },
         "mark": {
          "align": "center",
          "baseline": "middle",
          "dy": -9,
          "size": 13,
          "type": "text"
         },
         "width": 600
        }
       ]
      },
      "image/png": "[encoded data removed]",
      "text/plain": [
       "<VegaLite 2 object>\n",
       "\n",
       "If you see this message, it means the renderer has not been properly enabled\n",
       "for the frontend that you are using. For more information, see\n",
       "https://altair-viz.github.io/user_guide/troubleshooting.html\n"
      ]
     },
     "execution_count": 17,
     "metadata": {},
     "output_type": "execute_result"
    }
   ],
   "source": [
    "bars = alt.Chart(pwest).mark_bar(color=\"black\").encode(\n",
    "    x=alt.X(\n",
    "        \"date:O\",\n",
    "        timeUnit=\"year\",\n",
    "        axis=alt.Axis(title=\"\", labelAngle=0),\n",
    "    ),\n",
    "    y=alt.Y(\n",
    "        \"median(price):Q\",\n",
    "        axis=alt.Axis(title=\"\", format=\"$s\", grid=False),\n",
    "        scale=alt.Scale(domain=[0, 750000]),\n",
    "    ),\n",
    ").properties(width=600)\n",
    "\n",
    "text = bars.mark_text(\n",
    "    align='center',\n",
    "    baseline='middle',\n",
    "    dy=-9,\n",
    "    size=13\n",
    ").encode(\n",
    "    text=alt.Text('median(price):Q', format=\"$,.0f\")\n",
    ")\n",
    "\n",
    "chart = bars + text\n",
    "\n",
    "# chart.configure_view(\n",
    "#     strokeOpacity=0\n",
    "# ).save('assets/price-by-year.svg')\n",
    "\n",
    "chart"
   ]
  },
  {
   "cell_type": "code",
   "execution_count": 18,
   "metadata": {},
   "outputs": [
    {
     "data": {
      "application/vnd.vegalite.v2+json": {
       "$schema": "https://vega.github.io/schema/vega-lite/v2.6.0.json",
       "config": {
        "view": {
         "height": 300,
         "width": 400
        }
       },
       "layer": [
        {
         "data": {
          "format": {
           "type": "json"
          },
          "url": "altair-data-fd0a46e01d12f93c44640575b123be61.json"
         },
         "encoding": {
          "x": {
           "axis": {
            "labelAngle": 0,
            "title": ""
           },
           "field": "date",
           "timeUnit": "year",
           "type": "ordinal"
          },
          "y": {
           "aggregate": "median",
           "axis": {
            "format": "$s",
            "grid": false,
            "title": ""
           },
           "field": "price",
           "scale": {
            "domain": [
             0,
             750000
            ]
           },
           "type": "quantitative"
          }
         },
         "mark": {
          "color": "gray",
          "type": "bar"
         },
         "width": 600
        },
        {
         "data": {
          "format": {
           "type": "json"
          },
          "url": "altair-data-fd0a46e01d12f93c44640575b123be61.json"
         },
         "encoding": {
          "text": {
           "aggregate": "median",
           "field": "price",
           "format": "$,.0f",
           "type": "quantitative"
          },
          "x": {
           "axis": {
            "labelAngle": 0,
            "title": ""
           },
           "field": "date",
           "timeUnit": "year",
           "type": "ordinal"
          },
          "y": {
           "aggregate": "median",
           "axis": {
            "format": "$s",
            "grid": false,
            "title": ""
           },
           "field": "price",
           "scale": {
            "domain": [
             0,
             750000
            ]
           },
           "type": "quantitative"
          }
         },
         "mark": {
          "align": "center",
          "baseline": "middle",
          "dy": -9,
          "size": 13,
          "type": "text"
         },
         "width": 600
        }
       ]
      },
      "image/png": "[encoded data removed]",
      "text/plain": [
       "<VegaLite 2 object>\n",
       "\n",
       "If you see this message, it means the renderer has not been properly enabled\n",
       "for the frontend that you are using. For more information, see\n",
       "https://altair-viz.github.io/user_guide/troubleshooting.html\n"
      ]
     },
     "execution_count": 18,
     "metadata": {},
     "output_type": "execute_result"
    }
   ],
   "source": [
    "bars = alt.Chart(df).mark_bar(color=\"gray\").encode(\n",
    "    x=alt.X(\n",
    "        \"date:O\",\n",
    "        timeUnit=\"year\",\n",
    "        axis=alt.Axis(title=\"\", labelAngle=0),\n",
    "    ),\n",
    "    y=alt.Y(\n",
    "        \"median(price):Q\",\n",
    "        axis=alt.Axis(title=\"\", format=\"$s\", grid=False),\n",
    "        scale=alt.Scale(domain=[0, 750000]),\n",
    "    ),\n",
    ").properties(width=600)\n",
    "\n",
    "text = bars.mark_text(\n",
    "    align='center',\n",
    "    baseline='middle',\n",
    "    dy=-9,\n",
    "    size=13\n",
    ").encode(\n",
    "    text=alt.Text('median(price):Q', format=\"$,.0f\")\n",
    ")\n",
    "\n",
    "chart = bars + text\n",
    "\n",
    "# chart.configure_view(\n",
    "#     strokeOpacity=0\n",
    "# ).save('assets/dtla-price-by-year.svg')\n",
    "\n",
    "chart"
   ]
  },
  {
   "cell_type": "code",
   "execution_count": 19,
   "metadata": {},
   "outputs": [
    {
     "data": {
      "application/vnd.vegalite.v2+json": {
       "$schema": "https://vega.github.io/schema/vega-lite/v2.6.0.json",
       "config": {
        "view": {
         "height": 300,
         "width": 400
        }
       },
       "layer": [
        {
         "data": {
          "format": {
           "type": "json"
          },
          "url": "altair-data-f4750c700ee542edadc4f1150462a880.json"
         },
         "encoding": {
          "x": {
           "axis": {
            "labelAngle": 0,
            "title": ""
           },
           "field": "date",
           "timeUnit": "year",
           "type": "ordinal"
          },
          "y": {
           "aggregate": "median",
           "axis": {
            "format": "$s",
            "grid": false,
            "title": ""
           },
           "field": "price_per_square_foot",
           "scale": {
            "domain": [
             0,
             750
            ]
           },
           "type": "quantitative"
          }
         },
         "mark": {
          "color": "black",
          "type": "bar"
         },
         "width": 600
        },
        {
         "data": {
          "format": {
           "type": "json"
          },
          "url": "altair-data-f4750c700ee542edadc4f1150462a880.json"
         },
         "encoding": {
          "text": {
           "aggregate": "median",
           "field": "price_per_square_foot",
           "format": "$,.0f",
           "type": "quantitative"
          },
          "x": {
           "axis": {
            "labelAngle": 0,
            "title": ""
           },
           "field": "date",
           "timeUnit": "year",
           "type": "ordinal"
          },
          "y": {
           "aggregate": "median",
           "axis": {
            "format": "$s",
            "grid": false,
            "title": ""
           },
           "field": "price_per_square_foot",
           "scale": {
            "domain": [
             0,
             750
            ]
           },
           "type": "quantitative"
          }
         },
         "mark": {
          "align": "center",
          "baseline": "middle",
          "dy": -9,
          "size": 13,
          "type": "text"
         },
         "width": 600
        }
       ]
      },
      "image/png": "[encoded data removed]",
      "text/plain": [
       "<VegaLite 2 object>\n",
       "\n",
       "If you see this message, it means the renderer has not been properly enabled\n",
       "for the frontend that you are using. For more information, see\n",
       "https://altair-viz.github.io/user_guide/troubleshooting.html\n"
      ]
     },
     "execution_count": 19,
     "metadata": {},
     "output_type": "execute_result"
    }
   ],
   "source": [
    "bars = alt.Chart(pwest).mark_bar(color=\"black\").encode(\n",
    "    x=alt.X(\n",
    "        \"date:O\",\n",
    "        timeUnit=\"year\",\n",
    "        axis=alt.Axis(title=\"\", labelAngle=0),\n",
    "    ),\n",
    "    y=alt.Y(\n",
    "        \"median(price_per_square_foot):Q\",\n",
    "        axis=alt.Axis(title=\"\", format=\"$s\", grid=False),\n",
    "        scale=alt.Scale(domain=[0, 750]),\n",
    "    ),\n",
    ").properties(width=600)\n",
    "\n",
    "text = bars.mark_text(\n",
    "    align='center',\n",
    "    baseline='middle',\n",
    "    dy=-9,\n",
    "    size=13\n",
    ").encode(\n",
    "    text=alt.Text('median(price_per_square_foot):Q', format=\"$,.0f\")\n",
    ")\n",
    "\n",
    "chart = bars + text\n",
    "\n",
    "# chart.configure_view(\n",
    "#     strokeOpacity=0\n",
    "# ).save('assets/price-per-sqft-by-year.svg')\n",
    "\n",
    "chart"
   ]
  },
  {
   "cell_type": "code",
   "execution_count": 20,
   "metadata": {},
   "outputs": [
    {
     "data": {
      "application/vnd.vegalite.v2+json": {
       "$schema": "https://vega.github.io/schema/vega-lite/v2.6.0.json",
       "config": {
        "view": {
         "height": 300,
         "width": 400
        }
       },
       "layer": [
        {
         "data": {
          "format": {
           "type": "json"
          },
          "url": "altair-data-fd0a46e01d12f93c44640575b123be61.json"
         },
         "encoding": {
          "x": {
           "axis": {
            "labelAngle": 0,
            "title": ""
           },
           "field": "date",
           "timeUnit": "year",
           "type": "ordinal"
          },
          "y": {
           "aggregate": "median",
           "axis": {
            "format": "$s",
            "grid": false,
            "title": ""
           },
           "field": "price_per_square_foot",
           "scale": {
            "domain": [
             0,
             750
            ]
           },
           "type": "quantitative"
          }
         },
         "mark": {
          "color": "gray",
          "type": "bar"
         },
         "width": 600
        },
        {
         "data": {
          "format": {
           "type": "json"
          },
          "url": "altair-data-fd0a46e01d12f93c44640575b123be61.json"
         },
         "encoding": {
          "text": {
           "aggregate": "median",
           "field": "price_per_square_foot",
           "format": "$,.0f",
           "type": "quantitative"
          },
          "x": {
           "axis": {
            "labelAngle": 0,
            "title": ""
           },
           "field": "date",
           "timeUnit": "year",
           "type": "ordinal"
          },
          "y": {
           "aggregate": "median",
           "axis": {
            "format": "$s",
            "grid": false,
            "title": ""
           },
           "field": "price_per_square_foot",
           "scale": {
            "domain": [
             0,
             750
            ]
           },
           "type": "quantitative"
          }
         },
         "mark": {
          "align": "center",
          "baseline": "middle",
          "dy": -9,
          "size": 13,
          "type": "text"
         },
         "width": 600
        }
       ]
      },
      "image/png": "[encoded data removed]",
      "text/plain": [
       "<VegaLite 2 object>\n",
       "\n",
       "If you see this message, it means the renderer has not been properly enabled\n",
       "for the frontend that you are using. For more information, see\n",
       "https://altair-viz.github.io/user_guide/troubleshooting.html\n"
      ]
     },
     "execution_count": 20,
     "metadata": {},
     "output_type": "execute_result"
    }
   ],
   "source": [
    "bars = alt.Chart(df).mark_bar(color=\"gray\").encode(\n",
    "    x=alt.X(\n",
    "        \"date:O\",\n",
    "        timeUnit=\"year\",\n",
    "        axis=alt.Axis(title=\"\", labelAngle=0),\n",
    "    ),\n",
    "    y=alt.Y(\n",
    "        \"median(price_per_square_foot):Q\",\n",
    "        axis=alt.Axis(title=\"\", format=\"$s\", grid=False),\n",
    "        scale=alt.Scale(domain=[0, 750]),\n",
    "    ),\n",
    ").properties(width=600)\n",
    "\n",
    "text = bars.mark_text(\n",
    "    align='center',\n",
    "    baseline='middle',\n",
    "    dy=-9,\n",
    "    size=13\n",
    ").encode(\n",
    "    text=alt.Text('median(price_per_square_foot):Q', format=\"$,.0f\")\n",
    ")\n",
    "\n",
    "chart = bars + text\n",
    "\n",
    "# chart.configure_view(\n",
    "#     strokeOpacity=0\n",
    "# ).save('assets/dtla-price-per-sqft-by-year.svg')\n",
    "\n",
    "chart"
   ]
  },
  {
   "cell_type": "markdown",
   "metadata": {},
   "source": [
    "## Bunker Hill"
   ]
  },
  {
   "cell_type": "code",
   "execution_count": 21,
   "metadata": {},
   "outputs": [],
   "source": [
    "bunker_hill = df[df.region == 'Bunker Hill']"
   ]
  },
  {
   "cell_type": "code",
   "execution_count": 29,
   "metadata": {},
   "outputs": [],
   "source": [
    "bunker_hill.groupby([\"building_name\", \"year\"]).price.median().unstack(1).reset_index().to_csv(\"./_data/bunker_hill_prices.csv\", index=False)"
   ]
  },
  {
   "cell_type": "code",
   "execution_count": 33,
   "metadata": {},
   "outputs": [],
   "source": [
    "bunker_hill.groupby([\"building_name\", \"year\"]).price_per_square_foot.median().unstack(1).reset_index().to_csv(\"./_data/bunker_hill_price_per_sqft.csv\", index=False)"
   ]
  },
  {
   "cell_type": "code",
   "execution_count": 34,
   "metadata": {},
   "outputs": [],
   "source": [
    "bunker_hill.groupby([\"building_name\", \"year\"]).size().rename(\"sale\").unstack(1).reset_index().to_csv(\"./_data/bunker_hill_sales.csv\", index=False)"
   ]
  },
  {
   "cell_type": "code",
   "execution_count": null,
   "metadata": {},
   "outputs": [],
   "source": [
    "json.dump(year_over_year_comparison(bunker_hill), open(\"./_data/bunkerhill.json\", \"w\"), indent=4)"
   ]
  },
  {
   "cell_type": "code",
   "execution_count": null,
   "metadata": {},
   "outputs": [],
   "source": [
    "chart = alt.Chart(bunker_hill).mark_bar().encode(\n",
    "    x=alt.X(\"date:O\", timeUnit=\"year\", axis=alt.Axis(labelAngle=0, title=\"\")),\n",
    "    y=alt.Y(\"count()\", scale=alt.Scale(domain=(0, 20)), axis=alt.Axis(title=\"\", grid=False)),\n",
    "    column=\"building_name:N\"\n",
    ").properties(width=200)\n",
    "\n",
    "# chart.configure_view(\n",
    "#     strokeOpacity=0\n",
    "# ).save('assets/sales-by-year.svg')\n",
    "\n",
    "chart"
   ]
  },
  {
   "cell_type": "code",
   "execution_count": null,
   "metadata": {},
   "outputs": [],
   "source": [
    "chart = alt.Chart(bunker_hill).mark_point(size=50).encode(\n",
    "    x=alt.X(\n",
    "        \"date:T\",\n",
    "        axis=alt.Axis(title=\"\", format=\"%Y\", tickCount=7, grid=False),\n",
    "    ),\n",
    "    y=alt.Y(\n",
    "        \"price:Q\",\n",
    "        axis=alt.Axis(title=\"\", format=\"$s\", grid=False),\n",
    "    ),\n",
    "    color=\"building_name\",\n",
    "    tooltip=[\"building_name\", \"unit\", \"price\", \"square_feet\", \"price_per_square_foot\"]\n",
    ").properties(width=600)\n",
    "\n",
    "# chart.configure_view(\n",
    "#     strokeOpacity=0\n",
    "# ).save('assets/price-by-date.svg')\n",
    "\n",
    "chart"
   ]
  },
  {
   "cell_type": "code",
   "execution_count": null,
   "metadata": {},
   "outputs": [],
   "source": [
    "bunker_hill.head()"
   ]
  },
  {
   "cell_type": "code",
   "execution_count": null,
   "metadata": {},
   "outputs": [],
   "source": [
    "pd.merge(\n",
    "    bunker_hill.groupby([\"building_name\", 'year']).price.median().reset_index(),\n",
    "    bunker_hill.groupby([\"building_name\", 'year']).price_per_square_foot.median().reset_index()\n",
    ").pivot(index=\"year\")"
   ]
  },
  {
   "cell_type": "code",
   "execution_count": null,
   "metadata": {},
   "outputs": [],
   "source": [
    "chart = alt.Chart(bunker_hill).mark_point(size=50).encode(\n",
    "    x=alt.X(\n",
    "        \"date:T\",\n",
    "        axis=alt.Axis(title=\"\", format=\"%Y\", tickCount=7, grid=False),\n",
    "    ),\n",
    "    y=alt.Y(\n",
    "        \"price_per_square_foot:Q\",\n",
    "        axis=alt.Axis(title=\"\", format=\"$s\", grid=False)\n",
    "    ),\n",
    "    color=\"building_name:N\",\n",
    "    tooltip=[\"building_name\", \"unit\", \"price\", \"square_feet\", \"price_per_square_foot\"]\n",
    ").properties(width=600)\n",
    "\n",
    "# chart.configure_view(\n",
    "#     strokeOpacity=0\n",
    "# ).save('assets/price-per-sqft-by-date.svg')\n",
    "\n",
    "chart"
   ]
  },
  {
   "cell_type": "code",
   "execution_count": null,
   "metadata": {},
   "outputs": [],
   "source": [
    "chart = alt.Chart(bunker_hill).mark_bar().encode(\n",
    "    x=alt.X(\n",
    "        \"date:O\",\n",
    "        timeUnit=\"year\",\n",
    "        axis=alt.Axis(title=\"\", labelAngle=0),\n",
    "    ),\n",
    "    y=alt.Y(\n",
    "        \"median(price):Q\",\n",
    "        axis=alt.Axis(title=\"\", format=\"$s\", grid=False),\n",
    "        scale=alt.Scale(domain=[0, 700000]),\n",
    "    ),\n",
    "    column=\"building_name:N\"\n",
    ").properties(width=200)\n",
    "\n",
    "# chart.configure_view(\n",
    "#     strokeOpacity=0\n",
    "# ).save('assets/price-by-year.svg')\n",
    "\n",
    "chart"
   ]
  },
  {
   "cell_type": "code",
   "execution_count": null,
   "metadata": {},
   "outputs": [],
   "source": [
    "chart = alt.Chart(bunker_hill).mark_bar().encode(\n",
    "    x=alt.X(\n",
    "        \"date:O\",\n",
    "        timeUnit=\"year\",\n",
    "        axis=alt.Axis(title=\"\", labelAngle=0),\n",
    "    ),\n",
    "    y=alt.Y(\n",
    "        \"median(price_per_square_foot):Q\",\n",
    "        axis=alt.Axis(title=\"\", format=\"$s\", grid=False),\n",
    "    ),\n",
    "    column=\"building_name:N\"\n",
    ").properties(width=200)\n",
    "\n",
    "# chart.configure_view(\n",
    "#     strokeOpacity=0\n",
    "# ).save('assets/price-by-year.svg')\n",
    "\n",
    "chart"
   ]
  },
  {
   "cell_type": "code",
   "execution_count": null,
   "metadata": {},
   "outputs": [],
   "source": [
    "chart = alt.Chart(bunker_hill).mark_bar().encode(\n",
    "    x=alt.X(\n",
    "        \"date:O\",\n",
    "        timeUnit=\"year\",\n",
    "        axis=alt.Axis(title=\"\", labelAngle=0),\n",
    "    ),\n",
    "    y=alt.Y(\n",
    "        \"median(square_feet):Q\",\n",
    "        axis=alt.Axis(title=\"\", grid=False),\n",
    "    ),\n",
    "    column=\"building_name:N\"\n",
    ").properties(width=200)\n",
    "\n",
    "# chart.configure_view(\n",
    "#     strokeOpacity=0\n",
    "# ).save('assets/price-by-year.svg')\n",
    "\n",
    "chart"
   ]
  },
  {
   "cell_type": "markdown",
   "metadata": {},
   "source": [
    "## Region"
   ]
  },
  {
   "cell_type": "code",
   "execution_count": null,
   "metadata": {},
   "outputs": [],
   "source": [
    "json.dump(year_over_year_comparison(df), open(\"./_data/dtla.json\", \"w\"), indent=4)"
   ]
  },
  {
   "cell_type": "code",
   "execution_count": null,
   "metadata": {},
   "outputs": [],
   "source": [
    "chart = alt.Chart(df).mark_point(size=50).encode(\n",
    "    x=alt.X(\n",
    "        \"date:T\",\n",
    "        axis=alt.Axis(title=\"\", format=\"%Y\", tickCount=7, grid=False),\n",
    "    ),\n",
    "    y=alt.Y(\n",
    "        \"price:Q\",\n",
    "        axis=alt.Axis(title=\"\", format=\"$s\", grid=False),\n",
    "    ),\n",
    "    color=\"region\",\n",
    "    tooltip=[\"region\", \"building_name\", \"unit\", \"price\", \"square_feet\", \"price_per_square_foot\"]\n",
    ").properties(width=600)\n",
    "\n",
    "# chart.configure_view(\n",
    "#     strokeOpacity=0\n",
    "# ).save('assets/price-by-date.svg')\n",
    "\n",
    "chart"
   ]
  },
  {
   "cell_type": "code",
   "execution_count": null,
   "metadata": {},
   "outputs": [],
   "source": [
    "chart = alt.Chart(df).mark_point(size=50).encode(\n",
    "    x=alt.X(\n",
    "        \"date:T\",\n",
    "        axis=alt.Axis(title=\"\", format=\"%Y\", tickCount=7, grid=False),\n",
    "    ),\n",
    "    y=alt.Y(\n",
    "        \"price_per_square_foot:Q\",\n",
    "        axis=alt.Axis(title=\"\", format=\"$s\", grid=False),\n",
    "    ),\n",
    "    color=\"region\",\n",
    "    tooltip=[\"region\", \"building_name\", \"unit\", \"price\", \"square_feet\", \"price_per_square_foot\"]\n",
    ").properties(width=600)\n",
    "\n",
    "# chart.configure_view(\n",
    "#     strokeOpacity=0\n",
    "# ).save('assets/price-by-date.svg')\n",
    "\n",
    "chart"
   ]
  },
  {
   "cell_type": "code",
   "execution_count": null,
   "metadata": {},
   "outputs": [],
   "source": [
    "chart = alt.Chart(df).mark_bar().encode(\n",
    "    x=alt.X(\n",
    "        \"date:O\",\n",
    "        timeUnit=\"year\",\n",
    "        axis=alt.Axis(title=\"\", labelAngle=0),\n",
    "    ),\n",
    "    y=alt.Y(\n",
    "        \"median(price):Q\",\n",
    "        axis=alt.Axis(title=\"\", format=\"$s\", grid=False),\n",
    "    ),\n",
    "    column=\"region:N\"\n",
    ").properties(width=200)\n",
    "\n",
    "# chart.configure_view(\n",
    "#     strokeOpacity=0\n",
    "# ).save('assets/price-by-year.svg')\n",
    "\n",
    "chart"
   ]
  },
  {
   "cell_type": "code",
   "execution_count": null,
   "metadata": {},
   "outputs": [],
   "source": [
    "chart = alt.Chart(df).mark_bar().encode(\n",
    "    x=alt.X(\n",
    "        \"date:O\",\n",
    "        timeUnit=\"year\",\n",
    "        axis=alt.Axis(title=\"\", labelAngle=0),\n",
    "    ),\n",
    "    y=alt.Y(\n",
    "        \"median(price_per_square_foot):Q\",\n",
    "        axis=alt.Axis(title=\"\", format=\"$s\", grid=False),\n",
    "    ),\n",
    "    column=\"region:N\"\n",
    ").properties(width=200)\n",
    "\n",
    "# chart.configure_view(\n",
    "#     strokeOpacity=0\n",
    "# ).save('assets/price-by-year.svg')\n",
    "\n",
    "chart"
   ]
  },
  {
   "cell_type": "code",
   "execution_count": null,
   "metadata": {},
   "outputs": [],
   "source": [
    "chart = alt.Chart(df).mark_line().encode(\n",
    "    x=alt.X(\n",
    "        \"date:O\",\n",
    "        timeUnit=\"yearmonth\",\n",
    "        axis=alt.Axis(title=\"\", labelAngle=0),\n",
    "    ),\n",
    "    y=alt.Y(\n",
    "        \"median(price):Q\",\n",
    "        axis=alt.Axis(title=\"\", format=\"$s\", grid=False),\n",
    "    ),\n",
    "    color=\"region:N\"\n",
    ").properties(width=600)\n",
    "\n",
    "# chart.configure_view(\n",
    "#     strokeOpacity=0\n",
    "# ).save('assets/price-by-year.svg')\n",
    "\n",
    "chart"
   ]
  },
  {
   "cell_type": "code",
   "execution_count": null,
   "metadata": {},
   "outputs": [],
   "source": [
    "chart = alt.Chart(df).mark_line().encode(\n",
    "    x=alt.X(\n",
    "        \"date:O\",\n",
    "        timeUnit=\"yearmonth\",\n",
    "        axis=alt.Axis(title=\"\", labelAngle=0),\n",
    "    ),\n",
    "    y=alt.Y(\n",
    "        \"median(price):Q\",\n",
    "        axis=alt.Axis(title=\"\", format=\"$s\", grid=False),\n",
    "    ),\n",
    ").properties(width=600)\n",
    "\n",
    "# chart.configure_view(\n",
    "#     strokeOpacity=0\n",
    "# ).save('assets/price-by-year.svg')\n",
    "\n",
    "chart"
   ]
  },
  {
   "cell_type": "markdown",
   "metadata": {},
   "source": [
    "## Rankings"
   ]
  },
  {
   "cell_type": "code",
   "execution_count": null,
   "metadata": {},
   "outputs": [],
   "source": [
    "building_ranking = df.groupby([\"building_name\", \"region\"]).agg({\n",
    "    \"unit\": \"count\",\n",
    "    \"price\": \"median\",\n",
    "    \"price_per_square_foot\": \"median\",\n",
    "    \"square_feet\": \"median\",\n",
    "})"
   ]
  },
  {
   "cell_type": "code",
   "execution_count": null,
   "metadata": {},
   "outputs": [],
   "source": [
    "building_ranking.sort_values(\"price_per_square_foot\", ascending=False)"
   ]
  },
  {
   "cell_type": "code",
   "execution_count": null,
   "metadata": {},
   "outputs": [],
   "source": [
    "region_ranking = df.groupby([\"region\"]).agg({\n",
    "    \"unit\": \"count\",\n",
    "    \"price\": \"median\",\n",
    "    \"price_per_square_foot\": \"median\",\n",
    "    \"square_feet\": \"median\",\n",
    "})"
   ]
  },
  {
   "cell_type": "code",
   "execution_count": null,
   "metadata": {},
   "outputs": [],
   "source": [
    "region_ranking.sort_values(\"price_per_square_foot\", ascending=False)"
   ]
  },
  {
   "cell_type": "markdown",
   "metadata": {},
   "source": [
    "## Last 12 months"
   ]
  },
  {
   "cell_type": "code",
   "execution_count": null,
   "metadata": {},
   "outputs": [],
   "source": [
    "one_year_ago = datetime.now() - timedelta(days=365)"
   ]
  },
  {
   "cell_type": "code",
   "execution_count": null,
   "metadata": {},
   "outputs": [],
   "source": [
    "last_year = df[df.date > one_year_ago]"
   ]
  },
  {
   "cell_type": "code",
   "execution_count": null,
   "metadata": {},
   "outputs": [],
   "source": [
    "last_year.groupby([\"building_name\", \"region\"]).agg({\n",
    "    \"unit\": \"count\",\n",
    "    \"price\": \"median\",\n",
    "    \"price_per_square_foot\": \"median\",\n",
    "    \"square_feet\": \"median\",\n",
    "}).sort_values(\"price_per_square_foot\", ascending=False)"
   ]
  },
  {
   "cell_type": "code",
   "execution_count": null,
   "metadata": {},
   "outputs": [],
   "source": [
    "df.groupby([\"region\"]).agg({\n",
    "    \"unit\": \"count\",\n",
    "    \"price\": \"median\",\n",
    "    \"price_per_square_foot\": \"median\",\n",
    "    \"square_feet\": \"median\",\n",
    "}).sort_values(\"price_per_square_foot\", ascending=False)"
   ]
  },
  {
   "cell_type": "markdown",
   "metadata": {},
   "source": [
    "## Largest units"
   ]
  },
  {
   "cell_type": "code",
   "execution_count": null,
   "metadata": {},
   "outputs": [],
   "source": [
    "chart = alt.Chart(df).mark_bar().encode(\n",
    "    x=alt.X(\n",
    "        \"median(square_feet):Q\",\n",
    "        axis=alt.Axis(title=\"\")\n",
    "    ),\n",
    "    y=alt.Y(\n",
    "        \"building_name:N\",\n",
    "        axis=alt.Axis(title=\"\"),\n",
    "        sort=alt.SortField(field=\"square_feet\", op=\"median\", order=\"descending\")\n",
    "    ),\n",
    "    color=alt.condition(\n",
    "        alt.datum.building_name == 'Promenade West',\n",
    "        alt.value(\"black\"),\n",
    "        alt.value(\"gray\")\n",
    "    )\n",
    ")\n",
    "\n",
    "chart.configure_view(\n",
    "    strokeOpacity=0\n",
    ").save('assets/size-by-building.svg')\n",
    "\n",
    "chart"
   ]
  },
  {
   "cell_type": "raw",
   "metadata": {},
   "source": []
  }
 ],
 "metadata": {
  "kernelspec": {
   "display_name": "Python 3",
   "language": "python",
   "name": "python3"
  },
  "language_info": {
   "codemirror_mode": {
    "name": "ipython",
    "version": 3
   },
   "file_extension": ".py",
   "mimetype": "text/x-python",
   "name": "python",
   "nbconvert_exporter": "python",
   "pygments_lexer": "ipython3",
   "version": "3.6.4"
  }
 },
 "nbformat": 4,
 "nbformat_minor": 2
}
