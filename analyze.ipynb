{
 "cells": [
  {
   "cell_type": "code",
   "execution_count": 62,
   "metadata": {},
   "outputs": [],
   "source": [
    "import pandas as pd\n",
    "import altair as alt"
   ]
  },
  {
   "cell_type": "code",
   "execution_count": 63,
   "metadata": {},
   "outputs": [],
   "source": [
    "df = pd.read_csv(\"./_data/sales.csv\")"
   ]
  },
  {
   "cell_type": "markdown",
   "metadata": {},
   "source": [
    "### Most recent sales"
   ]
  },
  {
   "cell_type": "code",
   "execution_count": 64,
   "metadata": {},
   "outputs": [
    {
     "data": {
      "text/html": [
       "<div>\n",
       "<style scoped>\n",
       "    .dataframe tbody tr th:only-of-type {\n",
       "        vertical-align: middle;\n",
       "    }\n",
       "\n",
       "    .dataframe tbody tr th {\n",
       "        vertical-align: top;\n",
       "    }\n",
       "\n",
       "    .dataframe thead th {\n",
       "        text-align: right;\n",
       "    }\n",
       "</style>\n",
       "<table border=\"1\" class=\"dataframe\">\n",
       "  <thead>\n",
       "    <tr style=\"text-align: right;\">\n",
       "      <th></th>\n",
       "      <th>date</th>\n",
       "      <th>unit</th>\n",
       "      <th>price</th>\n",
       "      <th>square_feet</th>\n",
       "      <th>price_per_square_foot</th>\n",
       "    </tr>\n",
       "  </thead>\n",
       "  <tbody>\n",
       "    <tr>\n",
       "      <th>0</th>\n",
       "      <td>2018-06-12</td>\n",
       "      <td>527</td>\n",
       "      <td>600000</td>\n",
       "      <td>1323</td>\n",
       "      <td>453.514739</td>\n",
       "    </tr>\n",
       "    <tr>\n",
       "      <th>1</th>\n",
       "      <td>2018-04-11</td>\n",
       "      <td>706</td>\n",
       "      <td>598000</td>\n",
       "      <td>1348</td>\n",
       "      <td>443.620178</td>\n",
       "    </tr>\n",
       "    <tr>\n",
       "      <th>2</th>\n",
       "      <td>2018-02-01</td>\n",
       "      <td>409</td>\n",
       "      <td>590000</td>\n",
       "      <td>1323</td>\n",
       "      <td>445.956160</td>\n",
       "    </tr>\n",
       "    <tr>\n",
       "      <th>3</th>\n",
       "      <td>2018-01-24</td>\n",
       "      <td>315</td>\n",
       "      <td>615000</td>\n",
       "      <td>1509</td>\n",
       "      <td>407.554672</td>\n",
       "    </tr>\n",
       "    <tr>\n",
       "      <th>4</th>\n",
       "      <td>2017-12-13</td>\n",
       "      <td>804</td>\n",
       "      <td>455000</td>\n",
       "      <td>1006</td>\n",
       "      <td>452.286282</td>\n",
       "    </tr>\n",
       "  </tbody>\n",
       "</table>\n",
       "</div>"
      ],
      "text/plain": [
       "         date  unit   price  square_feet  price_per_square_foot\n",
       "0  2018-06-12   527  600000         1323             453.514739\n",
       "1  2018-04-11   706  598000         1348             443.620178\n",
       "2  2018-02-01   409  590000         1323             445.956160\n",
       "3  2018-01-24   315  615000         1509             407.554672\n",
       "4  2017-12-13   804  455000         1006             452.286282"
      ]
     },
     "execution_count": 64,
     "metadata": {},
     "output_type": "execute_result"
    }
   ],
   "source": [
    "df.sort_values(\"date\", ascending=False)[[\n",
    "    'date',\n",
    "    'unit',\n",
    "    'price',\n",
    "    'square_feet',\n",
    "    'price_per_square_foot'\n",
    "]].head(5)"
   ]
  },
  {
   "cell_type": "markdown",
   "metadata": {},
   "source": [
    "### The pace of sales"
   ]
  },
  {
   "cell_type": "code",
   "execution_count": 65,
   "metadata": {},
   "outputs": [
    {
     "data": {
      "application/vnd.vegalite.v2+json": {
       "$schema": "https://vega.github.io/schema/vega-lite/v2.4.3.json",
       "config": {
        "view": {
         "height": 300,
         "width": 400
        }
       },
       "layer": [
        {
         "data": {
          "values": [
           {
            "bathrooms": 2,
            "bedrooms": 2,
            "date": "2018-06-12",
            "price": 600000,
            "price_per_square_foot": 453.51473922902494,
            "square_feet": 1323,
            "unit": 527,
            "url": "https://www.dlxco.com/the-promenade-west-lofts-condos-for-sale-lease-downtown-losangeles?mlsno=18-334730"
           },
           {
            "bathrooms": 2,
            "bedrooms": 2,
            "date": "2018-04-11",
            "price": 598000,
            "price_per_square_foot": 443.62017804154294,
            "square_feet": 1348,
            "unit": 706,
            "url": "https://www.dlxco.com/the-promenade-west-lofts-condos-for-sale-lease-downtown-losangeles?mlsno=SR18004194CN"
           },
           {
            "bathrooms": 2,
            "bedrooms": 2,
            "date": "2018-02-01",
            "price": 590000,
            "price_per_square_foot": 445.95616024187444,
            "square_feet": 1323,
            "unit": 409,
            "url": "https://www.dlxco.com/the-promenade-west-lofts-condos-for-sale-lease-downtown-losangeles?mlsno=18-302636"
           },
           {
            "bathrooms": 3,
            "bedrooms": 2,
            "date": "2018-01-24",
            "price": 615000,
            "price_per_square_foot": 407.55467196819086,
            "square_feet": 1509,
            "unit": 315,
            "url": "https://www.dlxco.com/the-promenade-west-lofts-condos-for-sale-lease-downtown-losangeles?mlsno=17-280756"
           },
           {
            "bathrooms": 1,
            "bedrooms": 1,
            "date": "2017-12-13",
            "price": 455000,
            "price_per_square_foot": 452.286282306163,
            "square_feet": 1006,
            "unit": 804,
            "url": "https://www.dlxco.com/the-promenade-west-lofts-condos-for-sale-lease-downtown-losangeles?mlsno=17-276468"
           },
           {
            "bathrooms": 2,
            "bedrooms": 1,
            "date": "2017-12-08",
            "price": 450000,
            "price_per_square_foot": 447.31610337972165,
            "square_feet": 1006,
            "unit": 803,
            "url": "https://www.dlxco.com/the-promenade-west-lofts-condos-for-sale-lease-downtown-losangeles?mlsno=RS17251377MR"
           },
           {
            "bathrooms": 2,
            "bedrooms": 2,
            "date": "2017-08-31",
            "price": 555000,
            "price_per_square_foot": 450.48701298701303,
            "square_feet": 1232,
            "unit": 511,
            "url": "https://www.dlxco.com/the-promenade-west-lofts-condos-for-sale-lease-downtown-losangeles?mlsno=SR17142069CN"
           },
           {
            "bathrooms": 2,
            "bedrooms": 2,
            "date": "2017-08-22",
            "price": 573000,
            "price_per_square_foot": 470.8299096138044,
            "square_feet": 1217,
            "unit": 305,
            "url": "https://www.dlxco.com/the-promenade-west-lofts-condos-for-sale-lease-downtown-losangeles?mlsno=17-241720"
           },
           {
            "bathrooms": 3,
            "bedrooms": 2,
            "date": "2017-07-31",
            "price": 580000,
            "price_per_square_foot": 386.66666666666674,
            "square_feet": 1500,
            "unit": 316,
            "url": "https://www.dlxco.com/the-promenade-west-lofts-condos-for-sale-lease-downtown-losangeles?mlsno=17-206676"
           },
           {
            "bathrooms": 1,
            "bedrooms": 1,
            "date": "2017-07-24",
            "price": 462000,
            "price_per_square_foot": 465.72580645161287,
            "square_feet": 992,
            "unit": 712,
            "url": "https://www.dlxco.com/the-promenade-west-lofts-condos-for-sale-lease-downtown-losangeles?mlsno=17-233274"
           },
           {
            "bathrooms": 2,
            "bedrooms": 3,
            "date": "2017-07-19",
            "price": 612000,
            "price_per_square_foot": 375.9213759213759,
            "square_feet": 1628,
            "unit": 705,
            "url": "https://www.dlxco.com/the-promenade-west-lofts-condos-for-sale-lease-downtown-losangeles?mlsno=17-229802"
           },
           {
            "bathrooms": 2,
            "bedrooms": 2,
            "date": "2017-07-06",
            "price": 570000,
            "price_per_square_foot": 468.3648315529992,
            "square_feet": 1217,
            "unit": 309,
            "url": "https://www.dlxco.com/the-promenade-west-lofts-condos-for-sale-lease-downtown-losangeles?mlsno=17-215688"
           },
           {
            "bathrooms": 2,
            "bedrooms": 2,
            "date": "2017-06-26",
            "price": 527500,
            "price_per_square_foot": 391.32047477744806,
            "square_feet": 1348,
            "unit": 621,
            "url": "https://www.dlxco.com/the-promenade-west-lofts-condos-for-sale-lease-downtown-losangeles?mlsno=SB17104895MR"
           },
           {
            "bathrooms": 3,
            "bedrooms": 2,
            "date": "2017-05-12",
            "price": 605000,
            "price_per_square_foot": 400.13227513227514,
            "square_feet": 1512,
            "unit": 206,
            "url": "https://www.dlxco.com/the-promenade-west-lofts-condos-for-sale-lease-downtown-losangeles?mlsno=17-211192"
           },
           {
            "bathrooms": 2,
            "bedrooms": 3,
            "date": "2017-03-27",
            "price": 550000,
            "price_per_square_foot": 322.20269478617456,
            "square_feet": 1707,
            "unit": 520,
            "url": "https://www.dlxco.com/the-promenade-west-lofts-condos-for-sale-lease-downtown-losangeles?mlsno=16-166900"
           },
           {
            "bathrooms": 2,
            "bedrooms": 2,
            "date": "2017-01-03",
            "price": 570000,
            "price_per_square_foot": 430.8390022675737,
            "square_feet": 1323,
            "unit": 619,
            "url": "https://www.dlxco.com/the-promenade-west-lofts-condos-for-sale-lease-downtown-losangeles?mlsno=16-176362"
           },
           {
            "bathrooms": 2,
            "bedrooms": 2,
            "date": "2016-11-18",
            "price": 545000,
            "price_per_square_foot": 434.95610534716684,
            "square_feet": 1253,
            "unit": 501,
            "url": "https://www.dlxco.com/the-promenade-west-lofts-condos-for-sale-lease-downtown-losangeles?mlsno=16-149712"
           },
           {
            "bathrooms": 2,
            "bedrooms": 2,
            "date": "2016-11-14",
            "price": 615000,
            "price_per_square_foot": 440.5444126074497,
            "square_feet": 1396,
            "unit": 808,
            "url": "https://www.dlxco.com/the-promenade-west-lofts-condos-for-sale-lease-downtown-losangeles?mlsno=16-138782"
           },
           {
            "bathrooms": 1,
            "bedrooms": 1,
            "date": "2016-10-11",
            "price": 466000,
            "price_per_square_foot": 463.220675944334,
            "square_feet": 1006,
            "unit": 806,
            "url": "https://www.dlxco.com/the-promenade-west-lofts-condos-for-sale-lease-downtown-losangeles?mlsno=16-122734"
           },
           {
            "bathrooms": 2,
            "bedrooms": 2,
            "date": "2016-09-17",
            "price": 575000,
            "price_per_square_foot": 433.3082140165788,
            "square_feet": 1327,
            "unit": 415,
            "url": "https://www.dlxco.com/the-promenade-west-lofts-condos-for-sale-lease-downtown-losangeles?mlsno=16-142232"
           },
           {
            "bathrooms": 1,
            "bedrooms": 1,
            "date": "2016-08-05",
            "price": 545000,
            "price_per_square_foot": 541.7495029821074,
            "square_feet": 1006,
            "unit": 802,
            "url": "https://www.dlxco.com/the-promenade-west-lofts-condos-for-sale-lease-downtown-losangeles?mlsno=16-125118"
           },
           {
            "bathrooms": 3,
            "bedrooms": 2,
            "date": "2016-07-26",
            "price": 629500,
            "price_per_square_foot": 416.33597883597884,
            "square_feet": 1512,
            "unit": 314,
            "url": "https://www.dlxco.com/the-promenade-west-lofts-condos-for-sale-lease-downtown-losangeles?mlsno=16-124382"
           },
           {
            "bathrooms": 2,
            "bedrooms": 3,
            "date": "2016-05-31",
            "price": 637000,
            "price_per_square_foot": 391.03744628606506,
            "square_feet": 1629,
            "unit": 505,
            "url": "https://www.dlxco.com/the-promenade-west-lofts-condos-for-sale-lease-downtown-losangeles?mlsno=PW16060511MR"
           },
           {
            "bathrooms": 1,
            "bedrooms": 1,
            "date": "2016-05-17",
            "price": 530000,
            "price_per_square_foot": 526.8389662027834,
            "square_feet": 1006,
            "unit": 801,
            "url": "https://www.dlxco.com/the-promenade-west-lofts-condos-for-sale-lease-downtown-losangeles?mlsno=16-975267"
           },
           {
            "bathrooms": 2,
            "bedrooms": 2,
            "date": "2016-04-11",
            "price": 520000,
            "price_per_square_foot": 385.75667655786344,
            "square_feet": 1348,
            "unit": 414,
            "url": "https://www.dlxco.com/the-promenade-west-lofts-condos-for-sale-lease-downtown-losangeles?mlsno=15-963651"
           },
           {
            "bathrooms": 3,
            "bedrooms": 2,
            "date": "2016-01-09",
            "price": 585000,
            "price_per_square_foot": 386.90476190476187,
            "square_feet": 1512,
            "unit": 202,
            "url": "https://www.dlxco.com/the-promenade-west-lofts-condos-for-sale-lease-downtown-losangeles?mlsno=15-960051"
           },
           {
            "bathrooms": 2,
            "bedrooms": 2,
            "date": "2015-11-25",
            "price": 535000,
            "price_per_square_foot": 408.08543096872603,
            "square_feet": 1311,
            "unit": 516,
            "url": "https://www.dlxco.com/the-promenade-west-lofts-condos-for-sale-lease-downtown-losangeles?mlsno=315009216IT"
           },
           {
            "bathrooms": 2,
            "bedrooms": 2,
            "date": "2015-09-28",
            "price": 560000,
            "price_per_square_foot": 416.0475482912333,
            "square_feet": 1346,
            "unit": 504,
            "url": "https://www.dlxco.com/the-promenade-west-lofts-condos-for-sale-lease-downtown-losangeles?mlsno=15-927421"
           },
           {
            "bathrooms": 2,
            "bedrooms": 2,
            "date": "2015-09-03",
            "price": 535000,
            "price_per_square_foot": 404.07854984894266,
            "square_feet": 1324,
            "unit": 611,
            "url": "https://www.dlxco.com/the-promenade-west-lofts-condos-for-sale-lease-downtown-losangeles?mlsno=15-906695"
           },
           {
            "bathrooms": 2,
            "bedrooms": 2,
            "date": "2015-08-24",
            "price": 558000,
            "price_per_square_foot": 421.76870748299314,
            "square_feet": 1323,
            "unit": 616,
            "url": "https://www.dlxco.com/the-promenade-west-lofts-condos-for-sale-lease-downtown-losangeles?mlsno=15-907973"
           },
           {
            "bathrooms": 2,
            "bedrooms": 2,
            "date": "2015-08-20",
            "price": 625000,
            "price_per_square_foot": 472.41118669690104,
            "square_feet": 1323,
            "unit": 527,
            "url": "https://www.dlxco.com/the-promenade-west-lofts-condos-for-sale-lease-downtown-losangeles?mlsno=AR15120825MR"
           },
           {
            "bathrooms": 2,
            "bedrooms": 2,
            "date": "2015-08-20",
            "price": 520000,
            "price_per_square_foot": 385.75667655786344,
            "square_feet": 1348,
            "unit": 701,
            "url": "https://www.dlxco.com/the-promenade-west-lofts-condos-for-sale-lease-downtown-losangeles?mlsno=15-913217"
           },
           {
            "bathrooms": 2,
            "bedrooms": 2,
            "date": "2015-04-14",
            "price": 500000,
            "price_per_square_foot": 370.91988130563794,
            "square_feet": 1348,
            "unit": 704,
            "url": "https://www.dlxco.com/the-promenade-west-lofts-condos-for-sale-lease-downtown-losangeles?mlsno=15-824505"
           },
           {
            "bathrooms": 2,
            "bedrooms": 2,
            "date": "2015-03-26",
            "price": 530000,
            "price_per_square_foot": 393.1750741839763,
            "square_feet": 1348,
            "unit": 412,
            "url": "https://www.dlxco.com/the-promenade-west-lofts-condos-for-sale-lease-downtown-losangeles?mlsno=15-879535"
           },
           {
            "bathrooms": 3,
            "bedrooms": 2,
            "date": "2015-03-25",
            "price": 485000,
            "price_per_square_foot": 321.40490390987406,
            "square_feet": 1509,
            "unit": 319,
            "url": "https://www.dlxco.com/the-promenade-west-lofts-condos-for-sale-lease-downtown-losangeles?mlsno=14-795913"
           },
           {
            "bathrooms": 3,
            "bedrooms": 2,
            "date": "2015-02-18",
            "price": 560000,
            "price_per_square_foot": 373.33333333333326,
            "square_feet": 1500,
            "unit": 203,
            "url": "https://www.dlxco.com/the-promenade-west-lofts-condos-for-sale-lease-downtown-losangeles?mlsno=14-812843"
           },
           {
            "bathrooms": 2,
            "bedrooms": 2,
            "date": "2014-12-30",
            "price": 495000,
            "price_per_square_foot": 374.1496598639456,
            "square_feet": 1323,
            "unit": 524,
            "url": "https://www.dlxco.com/the-promenade-west-lofts-condos-for-sale-lease-downtown-losangeles?mlsno=14-781543"
           },
           {
            "bathrooms": 2,
            "bedrooms": 2,
            "date": "2014-12-23",
            "price": 499000,
            "price_per_square_foot": 410.02465078060806,
            "square_feet": 1217,
            "unit": 209,
            "url": "https://www.dlxco.com/the-promenade-west-lofts-condos-for-sale-lease-downtown-losangeles?mlsno=14-812935"
           },
           {
            "bathrooms": 1,
            "bedrooms": 1,
            "date": "2014-11-13",
            "price": 385000,
            "price_per_square_foot": 382.7037773359841,
            "square_feet": 1006,
            "unit": 610,
            "url": "https://www.dlxco.com/the-promenade-west-lofts-condos-for-sale-lease-downtown-losangeles?mlsno=14-791495"
           },
           {
            "bathrooms": 3,
            "bedrooms": 2,
            "date": "2014-09-25",
            "price": 470000,
            "price_per_square_foot": 313.7516688918558,
            "square_feet": 1498,
            "unit": 317,
            "url": "https://www.dlxco.com/the-promenade-west-lofts-condos-for-sale-lease-downtown-losangeles?mlsno=214012630IT"
           },
           {
            "bathrooms": 3,
            "bedrooms": 2,
            "date": "2014-09-19",
            "price": 550000,
            "price_per_square_foot": 363.75661375661383,
            "square_feet": 1512,
            "unit": 206,
            "url": "https://www.dlxco.com/the-promenade-west-lofts-condos-for-sale-lease-downtown-losangeles?mlsno=14-738439"
           },
           {
            "bathrooms": 2,
            "bedrooms": 3,
            "date": "2014-05-22",
            "price": 625000,
            "price_per_square_foot": 370.91988130563794,
            "square_feet": 1685,
            "unit": 405,
            "url": "https://www.dlxco.com/the-promenade-west-lofts-condos-for-sale-lease-downtown-losangeles?mlsno=14-745001"
           },
           {
            "bathrooms": 3,
            "bedrooms": 2,
            "date": "2014-02-12",
            "price": 398500,
            "price_per_square_foot": 264.0821736249172,
            "square_feet": 1509,
            "unit": 319,
            "url": "https://www.dlxco.com/the-promenade-west-lofts-condos-for-sale-lease-downtown-losangeles?mlsno=SR13129134CN"
           },
           {
            "bathrooms": 2,
            "bedrooms": 2,
            "date": "2014-01-17",
            "price": 405000,
            "price_per_square_foot": 306.8181818181818,
            "square_feet": 1320,
            "unit": 108,
            "url": "https://www.dlxco.com/the-promenade-west-lofts-condos-for-sale-lease-downtown-losangeles?mlsno=13-719047"
           },
           {
            "bathrooms": 1,
            "bedrooms": 1,
            "date": "2013-11-19",
            "price": 390000,
            "price_per_square_foot": 387.6739562624255,
            "square_feet": 1006,
            "unit": 711,
            "url": "https://www.dlxco.com/the-promenade-west-lofts-condos-for-sale-lease-downtown-losangeles?mlsno=13-689693"
           },
           {
            "bathrooms": 2,
            "bedrooms": 2,
            "date": "2013-10-09",
            "price": 381650,
            "price_per_square_foot": 313.5990139687757,
            "square_feet": 1217,
            "unit": 211,
            "url": "https://www.dlxco.com/the-promenade-west-lofts-condos-for-sale-lease-downtown-losangeles?mlsno=PW13077881MR"
           },
           {
            "bathrooms": 2,
            "bedrooms": 2,
            "date": "2013-09-11",
            "price": 420000,
            "price_per_square_foot": 340.90909090909093,
            "square_feet": 1232,
            "unit": 502,
            "url": "https://www.dlxco.com/the-promenade-west-lofts-condos-for-sale-lease-downtown-losangeles?mlsno=13-664793"
           },
           {
            "bathrooms": 1,
            "bedrooms": 1,
            "date": "2013-04-12",
            "price": 290000,
            "price_per_square_foot": 289.13260219341976,
            "square_feet": 1003,
            "unit": 609,
            "url": "https://www.dlxco.com/the-promenade-west-lofts-condos-for-sale-lease-downtown-losangeles?mlsno=S710858MR"
           },
           {
            "bathrooms": 2,
            "bedrooms": 2,
            "date": "2013-02-11",
            "price": 335000,
            "price_per_square_foot": 253.21239606953893,
            "square_feet": 1323,
            "unit": 522,
            "url": "https://www.dlxco.com/the-promenade-west-lofts-condos-for-sale-lease-downtown-losangeles?mlsno=P837804MR"
           },
           {
            "bathrooms": 2,
            "bedrooms": 2,
            "date": "2013-02-04",
            "price": 390000,
            "price_per_square_foot": 293.896006028636,
            "square_feet": 1327,
            "unit": 403,
            "url": "https://www.dlxco.com/the-promenade-west-lofts-condos-for-sale-lease-downtown-losangeles?mlsno=12-631013"
           },
           {
            "bathrooms": 2,
            "bedrooms": 2,
            "date": "2012-11-07",
            "price": 380000,
            "price_per_square_foot": 286.3602110022607,
            "square_feet": 1327,
            "unit": 416,
            "url": "https://www.dlxco.com/the-promenade-west-lofts-condos-for-sale-lease-downtown-losangeles?mlsno=22167529IT"
           },
           {
            "bathrooms": 2,
            "bedrooms": 2,
            "date": "2012-10-24",
            "price": 290000,
            "price_per_square_foot": 218.53805576488318,
            "square_feet": 1327,
            "unit": 526,
            "url": "https://www.dlxco.com/the-promenade-west-lofts-condos-for-sale-lease-downtown-losangeles?mlsno=12-598567"
           },
           {
            "bathrooms": 2,
            "bedrooms": 2,
            "date": "2012-06-20",
            "price": 395000,
            "price_per_square_foot": 298.56386999244137,
            "square_feet": 1323,
            "unit": 308,
            "url": "https://www.dlxco.com/the-promenade-west-lofts-condos-for-sale-lease-downtown-losangeles?mlsno=12-593925"
           },
           {
            "bathrooms": 2,
            "bedrooms": 2,
            "date": "2012-02-10",
            "price": 380000,
            "price_per_square_foot": 286.3602110022607,
            "square_feet": 1327,
            "unit": 415,
            "url": "https://www.dlxco.com/the-promenade-west-lofts-condos-for-sale-lease-downtown-losangeles?mlsno=11-569123"
           },
           {
            "bathrooms": 3,
            "bedrooms": 2,
            "date": "2011-10-07",
            "price": 455000,
            "price_per_square_foot": 301.92435301924354,
            "square_feet": 1507,
            "unit": 205,
            "url": "https://www.dlxco.com/the-promenade-west-lofts-condos-for-sale-lease-downtown-losangeles?mlsno=11-535629"
           },
           {
            "bathrooms": 3,
            "bedrooms": 2,
            "date": "2011-09-27",
            "price": 275000,
            "price_per_square_foot": 181.87830687830692,
            "square_feet": 1512,
            "unit": 216,
            "url": "https://www.dlxco.com/the-promenade-west-lofts-condos-for-sale-lease-downtown-losangeles?mlsno=C11032172MR"
           },
           {
            "bathrooms": 2,
            "bedrooms": 2,
            "date": "2011-08-16",
            "price": 350000,
            "price_per_square_foot": 284.09090909090907,
            "square_feet": 1232,
            "unit": 511,
            "url": "https://www.dlxco.com/the-promenade-west-lofts-condos-for-sale-lease-downtown-losangeles?mlsno=11-524713"
           },
           {
            "bathrooms": 1,
            "bedrooms": 1,
            "date": "2011-07-18",
            "price": 270000,
            "price_per_square_foot": 268.38966202783297,
            "square_feet": 1006,
            "unit": 804,
            "url": "https://www.dlxco.com/the-promenade-west-lofts-condos-for-sale-lease-downtown-losangeles?mlsno=11-505205"
           },
           {
            "bathrooms": 3,
            "bedrooms": 2,
            "date": "2011-06-27",
            "price": 375000,
            "price_per_square_foot": 248.01587301587298,
            "square_feet": 1512,
            "unit": 314,
            "url": "https://www.dlxco.com/the-promenade-west-lofts-condos-for-sale-lease-downtown-losangeles?mlsno=11-507735"
           },
           {
            "bathrooms": 3,
            "bedrooms": 2,
            "date": "2011-04-15",
            "price": 443000,
            "price_per_square_foot": 295.3333333333333,
            "square_feet": 1500,
            "unit": 203,
            "url": "https://www.dlxco.com/the-promenade-west-lofts-condos-for-sale-lease-downtown-losangeles?mlsno=10-469183"
           },
           {
            "bathrooms": 2,
            "bedrooms": 2,
            "date": "2011-04-14",
            "price": 265000,
            "price_per_square_foot": 217.74856203779785,
            "square_feet": 1217,
            "unit": 107,
            "url": "https://www.dlxco.com/the-promenade-west-lofts-condos-for-sale-lease-downtown-losangeles?mlsno=R1006067MR"
           },
           {
            "bathrooms": 1,
            "bedrooms": 1,
            "date": "2011-01-14",
            "price": 250000,
            "price_per_square_foot": 252.0161290322581,
            "square_feet": 992,
            "unit": 714,
            "url": "https://www.dlxco.com/the-promenade-west-lofts-condos-for-sale-lease-downtown-losangeles?mlsno=10-480135"
           }
          ]
         },
         "encoding": {
          "x": {
           "axis": {
            "labelAngle": 0,
            "title": ""
           },
           "field": "date",
           "timeUnit": "year",
           "type": "ordinal"
          },
          "y": {
           "aggregate": "count",
           "axis": {
            "grid": false,
            "title": ""
           },
           "scale": {
            "domain": [
             0,
             14
            ]
           },
           "type": "quantitative"
          }
         },
         "mark": {
          "color": "black",
          "type": "bar"
         },
         "width": 600
        },
        {
         "data": {
          "values": [
           {
            "bathrooms": 2,
            "bedrooms": 2,
            "date": "2018-06-12",
            "price": 600000,
            "price_per_square_foot": 453.51473922902494,
            "square_feet": 1323,
            "unit": 527,
            "url": "https://www.dlxco.com/the-promenade-west-lofts-condos-for-sale-lease-downtown-losangeles?mlsno=18-334730"
           },
           {
            "bathrooms": 2,
            "bedrooms": 2,
            "date": "2018-04-11",
            "price": 598000,
            "price_per_square_foot": 443.62017804154294,
            "square_feet": 1348,
            "unit": 706,
            "url": "https://www.dlxco.com/the-promenade-west-lofts-condos-for-sale-lease-downtown-losangeles?mlsno=SR18004194CN"
           },
           {
            "bathrooms": 2,
            "bedrooms": 2,
            "date": "2018-02-01",
            "price": 590000,
            "price_per_square_foot": 445.95616024187444,
            "square_feet": 1323,
            "unit": 409,
            "url": "https://www.dlxco.com/the-promenade-west-lofts-condos-for-sale-lease-downtown-losangeles?mlsno=18-302636"
           },
           {
            "bathrooms": 3,
            "bedrooms": 2,
            "date": "2018-01-24",
            "price": 615000,
            "price_per_square_foot": 407.55467196819086,
            "square_feet": 1509,
            "unit": 315,
            "url": "https://www.dlxco.com/the-promenade-west-lofts-condos-for-sale-lease-downtown-losangeles?mlsno=17-280756"
           },
           {
            "bathrooms": 1,
            "bedrooms": 1,
            "date": "2017-12-13",
            "price": 455000,
            "price_per_square_foot": 452.286282306163,
            "square_feet": 1006,
            "unit": 804,
            "url": "https://www.dlxco.com/the-promenade-west-lofts-condos-for-sale-lease-downtown-losangeles?mlsno=17-276468"
           },
           {
            "bathrooms": 2,
            "bedrooms": 1,
            "date": "2017-12-08",
            "price": 450000,
            "price_per_square_foot": 447.31610337972165,
            "square_feet": 1006,
            "unit": 803,
            "url": "https://www.dlxco.com/the-promenade-west-lofts-condos-for-sale-lease-downtown-losangeles?mlsno=RS17251377MR"
           },
           {
            "bathrooms": 2,
            "bedrooms": 2,
            "date": "2017-08-31",
            "price": 555000,
            "price_per_square_foot": 450.48701298701303,
            "square_feet": 1232,
            "unit": 511,
            "url": "https://www.dlxco.com/the-promenade-west-lofts-condos-for-sale-lease-downtown-losangeles?mlsno=SR17142069CN"
           },
           {
            "bathrooms": 2,
            "bedrooms": 2,
            "date": "2017-08-22",
            "price": 573000,
            "price_per_square_foot": 470.8299096138044,
            "square_feet": 1217,
            "unit": 305,
            "url": "https://www.dlxco.com/the-promenade-west-lofts-condos-for-sale-lease-downtown-losangeles?mlsno=17-241720"
           },
           {
            "bathrooms": 3,
            "bedrooms": 2,
            "date": "2017-07-31",
            "price": 580000,
            "price_per_square_foot": 386.66666666666674,
            "square_feet": 1500,
            "unit": 316,
            "url": "https://www.dlxco.com/the-promenade-west-lofts-condos-for-sale-lease-downtown-losangeles?mlsno=17-206676"
           },
           {
            "bathrooms": 1,
            "bedrooms": 1,
            "date": "2017-07-24",
            "price": 462000,
            "price_per_square_foot": 465.72580645161287,
            "square_feet": 992,
            "unit": 712,
            "url": "https://www.dlxco.com/the-promenade-west-lofts-condos-for-sale-lease-downtown-losangeles?mlsno=17-233274"
           },
           {
            "bathrooms": 2,
            "bedrooms": 3,
            "date": "2017-07-19",
            "price": 612000,
            "price_per_square_foot": 375.9213759213759,
            "square_feet": 1628,
            "unit": 705,
            "url": "https://www.dlxco.com/the-promenade-west-lofts-condos-for-sale-lease-downtown-losangeles?mlsno=17-229802"
           },
           {
            "bathrooms": 2,
            "bedrooms": 2,
            "date": "2017-07-06",
            "price": 570000,
            "price_per_square_foot": 468.3648315529992,
            "square_feet": 1217,
            "unit": 309,
            "url": "https://www.dlxco.com/the-promenade-west-lofts-condos-for-sale-lease-downtown-losangeles?mlsno=17-215688"
           },
           {
            "bathrooms": 2,
            "bedrooms": 2,
            "date": "2017-06-26",
            "price": 527500,
            "price_per_square_foot": 391.32047477744806,
            "square_feet": 1348,
            "unit": 621,
            "url": "https://www.dlxco.com/the-promenade-west-lofts-condos-for-sale-lease-downtown-losangeles?mlsno=SB17104895MR"
           },
           {
            "bathrooms": 3,
            "bedrooms": 2,
            "date": "2017-05-12",
            "price": 605000,
            "price_per_square_foot": 400.13227513227514,
            "square_feet": 1512,
            "unit": 206,
            "url": "https://www.dlxco.com/the-promenade-west-lofts-condos-for-sale-lease-downtown-losangeles?mlsno=17-211192"
           },
           {
            "bathrooms": 2,
            "bedrooms": 3,
            "date": "2017-03-27",
            "price": 550000,
            "price_per_square_foot": 322.20269478617456,
            "square_feet": 1707,
            "unit": 520,
            "url": "https://www.dlxco.com/the-promenade-west-lofts-condos-for-sale-lease-downtown-losangeles?mlsno=16-166900"
           },
           {
            "bathrooms": 2,
            "bedrooms": 2,
            "date": "2017-01-03",
            "price": 570000,
            "price_per_square_foot": 430.8390022675737,
            "square_feet": 1323,
            "unit": 619,
            "url": "https://www.dlxco.com/the-promenade-west-lofts-condos-for-sale-lease-downtown-losangeles?mlsno=16-176362"
           },
           {
            "bathrooms": 2,
            "bedrooms": 2,
            "date": "2016-11-18",
            "price": 545000,
            "price_per_square_foot": 434.95610534716684,
            "square_feet": 1253,
            "unit": 501,
            "url": "https://www.dlxco.com/the-promenade-west-lofts-condos-for-sale-lease-downtown-losangeles?mlsno=16-149712"
           },
           {
            "bathrooms": 2,
            "bedrooms": 2,
            "date": "2016-11-14",
            "price": 615000,
            "price_per_square_foot": 440.5444126074497,
            "square_feet": 1396,
            "unit": 808,
            "url": "https://www.dlxco.com/the-promenade-west-lofts-condos-for-sale-lease-downtown-losangeles?mlsno=16-138782"
           },
           {
            "bathrooms": 1,
            "bedrooms": 1,
            "date": "2016-10-11",
            "price": 466000,
            "price_per_square_foot": 463.220675944334,
            "square_feet": 1006,
            "unit": 806,
            "url": "https://www.dlxco.com/the-promenade-west-lofts-condos-for-sale-lease-downtown-losangeles?mlsno=16-122734"
           },
           {
            "bathrooms": 2,
            "bedrooms": 2,
            "date": "2016-09-17",
            "price": 575000,
            "price_per_square_foot": 433.3082140165788,
            "square_feet": 1327,
            "unit": 415,
            "url": "https://www.dlxco.com/the-promenade-west-lofts-condos-for-sale-lease-downtown-losangeles?mlsno=16-142232"
           },
           {
            "bathrooms": 1,
            "bedrooms": 1,
            "date": "2016-08-05",
            "price": 545000,
            "price_per_square_foot": 541.7495029821074,
            "square_feet": 1006,
            "unit": 802,
            "url": "https://www.dlxco.com/the-promenade-west-lofts-condos-for-sale-lease-downtown-losangeles?mlsno=16-125118"
           },
           {
            "bathrooms": 3,
            "bedrooms": 2,
            "date": "2016-07-26",
            "price": 629500,
            "price_per_square_foot": 416.33597883597884,
            "square_feet": 1512,
            "unit": 314,
            "url": "https://www.dlxco.com/the-promenade-west-lofts-condos-for-sale-lease-downtown-losangeles?mlsno=16-124382"
           },
           {
            "bathrooms": 2,
            "bedrooms": 3,
            "date": "2016-05-31",
            "price": 637000,
            "price_per_square_foot": 391.03744628606506,
            "square_feet": 1629,
            "unit": 505,
            "url": "https://www.dlxco.com/the-promenade-west-lofts-condos-for-sale-lease-downtown-losangeles?mlsno=PW16060511MR"
           },
           {
            "bathrooms": 1,
            "bedrooms": 1,
            "date": "2016-05-17",
            "price": 530000,
            "price_per_square_foot": 526.8389662027834,
            "square_feet": 1006,
            "unit": 801,
            "url": "https://www.dlxco.com/the-promenade-west-lofts-condos-for-sale-lease-downtown-losangeles?mlsno=16-975267"
           },
           {
            "bathrooms": 2,
            "bedrooms": 2,
            "date": "2016-04-11",
            "price": 520000,
            "price_per_square_foot": 385.75667655786344,
            "square_feet": 1348,
            "unit": 414,
            "url": "https://www.dlxco.com/the-promenade-west-lofts-condos-for-sale-lease-downtown-losangeles?mlsno=15-963651"
           },
           {
            "bathrooms": 3,
            "bedrooms": 2,
            "date": "2016-01-09",
            "price": 585000,
            "price_per_square_foot": 386.90476190476187,
            "square_feet": 1512,
            "unit": 202,
            "url": "https://www.dlxco.com/the-promenade-west-lofts-condos-for-sale-lease-downtown-losangeles?mlsno=15-960051"
           },
           {
            "bathrooms": 2,
            "bedrooms": 2,
            "date": "2015-11-25",
            "price": 535000,
            "price_per_square_foot": 408.08543096872603,
            "square_feet": 1311,
            "unit": 516,
            "url": "https://www.dlxco.com/the-promenade-west-lofts-condos-for-sale-lease-downtown-losangeles?mlsno=315009216IT"
           },
           {
            "bathrooms": 2,
            "bedrooms": 2,
            "date": "2015-09-28",
            "price": 560000,
            "price_per_square_foot": 416.0475482912333,
            "square_feet": 1346,
            "unit": 504,
            "url": "https://www.dlxco.com/the-promenade-west-lofts-condos-for-sale-lease-downtown-losangeles?mlsno=15-927421"
           },
           {
            "bathrooms": 2,
            "bedrooms": 2,
            "date": "2015-09-03",
            "price": 535000,
            "price_per_square_foot": 404.07854984894266,
            "square_feet": 1324,
            "unit": 611,
            "url": "https://www.dlxco.com/the-promenade-west-lofts-condos-for-sale-lease-downtown-losangeles?mlsno=15-906695"
           },
           {
            "bathrooms": 2,
            "bedrooms": 2,
            "date": "2015-08-24",
            "price": 558000,
            "price_per_square_foot": 421.76870748299314,
            "square_feet": 1323,
            "unit": 616,
            "url": "https://www.dlxco.com/the-promenade-west-lofts-condos-for-sale-lease-downtown-losangeles?mlsno=15-907973"
           },
           {
            "bathrooms": 2,
            "bedrooms": 2,
            "date": "2015-08-20",
            "price": 625000,
            "price_per_square_foot": 472.41118669690104,
            "square_feet": 1323,
            "unit": 527,
            "url": "https://www.dlxco.com/the-promenade-west-lofts-condos-for-sale-lease-downtown-losangeles?mlsno=AR15120825MR"
           },
           {
            "bathrooms": 2,
            "bedrooms": 2,
            "date": "2015-08-20",
            "price": 520000,
            "price_per_square_foot": 385.75667655786344,
            "square_feet": 1348,
            "unit": 701,
            "url": "https://www.dlxco.com/the-promenade-west-lofts-condos-for-sale-lease-downtown-losangeles?mlsno=15-913217"
           },
           {
            "bathrooms": 2,
            "bedrooms": 2,
            "date": "2015-04-14",
            "price": 500000,
            "price_per_square_foot": 370.91988130563794,
            "square_feet": 1348,
            "unit": 704,
            "url": "https://www.dlxco.com/the-promenade-west-lofts-condos-for-sale-lease-downtown-losangeles?mlsno=15-824505"
           },
           {
            "bathrooms": 2,
            "bedrooms": 2,
            "date": "2015-03-26",
            "price": 530000,
            "price_per_square_foot": 393.1750741839763,
            "square_feet": 1348,
            "unit": 412,
            "url": "https://www.dlxco.com/the-promenade-west-lofts-condos-for-sale-lease-downtown-losangeles?mlsno=15-879535"
           },
           {
            "bathrooms": 3,
            "bedrooms": 2,
            "date": "2015-03-25",
            "price": 485000,
            "price_per_square_foot": 321.40490390987406,
            "square_feet": 1509,
            "unit": 319,
            "url": "https://www.dlxco.com/the-promenade-west-lofts-condos-for-sale-lease-downtown-losangeles?mlsno=14-795913"
           },
           {
            "bathrooms": 3,
            "bedrooms": 2,
            "date": "2015-02-18",
            "price": 560000,
            "price_per_square_foot": 373.33333333333326,
            "square_feet": 1500,
            "unit": 203,
            "url": "https://www.dlxco.com/the-promenade-west-lofts-condos-for-sale-lease-downtown-losangeles?mlsno=14-812843"
           },
           {
            "bathrooms": 2,
            "bedrooms": 2,
            "date": "2014-12-30",
            "price": 495000,
            "price_per_square_foot": 374.1496598639456,
            "square_feet": 1323,
            "unit": 524,
            "url": "https://www.dlxco.com/the-promenade-west-lofts-condos-for-sale-lease-downtown-losangeles?mlsno=14-781543"
           },
           {
            "bathrooms": 2,
            "bedrooms": 2,
            "date": "2014-12-23",
            "price": 499000,
            "price_per_square_foot": 410.02465078060806,
            "square_feet": 1217,
            "unit": 209,
            "url": "https://www.dlxco.com/the-promenade-west-lofts-condos-for-sale-lease-downtown-losangeles?mlsno=14-812935"
           },
           {
            "bathrooms": 1,
            "bedrooms": 1,
            "date": "2014-11-13",
            "price": 385000,
            "price_per_square_foot": 382.7037773359841,
            "square_feet": 1006,
            "unit": 610,
            "url": "https://www.dlxco.com/the-promenade-west-lofts-condos-for-sale-lease-downtown-losangeles?mlsno=14-791495"
           },
           {
            "bathrooms": 3,
            "bedrooms": 2,
            "date": "2014-09-25",
            "price": 470000,
            "price_per_square_foot": 313.7516688918558,
            "square_feet": 1498,
            "unit": 317,
            "url": "https://www.dlxco.com/the-promenade-west-lofts-condos-for-sale-lease-downtown-losangeles?mlsno=214012630IT"
           },
           {
            "bathrooms": 3,
            "bedrooms": 2,
            "date": "2014-09-19",
            "price": 550000,
            "price_per_square_foot": 363.75661375661383,
            "square_feet": 1512,
            "unit": 206,
            "url": "https://www.dlxco.com/the-promenade-west-lofts-condos-for-sale-lease-downtown-losangeles?mlsno=14-738439"
           },
           {
            "bathrooms": 2,
            "bedrooms": 3,
            "date": "2014-05-22",
            "price": 625000,
            "price_per_square_foot": 370.91988130563794,
            "square_feet": 1685,
            "unit": 405,
            "url": "https://www.dlxco.com/the-promenade-west-lofts-condos-for-sale-lease-downtown-losangeles?mlsno=14-745001"
           },
           {
            "bathrooms": 3,
            "bedrooms": 2,
            "date": "2014-02-12",
            "price": 398500,
            "price_per_square_foot": 264.0821736249172,
            "square_feet": 1509,
            "unit": 319,
            "url": "https://www.dlxco.com/the-promenade-west-lofts-condos-for-sale-lease-downtown-losangeles?mlsno=SR13129134CN"
           },
           {
            "bathrooms": 2,
            "bedrooms": 2,
            "date": "2014-01-17",
            "price": 405000,
            "price_per_square_foot": 306.8181818181818,
            "square_feet": 1320,
            "unit": 108,
            "url": "https://www.dlxco.com/the-promenade-west-lofts-condos-for-sale-lease-downtown-losangeles?mlsno=13-719047"
           },
           {
            "bathrooms": 1,
            "bedrooms": 1,
            "date": "2013-11-19",
            "price": 390000,
            "price_per_square_foot": 387.6739562624255,
            "square_feet": 1006,
            "unit": 711,
            "url": "https://www.dlxco.com/the-promenade-west-lofts-condos-for-sale-lease-downtown-losangeles?mlsno=13-689693"
           },
           {
            "bathrooms": 2,
            "bedrooms": 2,
            "date": "2013-10-09",
            "price": 381650,
            "price_per_square_foot": 313.5990139687757,
            "square_feet": 1217,
            "unit": 211,
            "url": "https://www.dlxco.com/the-promenade-west-lofts-condos-for-sale-lease-downtown-losangeles?mlsno=PW13077881MR"
           },
           {
            "bathrooms": 2,
            "bedrooms": 2,
            "date": "2013-09-11",
            "price": 420000,
            "price_per_square_foot": 340.90909090909093,
            "square_feet": 1232,
            "unit": 502,
            "url": "https://www.dlxco.com/the-promenade-west-lofts-condos-for-sale-lease-downtown-losangeles?mlsno=13-664793"
           },
           {
            "bathrooms": 1,
            "bedrooms": 1,
            "date": "2013-04-12",
            "price": 290000,
            "price_per_square_foot": 289.13260219341976,
            "square_feet": 1003,
            "unit": 609,
            "url": "https://www.dlxco.com/the-promenade-west-lofts-condos-for-sale-lease-downtown-losangeles?mlsno=S710858MR"
           },
           {
            "bathrooms": 2,
            "bedrooms": 2,
            "date": "2013-02-11",
            "price": 335000,
            "price_per_square_foot": 253.21239606953893,
            "square_feet": 1323,
            "unit": 522,
            "url": "https://www.dlxco.com/the-promenade-west-lofts-condos-for-sale-lease-downtown-losangeles?mlsno=P837804MR"
           },
           {
            "bathrooms": 2,
            "bedrooms": 2,
            "date": "2013-02-04",
            "price": 390000,
            "price_per_square_foot": 293.896006028636,
            "square_feet": 1327,
            "unit": 403,
            "url": "https://www.dlxco.com/the-promenade-west-lofts-condos-for-sale-lease-downtown-losangeles?mlsno=12-631013"
           },
           {
            "bathrooms": 2,
            "bedrooms": 2,
            "date": "2012-11-07",
            "price": 380000,
            "price_per_square_foot": 286.3602110022607,
            "square_feet": 1327,
            "unit": 416,
            "url": "https://www.dlxco.com/the-promenade-west-lofts-condos-for-sale-lease-downtown-losangeles?mlsno=22167529IT"
           },
           {
            "bathrooms": 2,
            "bedrooms": 2,
            "date": "2012-10-24",
            "price": 290000,
            "price_per_square_foot": 218.53805576488318,
            "square_feet": 1327,
            "unit": 526,
            "url": "https://www.dlxco.com/the-promenade-west-lofts-condos-for-sale-lease-downtown-losangeles?mlsno=12-598567"
           },
           {
            "bathrooms": 2,
            "bedrooms": 2,
            "date": "2012-06-20",
            "price": 395000,
            "price_per_square_foot": 298.56386999244137,
            "square_feet": 1323,
            "unit": 308,
            "url": "https://www.dlxco.com/the-promenade-west-lofts-condos-for-sale-lease-downtown-losangeles?mlsno=12-593925"
           },
           {
            "bathrooms": 2,
            "bedrooms": 2,
            "date": "2012-02-10",
            "price": 380000,
            "price_per_square_foot": 286.3602110022607,
            "square_feet": 1327,
            "unit": 415,
            "url": "https://www.dlxco.com/the-promenade-west-lofts-condos-for-sale-lease-downtown-losangeles?mlsno=11-569123"
           },
           {
            "bathrooms": 3,
            "bedrooms": 2,
            "date": "2011-10-07",
            "price": 455000,
            "price_per_square_foot": 301.92435301924354,
            "square_feet": 1507,
            "unit": 205,
            "url": "https://www.dlxco.com/the-promenade-west-lofts-condos-for-sale-lease-downtown-losangeles?mlsno=11-535629"
           },
           {
            "bathrooms": 3,
            "bedrooms": 2,
            "date": "2011-09-27",
            "price": 275000,
            "price_per_square_foot": 181.87830687830692,
            "square_feet": 1512,
            "unit": 216,
            "url": "https://www.dlxco.com/the-promenade-west-lofts-condos-for-sale-lease-downtown-losangeles?mlsno=C11032172MR"
           },
           {
            "bathrooms": 2,
            "bedrooms": 2,
            "date": "2011-08-16",
            "price": 350000,
            "price_per_square_foot": 284.09090909090907,
            "square_feet": 1232,
            "unit": 511,
            "url": "https://www.dlxco.com/the-promenade-west-lofts-condos-for-sale-lease-downtown-losangeles?mlsno=11-524713"
           },
           {
            "bathrooms": 1,
            "bedrooms": 1,
            "date": "2011-07-18",
            "price": 270000,
            "price_per_square_foot": 268.38966202783297,
            "square_feet": 1006,
            "unit": 804,
            "url": "https://www.dlxco.com/the-promenade-west-lofts-condos-for-sale-lease-downtown-losangeles?mlsno=11-505205"
           },
           {
            "bathrooms": 3,
            "bedrooms": 2,
            "date": "2011-06-27",
            "price": 375000,
            "price_per_square_foot": 248.01587301587298,
            "square_feet": 1512,
            "unit": 314,
            "url": "https://www.dlxco.com/the-promenade-west-lofts-condos-for-sale-lease-downtown-losangeles?mlsno=11-507735"
           },
           {
            "bathrooms": 3,
            "bedrooms": 2,
            "date": "2011-04-15",
            "price": 443000,
            "price_per_square_foot": 295.3333333333333,
            "square_feet": 1500,
            "unit": 203,
            "url": "https://www.dlxco.com/the-promenade-west-lofts-condos-for-sale-lease-downtown-losangeles?mlsno=10-469183"
           },
           {
            "bathrooms": 2,
            "bedrooms": 2,
            "date": "2011-04-14",
            "price": 265000,
            "price_per_square_foot": 217.74856203779785,
            "square_feet": 1217,
            "unit": 107,
            "url": "https://www.dlxco.com/the-promenade-west-lofts-condos-for-sale-lease-downtown-losangeles?mlsno=R1006067MR"
           },
           {
            "bathrooms": 1,
            "bedrooms": 1,
            "date": "2011-01-14",
            "price": 250000,
            "price_per_square_foot": 252.0161290322581,
            "square_feet": 992,
            "unit": 714,
            "url": "https://www.dlxco.com/the-promenade-west-lofts-condos-for-sale-lease-downtown-losangeles?mlsno=10-480135"
           }
          ]
         },
         "encoding": {
          "text": {
           "aggregate": "count",
           "type": "quantitative"
          },
          "x": {
           "axis": {
            "labelAngle": 0,
            "title": ""
           },
           "field": "date",
           "timeUnit": "year",
           "type": "ordinal"
          },
          "y": {
           "aggregate": "count",
           "axis": {
            "grid": false,
            "title": ""
           },
           "scale": {
            "domain": [
             0,
             14
            ]
           },
           "type": "quantitative"
          }
         },
         "mark": {
          "align": "center",
          "baseline": "middle",
          "dy": -12,
          "size": 20,
          "type": "text"
         },
         "width": 600
        }
       ]
      },
      "image/png": "[encoded data removed]",
      "text/plain": [
       "<VegaLite 2 object>\n",
       "\n",
       "If you see this message, it means the renderer has not been properly enabled\n",
       "for the frontend that you are using. For more information, see\n",
       "https://altair-viz.github.io/user_guide/troubleshooting.html\n"
      ]
     },
     "execution_count": 65,
     "metadata": {},
     "output_type": "execute_result"
    }
   ],
   "source": [
    "bars = alt.Chart(df).mark_bar(color=\"black\").encode(\n",
    "    x=alt.X(\"date:O\", timeUnit=\"year\", axis=alt.Axis(labelAngle=0, title=\"\")),\n",
    "    y=alt.Y(\"count()\", scale=alt.Scale(domain=(0, 14)), axis=alt.Axis(title=\"\", grid=False))\n",
    ").properties(width=600)\n",
    "\n",
    "text = bars.mark_text(\n",
    "    align='center',\n",
    "    baseline='middle',\n",
    "    dy=-12,\n",
    "    size=20\n",
    ").encode(\n",
    "    text='count()'\n",
    ")\n",
    "\n",
    "chart = bars + text\n",
    "\n",
    "chart.configure_view(\n",
    "    strokeOpacity=0\n",
    ").save('assets/sales-by-year.svg')\n",
    "\n",
    "chart"
   ]
  },
  {
   "cell_type": "markdown",
   "metadata": {},
   "source": [
    "### "
   ]
  },
  {
   "cell_type": "code",
   "execution_count": 66,
   "metadata": {},
   "outputs": [
    {
     "data": {
      "application/vnd.vegalite.v2+json": {
       "$schema": "https://vega.github.io/schema/vega-lite/v2.4.3.json",
       "config": {
        "view": {
         "height": 300,
         "width": 400
        }
       },
       "data": {
        "values": [
         {
          "bathrooms": 2,
          "bedrooms": 2,
          "date": "2018-06-12",
          "price": 600000,
          "price_per_square_foot": 453.51473922902494,
          "square_feet": 1323,
          "unit": 527,
          "url": "https://www.dlxco.com/the-promenade-west-lofts-condos-for-sale-lease-downtown-losangeles?mlsno=18-334730"
         },
         {
          "bathrooms": 2,
          "bedrooms": 2,
          "date": "2018-04-11",
          "price": 598000,
          "price_per_square_foot": 443.62017804154294,
          "square_feet": 1348,
          "unit": 706,
          "url": "https://www.dlxco.com/the-promenade-west-lofts-condos-for-sale-lease-downtown-losangeles?mlsno=SR18004194CN"
         },
         {
          "bathrooms": 2,
          "bedrooms": 2,
          "date": "2018-02-01",
          "price": 590000,
          "price_per_square_foot": 445.95616024187444,
          "square_feet": 1323,
          "unit": 409,
          "url": "https://www.dlxco.com/the-promenade-west-lofts-condos-for-sale-lease-downtown-losangeles?mlsno=18-302636"
         },
         {
          "bathrooms": 3,
          "bedrooms": 2,
          "date": "2018-01-24",
          "price": 615000,
          "price_per_square_foot": 407.55467196819086,
          "square_feet": 1509,
          "unit": 315,
          "url": "https://www.dlxco.com/the-promenade-west-lofts-condos-for-sale-lease-downtown-losangeles?mlsno=17-280756"
         },
         {
          "bathrooms": 1,
          "bedrooms": 1,
          "date": "2017-12-13",
          "price": 455000,
          "price_per_square_foot": 452.286282306163,
          "square_feet": 1006,
          "unit": 804,
          "url": "https://www.dlxco.com/the-promenade-west-lofts-condos-for-sale-lease-downtown-losangeles?mlsno=17-276468"
         },
         {
          "bathrooms": 2,
          "bedrooms": 1,
          "date": "2017-12-08",
          "price": 450000,
          "price_per_square_foot": 447.31610337972165,
          "square_feet": 1006,
          "unit": 803,
          "url": "https://www.dlxco.com/the-promenade-west-lofts-condos-for-sale-lease-downtown-losangeles?mlsno=RS17251377MR"
         },
         {
          "bathrooms": 2,
          "bedrooms": 2,
          "date": "2017-08-31",
          "price": 555000,
          "price_per_square_foot": 450.48701298701303,
          "square_feet": 1232,
          "unit": 511,
          "url": "https://www.dlxco.com/the-promenade-west-lofts-condos-for-sale-lease-downtown-losangeles?mlsno=SR17142069CN"
         },
         {
          "bathrooms": 2,
          "bedrooms": 2,
          "date": "2017-08-22",
          "price": 573000,
          "price_per_square_foot": 470.8299096138044,
          "square_feet": 1217,
          "unit": 305,
          "url": "https://www.dlxco.com/the-promenade-west-lofts-condos-for-sale-lease-downtown-losangeles?mlsno=17-241720"
         },
         {
          "bathrooms": 3,
          "bedrooms": 2,
          "date": "2017-07-31",
          "price": 580000,
          "price_per_square_foot": 386.66666666666674,
          "square_feet": 1500,
          "unit": 316,
          "url": "https://www.dlxco.com/the-promenade-west-lofts-condos-for-sale-lease-downtown-losangeles?mlsno=17-206676"
         },
         {
          "bathrooms": 1,
          "bedrooms": 1,
          "date": "2017-07-24",
          "price": 462000,
          "price_per_square_foot": 465.72580645161287,
          "square_feet": 992,
          "unit": 712,
          "url": "https://www.dlxco.com/the-promenade-west-lofts-condos-for-sale-lease-downtown-losangeles?mlsno=17-233274"
         },
         {
          "bathrooms": 2,
          "bedrooms": 3,
          "date": "2017-07-19",
          "price": 612000,
          "price_per_square_foot": 375.9213759213759,
          "square_feet": 1628,
          "unit": 705,
          "url": "https://www.dlxco.com/the-promenade-west-lofts-condos-for-sale-lease-downtown-losangeles?mlsno=17-229802"
         },
         {
          "bathrooms": 2,
          "bedrooms": 2,
          "date": "2017-07-06",
          "price": 570000,
          "price_per_square_foot": 468.3648315529992,
          "square_feet": 1217,
          "unit": 309,
          "url": "https://www.dlxco.com/the-promenade-west-lofts-condos-for-sale-lease-downtown-losangeles?mlsno=17-215688"
         },
         {
          "bathrooms": 2,
          "bedrooms": 2,
          "date": "2017-06-26",
          "price": 527500,
          "price_per_square_foot": 391.32047477744806,
          "square_feet": 1348,
          "unit": 621,
          "url": "https://www.dlxco.com/the-promenade-west-lofts-condos-for-sale-lease-downtown-losangeles?mlsno=SB17104895MR"
         },
         {
          "bathrooms": 3,
          "bedrooms": 2,
          "date": "2017-05-12",
          "price": 605000,
          "price_per_square_foot": 400.13227513227514,
          "square_feet": 1512,
          "unit": 206,
          "url": "https://www.dlxco.com/the-promenade-west-lofts-condos-for-sale-lease-downtown-losangeles?mlsno=17-211192"
         },
         {
          "bathrooms": 2,
          "bedrooms": 3,
          "date": "2017-03-27",
          "price": 550000,
          "price_per_square_foot": 322.20269478617456,
          "square_feet": 1707,
          "unit": 520,
          "url": "https://www.dlxco.com/the-promenade-west-lofts-condos-for-sale-lease-downtown-losangeles?mlsno=16-166900"
         },
         {
          "bathrooms": 2,
          "bedrooms": 2,
          "date": "2017-01-03",
          "price": 570000,
          "price_per_square_foot": 430.8390022675737,
          "square_feet": 1323,
          "unit": 619,
          "url": "https://www.dlxco.com/the-promenade-west-lofts-condos-for-sale-lease-downtown-losangeles?mlsno=16-176362"
         },
         {
          "bathrooms": 2,
          "bedrooms": 2,
          "date": "2016-11-18",
          "price": 545000,
          "price_per_square_foot": 434.95610534716684,
          "square_feet": 1253,
          "unit": 501,
          "url": "https://www.dlxco.com/the-promenade-west-lofts-condos-for-sale-lease-downtown-losangeles?mlsno=16-149712"
         },
         {
          "bathrooms": 2,
          "bedrooms": 2,
          "date": "2016-11-14",
          "price": 615000,
          "price_per_square_foot": 440.5444126074497,
          "square_feet": 1396,
          "unit": 808,
          "url": "https://www.dlxco.com/the-promenade-west-lofts-condos-for-sale-lease-downtown-losangeles?mlsno=16-138782"
         },
         {
          "bathrooms": 1,
          "bedrooms": 1,
          "date": "2016-10-11",
          "price": 466000,
          "price_per_square_foot": 463.220675944334,
          "square_feet": 1006,
          "unit": 806,
          "url": "https://www.dlxco.com/the-promenade-west-lofts-condos-for-sale-lease-downtown-losangeles?mlsno=16-122734"
         },
         {
          "bathrooms": 2,
          "bedrooms": 2,
          "date": "2016-09-17",
          "price": 575000,
          "price_per_square_foot": 433.3082140165788,
          "square_feet": 1327,
          "unit": 415,
          "url": "https://www.dlxco.com/the-promenade-west-lofts-condos-for-sale-lease-downtown-losangeles?mlsno=16-142232"
         },
         {
          "bathrooms": 1,
          "bedrooms": 1,
          "date": "2016-08-05",
          "price": 545000,
          "price_per_square_foot": 541.7495029821074,
          "square_feet": 1006,
          "unit": 802,
          "url": "https://www.dlxco.com/the-promenade-west-lofts-condos-for-sale-lease-downtown-losangeles?mlsno=16-125118"
         },
         {
          "bathrooms": 3,
          "bedrooms": 2,
          "date": "2016-07-26",
          "price": 629500,
          "price_per_square_foot": 416.33597883597884,
          "square_feet": 1512,
          "unit": 314,
          "url": "https://www.dlxco.com/the-promenade-west-lofts-condos-for-sale-lease-downtown-losangeles?mlsno=16-124382"
         },
         {
          "bathrooms": 2,
          "bedrooms": 3,
          "date": "2016-05-31",
          "price": 637000,
          "price_per_square_foot": 391.03744628606506,
          "square_feet": 1629,
          "unit": 505,
          "url": "https://www.dlxco.com/the-promenade-west-lofts-condos-for-sale-lease-downtown-losangeles?mlsno=PW16060511MR"
         },
         {
          "bathrooms": 1,
          "bedrooms": 1,
          "date": "2016-05-17",
          "price": 530000,
          "price_per_square_foot": 526.8389662027834,
          "square_feet": 1006,
          "unit": 801,
          "url": "https://www.dlxco.com/the-promenade-west-lofts-condos-for-sale-lease-downtown-losangeles?mlsno=16-975267"
         },
         {
          "bathrooms": 2,
          "bedrooms": 2,
          "date": "2016-04-11",
          "price": 520000,
          "price_per_square_foot": 385.75667655786344,
          "square_feet": 1348,
          "unit": 414,
          "url": "https://www.dlxco.com/the-promenade-west-lofts-condos-for-sale-lease-downtown-losangeles?mlsno=15-963651"
         },
         {
          "bathrooms": 3,
          "bedrooms": 2,
          "date": "2016-01-09",
          "price": 585000,
          "price_per_square_foot": 386.90476190476187,
          "square_feet": 1512,
          "unit": 202,
          "url": "https://www.dlxco.com/the-promenade-west-lofts-condos-for-sale-lease-downtown-losangeles?mlsno=15-960051"
         },
         {
          "bathrooms": 2,
          "bedrooms": 2,
          "date": "2015-11-25",
          "price": 535000,
          "price_per_square_foot": 408.08543096872603,
          "square_feet": 1311,
          "unit": 516,
          "url": "https://www.dlxco.com/the-promenade-west-lofts-condos-for-sale-lease-downtown-losangeles?mlsno=315009216IT"
         },
         {
          "bathrooms": 2,
          "bedrooms": 2,
          "date": "2015-09-28",
          "price": 560000,
          "price_per_square_foot": 416.0475482912333,
          "square_feet": 1346,
          "unit": 504,
          "url": "https://www.dlxco.com/the-promenade-west-lofts-condos-for-sale-lease-downtown-losangeles?mlsno=15-927421"
         },
         {
          "bathrooms": 2,
          "bedrooms": 2,
          "date": "2015-09-03",
          "price": 535000,
          "price_per_square_foot": 404.07854984894266,
          "square_feet": 1324,
          "unit": 611,
          "url": "https://www.dlxco.com/the-promenade-west-lofts-condos-for-sale-lease-downtown-losangeles?mlsno=15-906695"
         },
         {
          "bathrooms": 2,
          "bedrooms": 2,
          "date": "2015-08-24",
          "price": 558000,
          "price_per_square_foot": 421.76870748299314,
          "square_feet": 1323,
          "unit": 616,
          "url": "https://www.dlxco.com/the-promenade-west-lofts-condos-for-sale-lease-downtown-losangeles?mlsno=15-907973"
         },
         {
          "bathrooms": 2,
          "bedrooms": 2,
          "date": "2015-08-20",
          "price": 625000,
          "price_per_square_foot": 472.41118669690104,
          "square_feet": 1323,
          "unit": 527,
          "url": "https://www.dlxco.com/the-promenade-west-lofts-condos-for-sale-lease-downtown-losangeles?mlsno=AR15120825MR"
         },
         {
          "bathrooms": 2,
          "bedrooms": 2,
          "date": "2015-08-20",
          "price": 520000,
          "price_per_square_foot": 385.75667655786344,
          "square_feet": 1348,
          "unit": 701,
          "url": "https://www.dlxco.com/the-promenade-west-lofts-condos-for-sale-lease-downtown-losangeles?mlsno=15-913217"
         },
         {
          "bathrooms": 2,
          "bedrooms": 2,
          "date": "2015-04-14",
          "price": 500000,
          "price_per_square_foot": 370.91988130563794,
          "square_feet": 1348,
          "unit": 704,
          "url": "https://www.dlxco.com/the-promenade-west-lofts-condos-for-sale-lease-downtown-losangeles?mlsno=15-824505"
         },
         {
          "bathrooms": 2,
          "bedrooms": 2,
          "date": "2015-03-26",
          "price": 530000,
          "price_per_square_foot": 393.1750741839763,
          "square_feet": 1348,
          "unit": 412,
          "url": "https://www.dlxco.com/the-promenade-west-lofts-condos-for-sale-lease-downtown-losangeles?mlsno=15-879535"
         },
         {
          "bathrooms": 3,
          "bedrooms": 2,
          "date": "2015-03-25",
          "price": 485000,
          "price_per_square_foot": 321.40490390987406,
          "square_feet": 1509,
          "unit": 319,
          "url": "https://www.dlxco.com/the-promenade-west-lofts-condos-for-sale-lease-downtown-losangeles?mlsno=14-795913"
         },
         {
          "bathrooms": 3,
          "bedrooms": 2,
          "date": "2015-02-18",
          "price": 560000,
          "price_per_square_foot": 373.33333333333326,
          "square_feet": 1500,
          "unit": 203,
          "url": "https://www.dlxco.com/the-promenade-west-lofts-condos-for-sale-lease-downtown-losangeles?mlsno=14-812843"
         },
         {
          "bathrooms": 2,
          "bedrooms": 2,
          "date": "2014-12-30",
          "price": 495000,
          "price_per_square_foot": 374.1496598639456,
          "square_feet": 1323,
          "unit": 524,
          "url": "https://www.dlxco.com/the-promenade-west-lofts-condos-for-sale-lease-downtown-losangeles?mlsno=14-781543"
         },
         {
          "bathrooms": 2,
          "bedrooms": 2,
          "date": "2014-12-23",
          "price": 499000,
          "price_per_square_foot": 410.02465078060806,
          "square_feet": 1217,
          "unit": 209,
          "url": "https://www.dlxco.com/the-promenade-west-lofts-condos-for-sale-lease-downtown-losangeles?mlsno=14-812935"
         },
         {
          "bathrooms": 1,
          "bedrooms": 1,
          "date": "2014-11-13",
          "price": 385000,
          "price_per_square_foot": 382.7037773359841,
          "square_feet": 1006,
          "unit": 610,
          "url": "https://www.dlxco.com/the-promenade-west-lofts-condos-for-sale-lease-downtown-losangeles?mlsno=14-791495"
         },
         {
          "bathrooms": 3,
          "bedrooms": 2,
          "date": "2014-09-25",
          "price": 470000,
          "price_per_square_foot": 313.7516688918558,
          "square_feet": 1498,
          "unit": 317,
          "url": "https://www.dlxco.com/the-promenade-west-lofts-condos-for-sale-lease-downtown-losangeles?mlsno=214012630IT"
         },
         {
          "bathrooms": 3,
          "bedrooms": 2,
          "date": "2014-09-19",
          "price": 550000,
          "price_per_square_foot": 363.75661375661383,
          "square_feet": 1512,
          "unit": 206,
          "url": "https://www.dlxco.com/the-promenade-west-lofts-condos-for-sale-lease-downtown-losangeles?mlsno=14-738439"
         },
         {
          "bathrooms": 2,
          "bedrooms": 3,
          "date": "2014-05-22",
          "price": 625000,
          "price_per_square_foot": 370.91988130563794,
          "square_feet": 1685,
          "unit": 405,
          "url": "https://www.dlxco.com/the-promenade-west-lofts-condos-for-sale-lease-downtown-losangeles?mlsno=14-745001"
         },
         {
          "bathrooms": 3,
          "bedrooms": 2,
          "date": "2014-02-12",
          "price": 398500,
          "price_per_square_foot": 264.0821736249172,
          "square_feet": 1509,
          "unit": 319,
          "url": "https://www.dlxco.com/the-promenade-west-lofts-condos-for-sale-lease-downtown-losangeles?mlsno=SR13129134CN"
         },
         {
          "bathrooms": 2,
          "bedrooms": 2,
          "date": "2014-01-17",
          "price": 405000,
          "price_per_square_foot": 306.8181818181818,
          "square_feet": 1320,
          "unit": 108,
          "url": "https://www.dlxco.com/the-promenade-west-lofts-condos-for-sale-lease-downtown-losangeles?mlsno=13-719047"
         },
         {
          "bathrooms": 1,
          "bedrooms": 1,
          "date": "2013-11-19",
          "price": 390000,
          "price_per_square_foot": 387.6739562624255,
          "square_feet": 1006,
          "unit": 711,
          "url": "https://www.dlxco.com/the-promenade-west-lofts-condos-for-sale-lease-downtown-losangeles?mlsno=13-689693"
         },
         {
          "bathrooms": 2,
          "bedrooms": 2,
          "date": "2013-10-09",
          "price": 381650,
          "price_per_square_foot": 313.5990139687757,
          "square_feet": 1217,
          "unit": 211,
          "url": "https://www.dlxco.com/the-promenade-west-lofts-condos-for-sale-lease-downtown-losangeles?mlsno=PW13077881MR"
         },
         {
          "bathrooms": 2,
          "bedrooms": 2,
          "date": "2013-09-11",
          "price": 420000,
          "price_per_square_foot": 340.90909090909093,
          "square_feet": 1232,
          "unit": 502,
          "url": "https://www.dlxco.com/the-promenade-west-lofts-condos-for-sale-lease-downtown-losangeles?mlsno=13-664793"
         },
         {
          "bathrooms": 1,
          "bedrooms": 1,
          "date": "2013-04-12",
          "price": 290000,
          "price_per_square_foot": 289.13260219341976,
          "square_feet": 1003,
          "unit": 609,
          "url": "https://www.dlxco.com/the-promenade-west-lofts-condos-for-sale-lease-downtown-losangeles?mlsno=S710858MR"
         },
         {
          "bathrooms": 2,
          "bedrooms": 2,
          "date": "2013-02-11",
          "price": 335000,
          "price_per_square_foot": 253.21239606953893,
          "square_feet": 1323,
          "unit": 522,
          "url": "https://www.dlxco.com/the-promenade-west-lofts-condos-for-sale-lease-downtown-losangeles?mlsno=P837804MR"
         },
         {
          "bathrooms": 2,
          "bedrooms": 2,
          "date": "2013-02-04",
          "price": 390000,
          "price_per_square_foot": 293.896006028636,
          "square_feet": 1327,
          "unit": 403,
          "url": "https://www.dlxco.com/the-promenade-west-lofts-condos-for-sale-lease-downtown-losangeles?mlsno=12-631013"
         },
         {
          "bathrooms": 2,
          "bedrooms": 2,
          "date": "2012-11-07",
          "price": 380000,
          "price_per_square_foot": 286.3602110022607,
          "square_feet": 1327,
          "unit": 416,
          "url": "https://www.dlxco.com/the-promenade-west-lofts-condos-for-sale-lease-downtown-losangeles?mlsno=22167529IT"
         },
         {
          "bathrooms": 2,
          "bedrooms": 2,
          "date": "2012-10-24",
          "price": 290000,
          "price_per_square_foot": 218.53805576488318,
          "square_feet": 1327,
          "unit": 526,
          "url": "https://www.dlxco.com/the-promenade-west-lofts-condos-for-sale-lease-downtown-losangeles?mlsno=12-598567"
         },
         {
          "bathrooms": 2,
          "bedrooms": 2,
          "date": "2012-06-20",
          "price": 395000,
          "price_per_square_foot": 298.56386999244137,
          "square_feet": 1323,
          "unit": 308,
          "url": "https://www.dlxco.com/the-promenade-west-lofts-condos-for-sale-lease-downtown-losangeles?mlsno=12-593925"
         },
         {
          "bathrooms": 2,
          "bedrooms": 2,
          "date": "2012-02-10",
          "price": 380000,
          "price_per_square_foot": 286.3602110022607,
          "square_feet": 1327,
          "unit": 415,
          "url": "https://www.dlxco.com/the-promenade-west-lofts-condos-for-sale-lease-downtown-losangeles?mlsno=11-569123"
         },
         {
          "bathrooms": 3,
          "bedrooms": 2,
          "date": "2011-10-07",
          "price": 455000,
          "price_per_square_foot": 301.92435301924354,
          "square_feet": 1507,
          "unit": 205,
          "url": "https://www.dlxco.com/the-promenade-west-lofts-condos-for-sale-lease-downtown-losangeles?mlsno=11-535629"
         },
         {
          "bathrooms": 3,
          "bedrooms": 2,
          "date": "2011-09-27",
          "price": 275000,
          "price_per_square_foot": 181.87830687830692,
          "square_feet": 1512,
          "unit": 216,
          "url": "https://www.dlxco.com/the-promenade-west-lofts-condos-for-sale-lease-downtown-losangeles?mlsno=C11032172MR"
         },
         {
          "bathrooms": 2,
          "bedrooms": 2,
          "date": "2011-08-16",
          "price": 350000,
          "price_per_square_foot": 284.09090909090907,
          "square_feet": 1232,
          "unit": 511,
          "url": "https://www.dlxco.com/the-promenade-west-lofts-condos-for-sale-lease-downtown-losangeles?mlsno=11-524713"
         },
         {
          "bathrooms": 1,
          "bedrooms": 1,
          "date": "2011-07-18",
          "price": 270000,
          "price_per_square_foot": 268.38966202783297,
          "square_feet": 1006,
          "unit": 804,
          "url": "https://www.dlxco.com/the-promenade-west-lofts-condos-for-sale-lease-downtown-losangeles?mlsno=11-505205"
         },
         {
          "bathrooms": 3,
          "bedrooms": 2,
          "date": "2011-06-27",
          "price": 375000,
          "price_per_square_foot": 248.01587301587298,
          "square_feet": 1512,
          "unit": 314,
          "url": "https://www.dlxco.com/the-promenade-west-lofts-condos-for-sale-lease-downtown-losangeles?mlsno=11-507735"
         },
         {
          "bathrooms": 3,
          "bedrooms": 2,
          "date": "2011-04-15",
          "price": 443000,
          "price_per_square_foot": 295.3333333333333,
          "square_feet": 1500,
          "unit": 203,
          "url": "https://www.dlxco.com/the-promenade-west-lofts-condos-for-sale-lease-downtown-losangeles?mlsno=10-469183"
         },
         {
          "bathrooms": 2,
          "bedrooms": 2,
          "date": "2011-04-14",
          "price": 265000,
          "price_per_square_foot": 217.74856203779785,
          "square_feet": 1217,
          "unit": 107,
          "url": "https://www.dlxco.com/the-promenade-west-lofts-condos-for-sale-lease-downtown-losangeles?mlsno=R1006067MR"
         },
         {
          "bathrooms": 1,
          "bedrooms": 1,
          "date": "2011-01-14",
          "price": 250000,
          "price_per_square_foot": 252.0161290322581,
          "square_feet": 992,
          "unit": 714,
          "url": "https://www.dlxco.com/the-promenade-west-lofts-condos-for-sale-lease-downtown-losangeles?mlsno=10-480135"
         }
        ]
       },
       "encoding": {
        "tooltip": [
         {
          "field": "unit",
          "type": "quantitative"
         },
         {
          "field": "price",
          "type": "quantitative"
         },
         {
          "field": "square_feet",
          "type": "quantitative"
         },
         {
          "field": "price_per_square_foot",
          "type": "quantitative"
         }
        ],
        "x": {
         "axis": {
          "format": "%Y",
          "grid": false,
          "tickCount": 7,
          "title": ""
         },
         "field": "date",
         "type": "temporal"
        },
        "y": {
         "axis": {
          "format": "$s",
          "grid": false,
          "title": ""
         },
         "field": "price",
         "scale": {
          "domain": [
           0,
           700000
          ]
         },
         "type": "quantitative"
        }
       },
       "mark": {
        "color": "black",
        "size": 50,
        "type": "point"
       },
       "width": 600
      },
      "image/png": "[encoded data removed]",
      "text/plain": [
       "<VegaLite 2 object>\n",
       "\n",
       "If you see this message, it means the renderer has not been properly enabled\n",
       "for the frontend that you are using. For more information, see\n",
       "https://altair-viz.github.io/user_guide/troubleshooting.html\n"
      ]
     },
     "execution_count": 66,
     "metadata": {},
     "output_type": "execute_result"
    }
   ],
   "source": [
    "chart = alt.Chart(df).mark_point(size=50, color=\"black\").encode(\n",
    "    x=alt.X(\n",
    "        \"date:T\",\n",
    "        axis=alt.Axis(title=\"\", format=\"%Y\", tickCount=7, grid=False),\n",
    "    ),\n",
    "    y=alt.Y(\n",
    "        \"price:Q\",\n",
    "        axis=alt.Axis(title=\"\", format=\"$s\", grid=False),\n",
    "        scale=alt.Scale(domain=[0, 700000])\n",
    "    ),\n",
    "    tooltip=[\"unit\", \"price\", \"square_feet\", \"price_per_square_foot\"]\n",
    ").properties(width=600)\n",
    "\n",
    "chart.configure_view(\n",
    "    strokeOpacity=0\n",
    ").save('assets/price-by-date.svg')\n",
    "\n",
    "chart"
   ]
  },
  {
   "cell_type": "code",
   "execution_count": 67,
   "metadata": {},
   "outputs": [
    {
     "data": {
      "application/vnd.vegalite.v2+json": {
       "$schema": "https://vega.github.io/schema/vega-lite/v2.4.3.json",
       "config": {
        "view": {
         "height": 300,
         "width": 400
        }
       },
       "data": {
        "values": [
         {
          "bathrooms": 2,
          "bedrooms": 2,
          "date": "2018-06-12",
          "price": 600000,
          "price_per_square_foot": 453.51473922902494,
          "square_feet": 1323,
          "unit": 527,
          "url": "https://www.dlxco.com/the-promenade-west-lofts-condos-for-sale-lease-downtown-losangeles?mlsno=18-334730"
         },
         {
          "bathrooms": 2,
          "bedrooms": 2,
          "date": "2018-04-11",
          "price": 598000,
          "price_per_square_foot": 443.62017804154294,
          "square_feet": 1348,
          "unit": 706,
          "url": "https://www.dlxco.com/the-promenade-west-lofts-condos-for-sale-lease-downtown-losangeles?mlsno=SR18004194CN"
         },
         {
          "bathrooms": 2,
          "bedrooms": 2,
          "date": "2018-02-01",
          "price": 590000,
          "price_per_square_foot": 445.95616024187444,
          "square_feet": 1323,
          "unit": 409,
          "url": "https://www.dlxco.com/the-promenade-west-lofts-condos-for-sale-lease-downtown-losangeles?mlsno=18-302636"
         },
         {
          "bathrooms": 3,
          "bedrooms": 2,
          "date": "2018-01-24",
          "price": 615000,
          "price_per_square_foot": 407.55467196819086,
          "square_feet": 1509,
          "unit": 315,
          "url": "https://www.dlxco.com/the-promenade-west-lofts-condos-for-sale-lease-downtown-losangeles?mlsno=17-280756"
         },
         {
          "bathrooms": 1,
          "bedrooms": 1,
          "date": "2017-12-13",
          "price": 455000,
          "price_per_square_foot": 452.286282306163,
          "square_feet": 1006,
          "unit": 804,
          "url": "https://www.dlxco.com/the-promenade-west-lofts-condos-for-sale-lease-downtown-losangeles?mlsno=17-276468"
         },
         {
          "bathrooms": 2,
          "bedrooms": 1,
          "date": "2017-12-08",
          "price": 450000,
          "price_per_square_foot": 447.31610337972165,
          "square_feet": 1006,
          "unit": 803,
          "url": "https://www.dlxco.com/the-promenade-west-lofts-condos-for-sale-lease-downtown-losangeles?mlsno=RS17251377MR"
         },
         {
          "bathrooms": 2,
          "bedrooms": 2,
          "date": "2017-08-31",
          "price": 555000,
          "price_per_square_foot": 450.48701298701303,
          "square_feet": 1232,
          "unit": 511,
          "url": "https://www.dlxco.com/the-promenade-west-lofts-condos-for-sale-lease-downtown-losangeles?mlsno=SR17142069CN"
         },
         {
          "bathrooms": 2,
          "bedrooms": 2,
          "date": "2017-08-22",
          "price": 573000,
          "price_per_square_foot": 470.8299096138044,
          "square_feet": 1217,
          "unit": 305,
          "url": "https://www.dlxco.com/the-promenade-west-lofts-condos-for-sale-lease-downtown-losangeles?mlsno=17-241720"
         },
         {
          "bathrooms": 3,
          "bedrooms": 2,
          "date": "2017-07-31",
          "price": 580000,
          "price_per_square_foot": 386.66666666666674,
          "square_feet": 1500,
          "unit": 316,
          "url": "https://www.dlxco.com/the-promenade-west-lofts-condos-for-sale-lease-downtown-losangeles?mlsno=17-206676"
         },
         {
          "bathrooms": 1,
          "bedrooms": 1,
          "date": "2017-07-24",
          "price": 462000,
          "price_per_square_foot": 465.72580645161287,
          "square_feet": 992,
          "unit": 712,
          "url": "https://www.dlxco.com/the-promenade-west-lofts-condos-for-sale-lease-downtown-losangeles?mlsno=17-233274"
         },
         {
          "bathrooms": 2,
          "bedrooms": 3,
          "date": "2017-07-19",
          "price": 612000,
          "price_per_square_foot": 375.9213759213759,
          "square_feet": 1628,
          "unit": 705,
          "url": "https://www.dlxco.com/the-promenade-west-lofts-condos-for-sale-lease-downtown-losangeles?mlsno=17-229802"
         },
         {
          "bathrooms": 2,
          "bedrooms": 2,
          "date": "2017-07-06",
          "price": 570000,
          "price_per_square_foot": 468.3648315529992,
          "square_feet": 1217,
          "unit": 309,
          "url": "https://www.dlxco.com/the-promenade-west-lofts-condos-for-sale-lease-downtown-losangeles?mlsno=17-215688"
         },
         {
          "bathrooms": 2,
          "bedrooms": 2,
          "date": "2017-06-26",
          "price": 527500,
          "price_per_square_foot": 391.32047477744806,
          "square_feet": 1348,
          "unit": 621,
          "url": "https://www.dlxco.com/the-promenade-west-lofts-condos-for-sale-lease-downtown-losangeles?mlsno=SB17104895MR"
         },
         {
          "bathrooms": 3,
          "bedrooms": 2,
          "date": "2017-05-12",
          "price": 605000,
          "price_per_square_foot": 400.13227513227514,
          "square_feet": 1512,
          "unit": 206,
          "url": "https://www.dlxco.com/the-promenade-west-lofts-condos-for-sale-lease-downtown-losangeles?mlsno=17-211192"
         },
         {
          "bathrooms": 2,
          "bedrooms": 3,
          "date": "2017-03-27",
          "price": 550000,
          "price_per_square_foot": 322.20269478617456,
          "square_feet": 1707,
          "unit": 520,
          "url": "https://www.dlxco.com/the-promenade-west-lofts-condos-for-sale-lease-downtown-losangeles?mlsno=16-166900"
         },
         {
          "bathrooms": 2,
          "bedrooms": 2,
          "date": "2017-01-03",
          "price": 570000,
          "price_per_square_foot": 430.8390022675737,
          "square_feet": 1323,
          "unit": 619,
          "url": "https://www.dlxco.com/the-promenade-west-lofts-condos-for-sale-lease-downtown-losangeles?mlsno=16-176362"
         },
         {
          "bathrooms": 2,
          "bedrooms": 2,
          "date": "2016-11-18",
          "price": 545000,
          "price_per_square_foot": 434.95610534716684,
          "square_feet": 1253,
          "unit": 501,
          "url": "https://www.dlxco.com/the-promenade-west-lofts-condos-for-sale-lease-downtown-losangeles?mlsno=16-149712"
         },
         {
          "bathrooms": 2,
          "bedrooms": 2,
          "date": "2016-11-14",
          "price": 615000,
          "price_per_square_foot": 440.5444126074497,
          "square_feet": 1396,
          "unit": 808,
          "url": "https://www.dlxco.com/the-promenade-west-lofts-condos-for-sale-lease-downtown-losangeles?mlsno=16-138782"
         },
         {
          "bathrooms": 1,
          "bedrooms": 1,
          "date": "2016-10-11",
          "price": 466000,
          "price_per_square_foot": 463.220675944334,
          "square_feet": 1006,
          "unit": 806,
          "url": "https://www.dlxco.com/the-promenade-west-lofts-condos-for-sale-lease-downtown-losangeles?mlsno=16-122734"
         },
         {
          "bathrooms": 2,
          "bedrooms": 2,
          "date": "2016-09-17",
          "price": 575000,
          "price_per_square_foot": 433.3082140165788,
          "square_feet": 1327,
          "unit": 415,
          "url": "https://www.dlxco.com/the-promenade-west-lofts-condos-for-sale-lease-downtown-losangeles?mlsno=16-142232"
         },
         {
          "bathrooms": 1,
          "bedrooms": 1,
          "date": "2016-08-05",
          "price": 545000,
          "price_per_square_foot": 541.7495029821074,
          "square_feet": 1006,
          "unit": 802,
          "url": "https://www.dlxco.com/the-promenade-west-lofts-condos-for-sale-lease-downtown-losangeles?mlsno=16-125118"
         },
         {
          "bathrooms": 3,
          "bedrooms": 2,
          "date": "2016-07-26",
          "price": 629500,
          "price_per_square_foot": 416.33597883597884,
          "square_feet": 1512,
          "unit": 314,
          "url": "https://www.dlxco.com/the-promenade-west-lofts-condos-for-sale-lease-downtown-losangeles?mlsno=16-124382"
         },
         {
          "bathrooms": 2,
          "bedrooms": 3,
          "date": "2016-05-31",
          "price": 637000,
          "price_per_square_foot": 391.03744628606506,
          "square_feet": 1629,
          "unit": 505,
          "url": "https://www.dlxco.com/the-promenade-west-lofts-condos-for-sale-lease-downtown-losangeles?mlsno=PW16060511MR"
         },
         {
          "bathrooms": 1,
          "bedrooms": 1,
          "date": "2016-05-17",
          "price": 530000,
          "price_per_square_foot": 526.8389662027834,
          "square_feet": 1006,
          "unit": 801,
          "url": "https://www.dlxco.com/the-promenade-west-lofts-condos-for-sale-lease-downtown-losangeles?mlsno=16-975267"
         },
         {
          "bathrooms": 2,
          "bedrooms": 2,
          "date": "2016-04-11",
          "price": 520000,
          "price_per_square_foot": 385.75667655786344,
          "square_feet": 1348,
          "unit": 414,
          "url": "https://www.dlxco.com/the-promenade-west-lofts-condos-for-sale-lease-downtown-losangeles?mlsno=15-963651"
         },
         {
          "bathrooms": 3,
          "bedrooms": 2,
          "date": "2016-01-09",
          "price": 585000,
          "price_per_square_foot": 386.90476190476187,
          "square_feet": 1512,
          "unit": 202,
          "url": "https://www.dlxco.com/the-promenade-west-lofts-condos-for-sale-lease-downtown-losangeles?mlsno=15-960051"
         },
         {
          "bathrooms": 2,
          "bedrooms": 2,
          "date": "2015-11-25",
          "price": 535000,
          "price_per_square_foot": 408.08543096872603,
          "square_feet": 1311,
          "unit": 516,
          "url": "https://www.dlxco.com/the-promenade-west-lofts-condos-for-sale-lease-downtown-losangeles?mlsno=315009216IT"
         },
         {
          "bathrooms": 2,
          "bedrooms": 2,
          "date": "2015-09-28",
          "price": 560000,
          "price_per_square_foot": 416.0475482912333,
          "square_feet": 1346,
          "unit": 504,
          "url": "https://www.dlxco.com/the-promenade-west-lofts-condos-for-sale-lease-downtown-losangeles?mlsno=15-927421"
         },
         {
          "bathrooms": 2,
          "bedrooms": 2,
          "date": "2015-09-03",
          "price": 535000,
          "price_per_square_foot": 404.07854984894266,
          "square_feet": 1324,
          "unit": 611,
          "url": "https://www.dlxco.com/the-promenade-west-lofts-condos-for-sale-lease-downtown-losangeles?mlsno=15-906695"
         },
         {
          "bathrooms": 2,
          "bedrooms": 2,
          "date": "2015-08-24",
          "price": 558000,
          "price_per_square_foot": 421.76870748299314,
          "square_feet": 1323,
          "unit": 616,
          "url": "https://www.dlxco.com/the-promenade-west-lofts-condos-for-sale-lease-downtown-losangeles?mlsno=15-907973"
         },
         {
          "bathrooms": 2,
          "bedrooms": 2,
          "date": "2015-08-20",
          "price": 625000,
          "price_per_square_foot": 472.41118669690104,
          "square_feet": 1323,
          "unit": 527,
          "url": "https://www.dlxco.com/the-promenade-west-lofts-condos-for-sale-lease-downtown-losangeles?mlsno=AR15120825MR"
         },
         {
          "bathrooms": 2,
          "bedrooms": 2,
          "date": "2015-08-20",
          "price": 520000,
          "price_per_square_foot": 385.75667655786344,
          "square_feet": 1348,
          "unit": 701,
          "url": "https://www.dlxco.com/the-promenade-west-lofts-condos-for-sale-lease-downtown-losangeles?mlsno=15-913217"
         },
         {
          "bathrooms": 2,
          "bedrooms": 2,
          "date": "2015-04-14",
          "price": 500000,
          "price_per_square_foot": 370.91988130563794,
          "square_feet": 1348,
          "unit": 704,
          "url": "https://www.dlxco.com/the-promenade-west-lofts-condos-for-sale-lease-downtown-losangeles?mlsno=15-824505"
         },
         {
          "bathrooms": 2,
          "bedrooms": 2,
          "date": "2015-03-26",
          "price": 530000,
          "price_per_square_foot": 393.1750741839763,
          "square_feet": 1348,
          "unit": 412,
          "url": "https://www.dlxco.com/the-promenade-west-lofts-condos-for-sale-lease-downtown-losangeles?mlsno=15-879535"
         },
         {
          "bathrooms": 3,
          "bedrooms": 2,
          "date": "2015-03-25",
          "price": 485000,
          "price_per_square_foot": 321.40490390987406,
          "square_feet": 1509,
          "unit": 319,
          "url": "https://www.dlxco.com/the-promenade-west-lofts-condos-for-sale-lease-downtown-losangeles?mlsno=14-795913"
         },
         {
          "bathrooms": 3,
          "bedrooms": 2,
          "date": "2015-02-18",
          "price": 560000,
          "price_per_square_foot": 373.33333333333326,
          "square_feet": 1500,
          "unit": 203,
          "url": "https://www.dlxco.com/the-promenade-west-lofts-condos-for-sale-lease-downtown-losangeles?mlsno=14-812843"
         },
         {
          "bathrooms": 2,
          "bedrooms": 2,
          "date": "2014-12-30",
          "price": 495000,
          "price_per_square_foot": 374.1496598639456,
          "square_feet": 1323,
          "unit": 524,
          "url": "https://www.dlxco.com/the-promenade-west-lofts-condos-for-sale-lease-downtown-losangeles?mlsno=14-781543"
         },
         {
          "bathrooms": 2,
          "bedrooms": 2,
          "date": "2014-12-23",
          "price": 499000,
          "price_per_square_foot": 410.02465078060806,
          "square_feet": 1217,
          "unit": 209,
          "url": "https://www.dlxco.com/the-promenade-west-lofts-condos-for-sale-lease-downtown-losangeles?mlsno=14-812935"
         },
         {
          "bathrooms": 1,
          "bedrooms": 1,
          "date": "2014-11-13",
          "price": 385000,
          "price_per_square_foot": 382.7037773359841,
          "square_feet": 1006,
          "unit": 610,
          "url": "https://www.dlxco.com/the-promenade-west-lofts-condos-for-sale-lease-downtown-losangeles?mlsno=14-791495"
         },
         {
          "bathrooms": 3,
          "bedrooms": 2,
          "date": "2014-09-25",
          "price": 470000,
          "price_per_square_foot": 313.7516688918558,
          "square_feet": 1498,
          "unit": 317,
          "url": "https://www.dlxco.com/the-promenade-west-lofts-condos-for-sale-lease-downtown-losangeles?mlsno=214012630IT"
         },
         {
          "bathrooms": 3,
          "bedrooms": 2,
          "date": "2014-09-19",
          "price": 550000,
          "price_per_square_foot": 363.75661375661383,
          "square_feet": 1512,
          "unit": 206,
          "url": "https://www.dlxco.com/the-promenade-west-lofts-condos-for-sale-lease-downtown-losangeles?mlsno=14-738439"
         },
         {
          "bathrooms": 2,
          "bedrooms": 3,
          "date": "2014-05-22",
          "price": 625000,
          "price_per_square_foot": 370.91988130563794,
          "square_feet": 1685,
          "unit": 405,
          "url": "https://www.dlxco.com/the-promenade-west-lofts-condos-for-sale-lease-downtown-losangeles?mlsno=14-745001"
         },
         {
          "bathrooms": 3,
          "bedrooms": 2,
          "date": "2014-02-12",
          "price": 398500,
          "price_per_square_foot": 264.0821736249172,
          "square_feet": 1509,
          "unit": 319,
          "url": "https://www.dlxco.com/the-promenade-west-lofts-condos-for-sale-lease-downtown-losangeles?mlsno=SR13129134CN"
         },
         {
          "bathrooms": 2,
          "bedrooms": 2,
          "date": "2014-01-17",
          "price": 405000,
          "price_per_square_foot": 306.8181818181818,
          "square_feet": 1320,
          "unit": 108,
          "url": "https://www.dlxco.com/the-promenade-west-lofts-condos-for-sale-lease-downtown-losangeles?mlsno=13-719047"
         },
         {
          "bathrooms": 1,
          "bedrooms": 1,
          "date": "2013-11-19",
          "price": 390000,
          "price_per_square_foot": 387.6739562624255,
          "square_feet": 1006,
          "unit": 711,
          "url": "https://www.dlxco.com/the-promenade-west-lofts-condos-for-sale-lease-downtown-losangeles?mlsno=13-689693"
         },
         {
          "bathrooms": 2,
          "bedrooms": 2,
          "date": "2013-10-09",
          "price": 381650,
          "price_per_square_foot": 313.5990139687757,
          "square_feet": 1217,
          "unit": 211,
          "url": "https://www.dlxco.com/the-promenade-west-lofts-condos-for-sale-lease-downtown-losangeles?mlsno=PW13077881MR"
         },
         {
          "bathrooms": 2,
          "bedrooms": 2,
          "date": "2013-09-11",
          "price": 420000,
          "price_per_square_foot": 340.90909090909093,
          "square_feet": 1232,
          "unit": 502,
          "url": "https://www.dlxco.com/the-promenade-west-lofts-condos-for-sale-lease-downtown-losangeles?mlsno=13-664793"
         },
         {
          "bathrooms": 1,
          "bedrooms": 1,
          "date": "2013-04-12",
          "price": 290000,
          "price_per_square_foot": 289.13260219341976,
          "square_feet": 1003,
          "unit": 609,
          "url": "https://www.dlxco.com/the-promenade-west-lofts-condos-for-sale-lease-downtown-losangeles?mlsno=S710858MR"
         },
         {
          "bathrooms": 2,
          "bedrooms": 2,
          "date": "2013-02-11",
          "price": 335000,
          "price_per_square_foot": 253.21239606953893,
          "square_feet": 1323,
          "unit": 522,
          "url": "https://www.dlxco.com/the-promenade-west-lofts-condos-for-sale-lease-downtown-losangeles?mlsno=P837804MR"
         },
         {
          "bathrooms": 2,
          "bedrooms": 2,
          "date": "2013-02-04",
          "price": 390000,
          "price_per_square_foot": 293.896006028636,
          "square_feet": 1327,
          "unit": 403,
          "url": "https://www.dlxco.com/the-promenade-west-lofts-condos-for-sale-lease-downtown-losangeles?mlsno=12-631013"
         },
         {
          "bathrooms": 2,
          "bedrooms": 2,
          "date": "2012-11-07",
          "price": 380000,
          "price_per_square_foot": 286.3602110022607,
          "square_feet": 1327,
          "unit": 416,
          "url": "https://www.dlxco.com/the-promenade-west-lofts-condos-for-sale-lease-downtown-losangeles?mlsno=22167529IT"
         },
         {
          "bathrooms": 2,
          "bedrooms": 2,
          "date": "2012-10-24",
          "price": 290000,
          "price_per_square_foot": 218.53805576488318,
          "square_feet": 1327,
          "unit": 526,
          "url": "https://www.dlxco.com/the-promenade-west-lofts-condos-for-sale-lease-downtown-losangeles?mlsno=12-598567"
         },
         {
          "bathrooms": 2,
          "bedrooms": 2,
          "date": "2012-06-20",
          "price": 395000,
          "price_per_square_foot": 298.56386999244137,
          "square_feet": 1323,
          "unit": 308,
          "url": "https://www.dlxco.com/the-promenade-west-lofts-condos-for-sale-lease-downtown-losangeles?mlsno=12-593925"
         },
         {
          "bathrooms": 2,
          "bedrooms": 2,
          "date": "2012-02-10",
          "price": 380000,
          "price_per_square_foot": 286.3602110022607,
          "square_feet": 1327,
          "unit": 415,
          "url": "https://www.dlxco.com/the-promenade-west-lofts-condos-for-sale-lease-downtown-losangeles?mlsno=11-569123"
         },
         {
          "bathrooms": 3,
          "bedrooms": 2,
          "date": "2011-10-07",
          "price": 455000,
          "price_per_square_foot": 301.92435301924354,
          "square_feet": 1507,
          "unit": 205,
          "url": "https://www.dlxco.com/the-promenade-west-lofts-condos-for-sale-lease-downtown-losangeles?mlsno=11-535629"
         },
         {
          "bathrooms": 3,
          "bedrooms": 2,
          "date": "2011-09-27",
          "price": 275000,
          "price_per_square_foot": 181.87830687830692,
          "square_feet": 1512,
          "unit": 216,
          "url": "https://www.dlxco.com/the-promenade-west-lofts-condos-for-sale-lease-downtown-losangeles?mlsno=C11032172MR"
         },
         {
          "bathrooms": 2,
          "bedrooms": 2,
          "date": "2011-08-16",
          "price": 350000,
          "price_per_square_foot": 284.09090909090907,
          "square_feet": 1232,
          "unit": 511,
          "url": "https://www.dlxco.com/the-promenade-west-lofts-condos-for-sale-lease-downtown-losangeles?mlsno=11-524713"
         },
         {
          "bathrooms": 1,
          "bedrooms": 1,
          "date": "2011-07-18",
          "price": 270000,
          "price_per_square_foot": 268.38966202783297,
          "square_feet": 1006,
          "unit": 804,
          "url": "https://www.dlxco.com/the-promenade-west-lofts-condos-for-sale-lease-downtown-losangeles?mlsno=11-505205"
         },
         {
          "bathrooms": 3,
          "bedrooms": 2,
          "date": "2011-06-27",
          "price": 375000,
          "price_per_square_foot": 248.01587301587298,
          "square_feet": 1512,
          "unit": 314,
          "url": "https://www.dlxco.com/the-promenade-west-lofts-condos-for-sale-lease-downtown-losangeles?mlsno=11-507735"
         },
         {
          "bathrooms": 3,
          "bedrooms": 2,
          "date": "2011-04-15",
          "price": 443000,
          "price_per_square_foot": 295.3333333333333,
          "square_feet": 1500,
          "unit": 203,
          "url": "https://www.dlxco.com/the-promenade-west-lofts-condos-for-sale-lease-downtown-losangeles?mlsno=10-469183"
         },
         {
          "bathrooms": 2,
          "bedrooms": 2,
          "date": "2011-04-14",
          "price": 265000,
          "price_per_square_foot": 217.74856203779785,
          "square_feet": 1217,
          "unit": 107,
          "url": "https://www.dlxco.com/the-promenade-west-lofts-condos-for-sale-lease-downtown-losangeles?mlsno=R1006067MR"
         },
         {
          "bathrooms": 1,
          "bedrooms": 1,
          "date": "2011-01-14",
          "price": 250000,
          "price_per_square_foot": 252.0161290322581,
          "square_feet": 992,
          "unit": 714,
          "url": "https://www.dlxco.com/the-promenade-west-lofts-condos-for-sale-lease-downtown-losangeles?mlsno=10-480135"
         }
        ]
       },
       "encoding": {
        "tooltip": [
         {
          "field": "unit",
          "type": "quantitative"
         },
         {
          "field": "price",
          "type": "quantitative"
         },
         {
          "field": "square_feet",
          "type": "quantitative"
         },
         {
          "field": "price_per_square_foot",
          "type": "quantitative"
         }
        ],
        "x": {
         "axis": {
          "format": "%Y",
          "grid": false,
          "tickCount": 7,
          "title": ""
         },
         "field": "date",
         "type": "temporal"
        },
        "y": {
         "axis": {
          "format": "$s",
          "grid": false,
          "title": ""
         },
         "field": "price_per_square_foot",
         "scale": {
          "domain": [
           0,
           600
          ]
         },
         "type": "quantitative"
        }
       },
       "mark": {
        "color": "black",
        "size": 50,
        "type": "point"
       },
       "width": 600
      },
      "image/png": "[encoded data removed]",
      "text/plain": [
       "<VegaLite 2 object>\n",
       "\n",
       "If you see this message, it means the renderer has not been properly enabled\n",
       "for the frontend that you are using. For more information, see\n",
       "https://altair-viz.github.io/user_guide/troubleshooting.html\n"
      ]
     },
     "execution_count": 67,
     "metadata": {},
     "output_type": "execute_result"
    }
   ],
   "source": [
    "chart = alt.Chart(df).mark_point(size=50, color=\"black\").encode(\n",
    "    x=alt.X(\n",
    "        \"date:T\",\n",
    "        axis=alt.Axis(title=\"\", format=\"%Y\", tickCount=7, grid=False),\n",
    "    ),\n",
    "    y=alt.Y(\n",
    "        \"price_per_square_foot:Q\",\n",
    "        axis=alt.Axis(title=\"\", format=\"$s\", grid=False),\n",
    "        scale=alt.Scale(domain=[0, 600])\n",
    "    ),\n",
    "    tooltip=[\"unit\", \"price\", \"square_feet\", \"price_per_square_foot\"]\n",
    ").properties(width=600)\n",
    "\n",
    "chart.configure_view(\n",
    "    strokeOpacity=0\n",
    ").save('assets/price-per-sqft-by-date.svg')\n",
    "\n",
    "chart"
   ]
  },
  {
   "cell_type": "code",
   "execution_count": 68,
   "metadata": {},
   "outputs": [
    {
     "data": {
      "application/vnd.vegalite.v2+json": {
       "$schema": "https://vega.github.io/schema/vega-lite/v2.4.3.json",
       "config": {
        "view": {
         "height": 300,
         "width": 400
        }
       },
       "layer": [
        {
         "data": {
          "values": [
           {
            "bathrooms": 2,
            "bedrooms": 2,
            "date": "2018-06-12",
            "price": 600000,
            "price_per_square_foot": 453.51473922902494,
            "square_feet": 1323,
            "unit": 527,
            "url": "https://www.dlxco.com/the-promenade-west-lofts-condos-for-sale-lease-downtown-losangeles?mlsno=18-334730"
           },
           {
            "bathrooms": 2,
            "bedrooms": 2,
            "date": "2018-04-11",
            "price": 598000,
            "price_per_square_foot": 443.62017804154294,
            "square_feet": 1348,
            "unit": 706,
            "url": "https://www.dlxco.com/the-promenade-west-lofts-condos-for-sale-lease-downtown-losangeles?mlsno=SR18004194CN"
           },
           {
            "bathrooms": 2,
            "bedrooms": 2,
            "date": "2018-02-01",
            "price": 590000,
            "price_per_square_foot": 445.95616024187444,
            "square_feet": 1323,
            "unit": 409,
            "url": "https://www.dlxco.com/the-promenade-west-lofts-condos-for-sale-lease-downtown-losangeles?mlsno=18-302636"
           },
           {
            "bathrooms": 3,
            "bedrooms": 2,
            "date": "2018-01-24",
            "price": 615000,
            "price_per_square_foot": 407.55467196819086,
            "square_feet": 1509,
            "unit": 315,
            "url": "https://www.dlxco.com/the-promenade-west-lofts-condos-for-sale-lease-downtown-losangeles?mlsno=17-280756"
           },
           {
            "bathrooms": 1,
            "bedrooms": 1,
            "date": "2017-12-13",
            "price": 455000,
            "price_per_square_foot": 452.286282306163,
            "square_feet": 1006,
            "unit": 804,
            "url": "https://www.dlxco.com/the-promenade-west-lofts-condos-for-sale-lease-downtown-losangeles?mlsno=17-276468"
           },
           {
            "bathrooms": 2,
            "bedrooms": 1,
            "date": "2017-12-08",
            "price": 450000,
            "price_per_square_foot": 447.31610337972165,
            "square_feet": 1006,
            "unit": 803,
            "url": "https://www.dlxco.com/the-promenade-west-lofts-condos-for-sale-lease-downtown-losangeles?mlsno=RS17251377MR"
           },
           {
            "bathrooms": 2,
            "bedrooms": 2,
            "date": "2017-08-31",
            "price": 555000,
            "price_per_square_foot": 450.48701298701303,
            "square_feet": 1232,
            "unit": 511,
            "url": "https://www.dlxco.com/the-promenade-west-lofts-condos-for-sale-lease-downtown-losangeles?mlsno=SR17142069CN"
           },
           {
            "bathrooms": 2,
            "bedrooms": 2,
            "date": "2017-08-22",
            "price": 573000,
            "price_per_square_foot": 470.8299096138044,
            "square_feet": 1217,
            "unit": 305,
            "url": "https://www.dlxco.com/the-promenade-west-lofts-condos-for-sale-lease-downtown-losangeles?mlsno=17-241720"
           },
           {
            "bathrooms": 3,
            "bedrooms": 2,
            "date": "2017-07-31",
            "price": 580000,
            "price_per_square_foot": 386.66666666666674,
            "square_feet": 1500,
            "unit": 316,
            "url": "https://www.dlxco.com/the-promenade-west-lofts-condos-for-sale-lease-downtown-losangeles?mlsno=17-206676"
           },
           {
            "bathrooms": 1,
            "bedrooms": 1,
            "date": "2017-07-24",
            "price": 462000,
            "price_per_square_foot": 465.72580645161287,
            "square_feet": 992,
            "unit": 712,
            "url": "https://www.dlxco.com/the-promenade-west-lofts-condos-for-sale-lease-downtown-losangeles?mlsno=17-233274"
           },
           {
            "bathrooms": 2,
            "bedrooms": 3,
            "date": "2017-07-19",
            "price": 612000,
            "price_per_square_foot": 375.9213759213759,
            "square_feet": 1628,
            "unit": 705,
            "url": "https://www.dlxco.com/the-promenade-west-lofts-condos-for-sale-lease-downtown-losangeles?mlsno=17-229802"
           },
           {
            "bathrooms": 2,
            "bedrooms": 2,
            "date": "2017-07-06",
            "price": 570000,
            "price_per_square_foot": 468.3648315529992,
            "square_feet": 1217,
            "unit": 309,
            "url": "https://www.dlxco.com/the-promenade-west-lofts-condos-for-sale-lease-downtown-losangeles?mlsno=17-215688"
           },
           {
            "bathrooms": 2,
            "bedrooms": 2,
            "date": "2017-06-26",
            "price": 527500,
            "price_per_square_foot": 391.32047477744806,
            "square_feet": 1348,
            "unit": 621,
            "url": "https://www.dlxco.com/the-promenade-west-lofts-condos-for-sale-lease-downtown-losangeles?mlsno=SB17104895MR"
           },
           {
            "bathrooms": 3,
            "bedrooms": 2,
            "date": "2017-05-12",
            "price": 605000,
            "price_per_square_foot": 400.13227513227514,
            "square_feet": 1512,
            "unit": 206,
            "url": "https://www.dlxco.com/the-promenade-west-lofts-condos-for-sale-lease-downtown-losangeles?mlsno=17-211192"
           },
           {
            "bathrooms": 2,
            "bedrooms": 3,
            "date": "2017-03-27",
            "price": 550000,
            "price_per_square_foot": 322.20269478617456,
            "square_feet": 1707,
            "unit": 520,
            "url": "https://www.dlxco.com/the-promenade-west-lofts-condos-for-sale-lease-downtown-losangeles?mlsno=16-166900"
           },
           {
            "bathrooms": 2,
            "bedrooms": 2,
            "date": "2017-01-03",
            "price": 570000,
            "price_per_square_foot": 430.8390022675737,
            "square_feet": 1323,
            "unit": 619,
            "url": "https://www.dlxco.com/the-promenade-west-lofts-condos-for-sale-lease-downtown-losangeles?mlsno=16-176362"
           },
           {
            "bathrooms": 2,
            "bedrooms": 2,
            "date": "2016-11-18",
            "price": 545000,
            "price_per_square_foot": 434.95610534716684,
            "square_feet": 1253,
            "unit": 501,
            "url": "https://www.dlxco.com/the-promenade-west-lofts-condos-for-sale-lease-downtown-losangeles?mlsno=16-149712"
           },
           {
            "bathrooms": 2,
            "bedrooms": 2,
            "date": "2016-11-14",
            "price": 615000,
            "price_per_square_foot": 440.5444126074497,
            "square_feet": 1396,
            "unit": 808,
            "url": "https://www.dlxco.com/the-promenade-west-lofts-condos-for-sale-lease-downtown-losangeles?mlsno=16-138782"
           },
           {
            "bathrooms": 1,
            "bedrooms": 1,
            "date": "2016-10-11",
            "price": 466000,
            "price_per_square_foot": 463.220675944334,
            "square_feet": 1006,
            "unit": 806,
            "url": "https://www.dlxco.com/the-promenade-west-lofts-condos-for-sale-lease-downtown-losangeles?mlsno=16-122734"
           },
           {
            "bathrooms": 2,
            "bedrooms": 2,
            "date": "2016-09-17",
            "price": 575000,
            "price_per_square_foot": 433.3082140165788,
            "square_feet": 1327,
            "unit": 415,
            "url": "https://www.dlxco.com/the-promenade-west-lofts-condos-for-sale-lease-downtown-losangeles?mlsno=16-142232"
           },
           {
            "bathrooms": 1,
            "bedrooms": 1,
            "date": "2016-08-05",
            "price": 545000,
            "price_per_square_foot": 541.7495029821074,
            "square_feet": 1006,
            "unit": 802,
            "url": "https://www.dlxco.com/the-promenade-west-lofts-condos-for-sale-lease-downtown-losangeles?mlsno=16-125118"
           },
           {
            "bathrooms": 3,
            "bedrooms": 2,
            "date": "2016-07-26",
            "price": 629500,
            "price_per_square_foot": 416.33597883597884,
            "square_feet": 1512,
            "unit": 314,
            "url": "https://www.dlxco.com/the-promenade-west-lofts-condos-for-sale-lease-downtown-losangeles?mlsno=16-124382"
           },
           {
            "bathrooms": 2,
            "bedrooms": 3,
            "date": "2016-05-31",
            "price": 637000,
            "price_per_square_foot": 391.03744628606506,
            "square_feet": 1629,
            "unit": 505,
            "url": "https://www.dlxco.com/the-promenade-west-lofts-condos-for-sale-lease-downtown-losangeles?mlsno=PW16060511MR"
           },
           {
            "bathrooms": 1,
            "bedrooms": 1,
            "date": "2016-05-17",
            "price": 530000,
            "price_per_square_foot": 526.8389662027834,
            "square_feet": 1006,
            "unit": 801,
            "url": "https://www.dlxco.com/the-promenade-west-lofts-condos-for-sale-lease-downtown-losangeles?mlsno=16-975267"
           },
           {
            "bathrooms": 2,
            "bedrooms": 2,
            "date": "2016-04-11",
            "price": 520000,
            "price_per_square_foot": 385.75667655786344,
            "square_feet": 1348,
            "unit": 414,
            "url": "https://www.dlxco.com/the-promenade-west-lofts-condos-for-sale-lease-downtown-losangeles?mlsno=15-963651"
           },
           {
            "bathrooms": 3,
            "bedrooms": 2,
            "date": "2016-01-09",
            "price": 585000,
            "price_per_square_foot": 386.90476190476187,
            "square_feet": 1512,
            "unit": 202,
            "url": "https://www.dlxco.com/the-promenade-west-lofts-condos-for-sale-lease-downtown-losangeles?mlsno=15-960051"
           },
           {
            "bathrooms": 2,
            "bedrooms": 2,
            "date": "2015-11-25",
            "price": 535000,
            "price_per_square_foot": 408.08543096872603,
            "square_feet": 1311,
            "unit": 516,
            "url": "https://www.dlxco.com/the-promenade-west-lofts-condos-for-sale-lease-downtown-losangeles?mlsno=315009216IT"
           },
           {
            "bathrooms": 2,
            "bedrooms": 2,
            "date": "2015-09-28",
            "price": 560000,
            "price_per_square_foot": 416.0475482912333,
            "square_feet": 1346,
            "unit": 504,
            "url": "https://www.dlxco.com/the-promenade-west-lofts-condos-for-sale-lease-downtown-losangeles?mlsno=15-927421"
           },
           {
            "bathrooms": 2,
            "bedrooms": 2,
            "date": "2015-09-03",
            "price": 535000,
            "price_per_square_foot": 404.07854984894266,
            "square_feet": 1324,
            "unit": 611,
            "url": "https://www.dlxco.com/the-promenade-west-lofts-condos-for-sale-lease-downtown-losangeles?mlsno=15-906695"
           },
           {
            "bathrooms": 2,
            "bedrooms": 2,
            "date": "2015-08-24",
            "price": 558000,
            "price_per_square_foot": 421.76870748299314,
            "square_feet": 1323,
            "unit": 616,
            "url": "https://www.dlxco.com/the-promenade-west-lofts-condos-for-sale-lease-downtown-losangeles?mlsno=15-907973"
           },
           {
            "bathrooms": 2,
            "bedrooms": 2,
            "date": "2015-08-20",
            "price": 625000,
            "price_per_square_foot": 472.41118669690104,
            "square_feet": 1323,
            "unit": 527,
            "url": "https://www.dlxco.com/the-promenade-west-lofts-condos-for-sale-lease-downtown-losangeles?mlsno=AR15120825MR"
           },
           {
            "bathrooms": 2,
            "bedrooms": 2,
            "date": "2015-08-20",
            "price": 520000,
            "price_per_square_foot": 385.75667655786344,
            "square_feet": 1348,
            "unit": 701,
            "url": "https://www.dlxco.com/the-promenade-west-lofts-condos-for-sale-lease-downtown-losangeles?mlsno=15-913217"
           },
           {
            "bathrooms": 2,
            "bedrooms": 2,
            "date": "2015-04-14",
            "price": 500000,
            "price_per_square_foot": 370.91988130563794,
            "square_feet": 1348,
            "unit": 704,
            "url": "https://www.dlxco.com/the-promenade-west-lofts-condos-for-sale-lease-downtown-losangeles?mlsno=15-824505"
           },
           {
            "bathrooms": 2,
            "bedrooms": 2,
            "date": "2015-03-26",
            "price": 530000,
            "price_per_square_foot": 393.1750741839763,
            "square_feet": 1348,
            "unit": 412,
            "url": "https://www.dlxco.com/the-promenade-west-lofts-condos-for-sale-lease-downtown-losangeles?mlsno=15-879535"
           },
           {
            "bathrooms": 3,
            "bedrooms": 2,
            "date": "2015-03-25",
            "price": 485000,
            "price_per_square_foot": 321.40490390987406,
            "square_feet": 1509,
            "unit": 319,
            "url": "https://www.dlxco.com/the-promenade-west-lofts-condos-for-sale-lease-downtown-losangeles?mlsno=14-795913"
           },
           {
            "bathrooms": 3,
            "bedrooms": 2,
            "date": "2015-02-18",
            "price": 560000,
            "price_per_square_foot": 373.33333333333326,
            "square_feet": 1500,
            "unit": 203,
            "url": "https://www.dlxco.com/the-promenade-west-lofts-condos-for-sale-lease-downtown-losangeles?mlsno=14-812843"
           },
           {
            "bathrooms": 2,
            "bedrooms": 2,
            "date": "2014-12-30",
            "price": 495000,
            "price_per_square_foot": 374.1496598639456,
            "square_feet": 1323,
            "unit": 524,
            "url": "https://www.dlxco.com/the-promenade-west-lofts-condos-for-sale-lease-downtown-losangeles?mlsno=14-781543"
           },
           {
            "bathrooms": 2,
            "bedrooms": 2,
            "date": "2014-12-23",
            "price": 499000,
            "price_per_square_foot": 410.02465078060806,
            "square_feet": 1217,
            "unit": 209,
            "url": "https://www.dlxco.com/the-promenade-west-lofts-condos-for-sale-lease-downtown-losangeles?mlsno=14-812935"
           },
           {
            "bathrooms": 1,
            "bedrooms": 1,
            "date": "2014-11-13",
            "price": 385000,
            "price_per_square_foot": 382.7037773359841,
            "square_feet": 1006,
            "unit": 610,
            "url": "https://www.dlxco.com/the-promenade-west-lofts-condos-for-sale-lease-downtown-losangeles?mlsno=14-791495"
           },
           {
            "bathrooms": 3,
            "bedrooms": 2,
            "date": "2014-09-25",
            "price": 470000,
            "price_per_square_foot": 313.7516688918558,
            "square_feet": 1498,
            "unit": 317,
            "url": "https://www.dlxco.com/the-promenade-west-lofts-condos-for-sale-lease-downtown-losangeles?mlsno=214012630IT"
           },
           {
            "bathrooms": 3,
            "bedrooms": 2,
            "date": "2014-09-19",
            "price": 550000,
            "price_per_square_foot": 363.75661375661383,
            "square_feet": 1512,
            "unit": 206,
            "url": "https://www.dlxco.com/the-promenade-west-lofts-condos-for-sale-lease-downtown-losangeles?mlsno=14-738439"
           },
           {
            "bathrooms": 2,
            "bedrooms": 3,
            "date": "2014-05-22",
            "price": 625000,
            "price_per_square_foot": 370.91988130563794,
            "square_feet": 1685,
            "unit": 405,
            "url": "https://www.dlxco.com/the-promenade-west-lofts-condos-for-sale-lease-downtown-losangeles?mlsno=14-745001"
           },
           {
            "bathrooms": 3,
            "bedrooms": 2,
            "date": "2014-02-12",
            "price": 398500,
            "price_per_square_foot": 264.0821736249172,
            "square_feet": 1509,
            "unit": 319,
            "url": "https://www.dlxco.com/the-promenade-west-lofts-condos-for-sale-lease-downtown-losangeles?mlsno=SR13129134CN"
           },
           {
            "bathrooms": 2,
            "bedrooms": 2,
            "date": "2014-01-17",
            "price": 405000,
            "price_per_square_foot": 306.8181818181818,
            "square_feet": 1320,
            "unit": 108,
            "url": "https://www.dlxco.com/the-promenade-west-lofts-condos-for-sale-lease-downtown-losangeles?mlsno=13-719047"
           },
           {
            "bathrooms": 1,
            "bedrooms": 1,
            "date": "2013-11-19",
            "price": 390000,
            "price_per_square_foot": 387.6739562624255,
            "square_feet": 1006,
            "unit": 711,
            "url": "https://www.dlxco.com/the-promenade-west-lofts-condos-for-sale-lease-downtown-losangeles?mlsno=13-689693"
           },
           {
            "bathrooms": 2,
            "bedrooms": 2,
            "date": "2013-10-09",
            "price": 381650,
            "price_per_square_foot": 313.5990139687757,
            "square_feet": 1217,
            "unit": 211,
            "url": "https://www.dlxco.com/the-promenade-west-lofts-condos-for-sale-lease-downtown-losangeles?mlsno=PW13077881MR"
           },
           {
            "bathrooms": 2,
            "bedrooms": 2,
            "date": "2013-09-11",
            "price": 420000,
            "price_per_square_foot": 340.90909090909093,
            "square_feet": 1232,
            "unit": 502,
            "url": "https://www.dlxco.com/the-promenade-west-lofts-condos-for-sale-lease-downtown-losangeles?mlsno=13-664793"
           },
           {
            "bathrooms": 1,
            "bedrooms": 1,
            "date": "2013-04-12",
            "price": 290000,
            "price_per_square_foot": 289.13260219341976,
            "square_feet": 1003,
            "unit": 609,
            "url": "https://www.dlxco.com/the-promenade-west-lofts-condos-for-sale-lease-downtown-losangeles?mlsno=S710858MR"
           },
           {
            "bathrooms": 2,
            "bedrooms": 2,
            "date": "2013-02-11",
            "price": 335000,
            "price_per_square_foot": 253.21239606953893,
            "square_feet": 1323,
            "unit": 522,
            "url": "https://www.dlxco.com/the-promenade-west-lofts-condos-for-sale-lease-downtown-losangeles?mlsno=P837804MR"
           },
           {
            "bathrooms": 2,
            "bedrooms": 2,
            "date": "2013-02-04",
            "price": 390000,
            "price_per_square_foot": 293.896006028636,
            "square_feet": 1327,
            "unit": 403,
            "url": "https://www.dlxco.com/the-promenade-west-lofts-condos-for-sale-lease-downtown-losangeles?mlsno=12-631013"
           },
           {
            "bathrooms": 2,
            "bedrooms": 2,
            "date": "2012-11-07",
            "price": 380000,
            "price_per_square_foot": 286.3602110022607,
            "square_feet": 1327,
            "unit": 416,
            "url": "https://www.dlxco.com/the-promenade-west-lofts-condos-for-sale-lease-downtown-losangeles?mlsno=22167529IT"
           },
           {
            "bathrooms": 2,
            "bedrooms": 2,
            "date": "2012-10-24",
            "price": 290000,
            "price_per_square_foot": 218.53805576488318,
            "square_feet": 1327,
            "unit": 526,
            "url": "https://www.dlxco.com/the-promenade-west-lofts-condos-for-sale-lease-downtown-losangeles?mlsno=12-598567"
           },
           {
            "bathrooms": 2,
            "bedrooms": 2,
            "date": "2012-06-20",
            "price": 395000,
            "price_per_square_foot": 298.56386999244137,
            "square_feet": 1323,
            "unit": 308,
            "url": "https://www.dlxco.com/the-promenade-west-lofts-condos-for-sale-lease-downtown-losangeles?mlsno=12-593925"
           },
           {
            "bathrooms": 2,
            "bedrooms": 2,
            "date": "2012-02-10",
            "price": 380000,
            "price_per_square_foot": 286.3602110022607,
            "square_feet": 1327,
            "unit": 415,
            "url": "https://www.dlxco.com/the-promenade-west-lofts-condos-for-sale-lease-downtown-losangeles?mlsno=11-569123"
           },
           {
            "bathrooms": 3,
            "bedrooms": 2,
            "date": "2011-10-07",
            "price": 455000,
            "price_per_square_foot": 301.92435301924354,
            "square_feet": 1507,
            "unit": 205,
            "url": "https://www.dlxco.com/the-promenade-west-lofts-condos-for-sale-lease-downtown-losangeles?mlsno=11-535629"
           },
           {
            "bathrooms": 3,
            "bedrooms": 2,
            "date": "2011-09-27",
            "price": 275000,
            "price_per_square_foot": 181.87830687830692,
            "square_feet": 1512,
            "unit": 216,
            "url": "https://www.dlxco.com/the-promenade-west-lofts-condos-for-sale-lease-downtown-losangeles?mlsno=C11032172MR"
           },
           {
            "bathrooms": 2,
            "bedrooms": 2,
            "date": "2011-08-16",
            "price": 350000,
            "price_per_square_foot": 284.09090909090907,
            "square_feet": 1232,
            "unit": 511,
            "url": "https://www.dlxco.com/the-promenade-west-lofts-condos-for-sale-lease-downtown-losangeles?mlsno=11-524713"
           },
           {
            "bathrooms": 1,
            "bedrooms": 1,
            "date": "2011-07-18",
            "price": 270000,
            "price_per_square_foot": 268.38966202783297,
            "square_feet": 1006,
            "unit": 804,
            "url": "https://www.dlxco.com/the-promenade-west-lofts-condos-for-sale-lease-downtown-losangeles?mlsno=11-505205"
           },
           {
            "bathrooms": 3,
            "bedrooms": 2,
            "date": "2011-06-27",
            "price": 375000,
            "price_per_square_foot": 248.01587301587298,
            "square_feet": 1512,
            "unit": 314,
            "url": "https://www.dlxco.com/the-promenade-west-lofts-condos-for-sale-lease-downtown-losangeles?mlsno=11-507735"
           },
           {
            "bathrooms": 3,
            "bedrooms": 2,
            "date": "2011-04-15",
            "price": 443000,
            "price_per_square_foot": 295.3333333333333,
            "square_feet": 1500,
            "unit": 203,
            "url": "https://www.dlxco.com/the-promenade-west-lofts-condos-for-sale-lease-downtown-losangeles?mlsno=10-469183"
           },
           {
            "bathrooms": 2,
            "bedrooms": 2,
            "date": "2011-04-14",
            "price": 265000,
            "price_per_square_foot": 217.74856203779785,
            "square_feet": 1217,
            "unit": 107,
            "url": "https://www.dlxco.com/the-promenade-west-lofts-condos-for-sale-lease-downtown-losangeles?mlsno=R1006067MR"
           },
           {
            "bathrooms": 1,
            "bedrooms": 1,
            "date": "2011-01-14",
            "price": 250000,
            "price_per_square_foot": 252.0161290322581,
            "square_feet": 992,
            "unit": 714,
            "url": "https://www.dlxco.com/the-promenade-west-lofts-condos-for-sale-lease-downtown-losangeles?mlsno=10-480135"
           }
          ]
         },
         "encoding": {
          "x": {
           "axis": {
            "labelAngle": 0,
            "title": ""
           },
           "field": "date",
           "timeUnit": "year",
           "type": "ordinal"
          },
          "y": {
           "aggregate": "median",
           "axis": {
            "format": "$s",
            "grid": false,
            "title": ""
           },
           "field": "price",
           "scale": {
            "domain": [
             0,
             700000
            ]
           },
           "type": "quantitative"
          }
         },
         "mark": {
          "color": "black",
          "type": "bar"
         },
         "width": 600
        },
        {
         "data": {
          "values": [
           {
            "bathrooms": 2,
            "bedrooms": 2,
            "date": "2018-06-12",
            "price": 600000,
            "price_per_square_foot": 453.51473922902494,
            "square_feet": 1323,
            "unit": 527,
            "url": "https://www.dlxco.com/the-promenade-west-lofts-condos-for-sale-lease-downtown-losangeles?mlsno=18-334730"
           },
           {
            "bathrooms": 2,
            "bedrooms": 2,
            "date": "2018-04-11",
            "price": 598000,
            "price_per_square_foot": 443.62017804154294,
            "square_feet": 1348,
            "unit": 706,
            "url": "https://www.dlxco.com/the-promenade-west-lofts-condos-for-sale-lease-downtown-losangeles?mlsno=SR18004194CN"
           },
           {
            "bathrooms": 2,
            "bedrooms": 2,
            "date": "2018-02-01",
            "price": 590000,
            "price_per_square_foot": 445.95616024187444,
            "square_feet": 1323,
            "unit": 409,
            "url": "https://www.dlxco.com/the-promenade-west-lofts-condos-for-sale-lease-downtown-losangeles?mlsno=18-302636"
           },
           {
            "bathrooms": 3,
            "bedrooms": 2,
            "date": "2018-01-24",
            "price": 615000,
            "price_per_square_foot": 407.55467196819086,
            "square_feet": 1509,
            "unit": 315,
            "url": "https://www.dlxco.com/the-promenade-west-lofts-condos-for-sale-lease-downtown-losangeles?mlsno=17-280756"
           },
           {
            "bathrooms": 1,
            "bedrooms": 1,
            "date": "2017-12-13",
            "price": 455000,
            "price_per_square_foot": 452.286282306163,
            "square_feet": 1006,
            "unit": 804,
            "url": "https://www.dlxco.com/the-promenade-west-lofts-condos-for-sale-lease-downtown-losangeles?mlsno=17-276468"
           },
           {
            "bathrooms": 2,
            "bedrooms": 1,
            "date": "2017-12-08",
            "price": 450000,
            "price_per_square_foot": 447.31610337972165,
            "square_feet": 1006,
            "unit": 803,
            "url": "https://www.dlxco.com/the-promenade-west-lofts-condos-for-sale-lease-downtown-losangeles?mlsno=RS17251377MR"
           },
           {
            "bathrooms": 2,
            "bedrooms": 2,
            "date": "2017-08-31",
            "price": 555000,
            "price_per_square_foot": 450.48701298701303,
            "square_feet": 1232,
            "unit": 511,
            "url": "https://www.dlxco.com/the-promenade-west-lofts-condos-for-sale-lease-downtown-losangeles?mlsno=SR17142069CN"
           },
           {
            "bathrooms": 2,
            "bedrooms": 2,
            "date": "2017-08-22",
            "price": 573000,
            "price_per_square_foot": 470.8299096138044,
            "square_feet": 1217,
            "unit": 305,
            "url": "https://www.dlxco.com/the-promenade-west-lofts-condos-for-sale-lease-downtown-losangeles?mlsno=17-241720"
           },
           {
            "bathrooms": 3,
            "bedrooms": 2,
            "date": "2017-07-31",
            "price": 580000,
            "price_per_square_foot": 386.66666666666674,
            "square_feet": 1500,
            "unit": 316,
            "url": "https://www.dlxco.com/the-promenade-west-lofts-condos-for-sale-lease-downtown-losangeles?mlsno=17-206676"
           },
           {
            "bathrooms": 1,
            "bedrooms": 1,
            "date": "2017-07-24",
            "price": 462000,
            "price_per_square_foot": 465.72580645161287,
            "square_feet": 992,
            "unit": 712,
            "url": "https://www.dlxco.com/the-promenade-west-lofts-condos-for-sale-lease-downtown-losangeles?mlsno=17-233274"
           },
           {
            "bathrooms": 2,
            "bedrooms": 3,
            "date": "2017-07-19",
            "price": 612000,
            "price_per_square_foot": 375.9213759213759,
            "square_feet": 1628,
            "unit": 705,
            "url": "https://www.dlxco.com/the-promenade-west-lofts-condos-for-sale-lease-downtown-losangeles?mlsno=17-229802"
           },
           {
            "bathrooms": 2,
            "bedrooms": 2,
            "date": "2017-07-06",
            "price": 570000,
            "price_per_square_foot": 468.3648315529992,
            "square_feet": 1217,
            "unit": 309,
            "url": "https://www.dlxco.com/the-promenade-west-lofts-condos-for-sale-lease-downtown-losangeles?mlsno=17-215688"
           },
           {
            "bathrooms": 2,
            "bedrooms": 2,
            "date": "2017-06-26",
            "price": 527500,
            "price_per_square_foot": 391.32047477744806,
            "square_feet": 1348,
            "unit": 621,
            "url": "https://www.dlxco.com/the-promenade-west-lofts-condos-for-sale-lease-downtown-losangeles?mlsno=SB17104895MR"
           },
           {
            "bathrooms": 3,
            "bedrooms": 2,
            "date": "2017-05-12",
            "price": 605000,
            "price_per_square_foot": 400.13227513227514,
            "square_feet": 1512,
            "unit": 206,
            "url": "https://www.dlxco.com/the-promenade-west-lofts-condos-for-sale-lease-downtown-losangeles?mlsno=17-211192"
           },
           {
            "bathrooms": 2,
            "bedrooms": 3,
            "date": "2017-03-27",
            "price": 550000,
            "price_per_square_foot": 322.20269478617456,
            "square_feet": 1707,
            "unit": 520,
            "url": "https://www.dlxco.com/the-promenade-west-lofts-condos-for-sale-lease-downtown-losangeles?mlsno=16-166900"
           },
           {
            "bathrooms": 2,
            "bedrooms": 2,
            "date": "2017-01-03",
            "price": 570000,
            "price_per_square_foot": 430.8390022675737,
            "square_feet": 1323,
            "unit": 619,
            "url": "https://www.dlxco.com/the-promenade-west-lofts-condos-for-sale-lease-downtown-losangeles?mlsno=16-176362"
           },
           {
            "bathrooms": 2,
            "bedrooms": 2,
            "date": "2016-11-18",
            "price": 545000,
            "price_per_square_foot": 434.95610534716684,
            "square_feet": 1253,
            "unit": 501,
            "url": "https://www.dlxco.com/the-promenade-west-lofts-condos-for-sale-lease-downtown-losangeles?mlsno=16-149712"
           },
           {
            "bathrooms": 2,
            "bedrooms": 2,
            "date": "2016-11-14",
            "price": 615000,
            "price_per_square_foot": 440.5444126074497,
            "square_feet": 1396,
            "unit": 808,
            "url": "https://www.dlxco.com/the-promenade-west-lofts-condos-for-sale-lease-downtown-losangeles?mlsno=16-138782"
           },
           {
            "bathrooms": 1,
            "bedrooms": 1,
            "date": "2016-10-11",
            "price": 466000,
            "price_per_square_foot": 463.220675944334,
            "square_feet": 1006,
            "unit": 806,
            "url": "https://www.dlxco.com/the-promenade-west-lofts-condos-for-sale-lease-downtown-losangeles?mlsno=16-122734"
           },
           {
            "bathrooms": 2,
            "bedrooms": 2,
            "date": "2016-09-17",
            "price": 575000,
            "price_per_square_foot": 433.3082140165788,
            "square_feet": 1327,
            "unit": 415,
            "url": "https://www.dlxco.com/the-promenade-west-lofts-condos-for-sale-lease-downtown-losangeles?mlsno=16-142232"
           },
           {
            "bathrooms": 1,
            "bedrooms": 1,
            "date": "2016-08-05",
            "price": 545000,
            "price_per_square_foot": 541.7495029821074,
            "square_feet": 1006,
            "unit": 802,
            "url": "https://www.dlxco.com/the-promenade-west-lofts-condos-for-sale-lease-downtown-losangeles?mlsno=16-125118"
           },
           {
            "bathrooms": 3,
            "bedrooms": 2,
            "date": "2016-07-26",
            "price": 629500,
            "price_per_square_foot": 416.33597883597884,
            "square_feet": 1512,
            "unit": 314,
            "url": "https://www.dlxco.com/the-promenade-west-lofts-condos-for-sale-lease-downtown-losangeles?mlsno=16-124382"
           },
           {
            "bathrooms": 2,
            "bedrooms": 3,
            "date": "2016-05-31",
            "price": 637000,
            "price_per_square_foot": 391.03744628606506,
            "square_feet": 1629,
            "unit": 505,
            "url": "https://www.dlxco.com/the-promenade-west-lofts-condos-for-sale-lease-downtown-losangeles?mlsno=PW16060511MR"
           },
           {
            "bathrooms": 1,
            "bedrooms": 1,
            "date": "2016-05-17",
            "price": 530000,
            "price_per_square_foot": 526.8389662027834,
            "square_feet": 1006,
            "unit": 801,
            "url": "https://www.dlxco.com/the-promenade-west-lofts-condos-for-sale-lease-downtown-losangeles?mlsno=16-975267"
           },
           {
            "bathrooms": 2,
            "bedrooms": 2,
            "date": "2016-04-11",
            "price": 520000,
            "price_per_square_foot": 385.75667655786344,
            "square_feet": 1348,
            "unit": 414,
            "url": "https://www.dlxco.com/the-promenade-west-lofts-condos-for-sale-lease-downtown-losangeles?mlsno=15-963651"
           },
           {
            "bathrooms": 3,
            "bedrooms": 2,
            "date": "2016-01-09",
            "price": 585000,
            "price_per_square_foot": 386.90476190476187,
            "square_feet": 1512,
            "unit": 202,
            "url": "https://www.dlxco.com/the-promenade-west-lofts-condos-for-sale-lease-downtown-losangeles?mlsno=15-960051"
           },
           {
            "bathrooms": 2,
            "bedrooms": 2,
            "date": "2015-11-25",
            "price": 535000,
            "price_per_square_foot": 408.08543096872603,
            "square_feet": 1311,
            "unit": 516,
            "url": "https://www.dlxco.com/the-promenade-west-lofts-condos-for-sale-lease-downtown-losangeles?mlsno=315009216IT"
           },
           {
            "bathrooms": 2,
            "bedrooms": 2,
            "date": "2015-09-28",
            "price": 560000,
            "price_per_square_foot": 416.0475482912333,
            "square_feet": 1346,
            "unit": 504,
            "url": "https://www.dlxco.com/the-promenade-west-lofts-condos-for-sale-lease-downtown-losangeles?mlsno=15-927421"
           },
           {
            "bathrooms": 2,
            "bedrooms": 2,
            "date": "2015-09-03",
            "price": 535000,
            "price_per_square_foot": 404.07854984894266,
            "square_feet": 1324,
            "unit": 611,
            "url": "https://www.dlxco.com/the-promenade-west-lofts-condos-for-sale-lease-downtown-losangeles?mlsno=15-906695"
           },
           {
            "bathrooms": 2,
            "bedrooms": 2,
            "date": "2015-08-24",
            "price": 558000,
            "price_per_square_foot": 421.76870748299314,
            "square_feet": 1323,
            "unit": 616,
            "url": "https://www.dlxco.com/the-promenade-west-lofts-condos-for-sale-lease-downtown-losangeles?mlsno=15-907973"
           },
           {
            "bathrooms": 2,
            "bedrooms": 2,
            "date": "2015-08-20",
            "price": 625000,
            "price_per_square_foot": 472.41118669690104,
            "square_feet": 1323,
            "unit": 527,
            "url": "https://www.dlxco.com/the-promenade-west-lofts-condos-for-sale-lease-downtown-losangeles?mlsno=AR15120825MR"
           },
           {
            "bathrooms": 2,
            "bedrooms": 2,
            "date": "2015-08-20",
            "price": 520000,
            "price_per_square_foot": 385.75667655786344,
            "square_feet": 1348,
            "unit": 701,
            "url": "https://www.dlxco.com/the-promenade-west-lofts-condos-for-sale-lease-downtown-losangeles?mlsno=15-913217"
           },
           {
            "bathrooms": 2,
            "bedrooms": 2,
            "date": "2015-04-14",
            "price": 500000,
            "price_per_square_foot": 370.91988130563794,
            "square_feet": 1348,
            "unit": 704,
            "url": "https://www.dlxco.com/the-promenade-west-lofts-condos-for-sale-lease-downtown-losangeles?mlsno=15-824505"
           },
           {
            "bathrooms": 2,
            "bedrooms": 2,
            "date": "2015-03-26",
            "price": 530000,
            "price_per_square_foot": 393.1750741839763,
            "square_feet": 1348,
            "unit": 412,
            "url": "https://www.dlxco.com/the-promenade-west-lofts-condos-for-sale-lease-downtown-losangeles?mlsno=15-879535"
           },
           {
            "bathrooms": 3,
            "bedrooms": 2,
            "date": "2015-03-25",
            "price": 485000,
            "price_per_square_foot": 321.40490390987406,
            "square_feet": 1509,
            "unit": 319,
            "url": "https://www.dlxco.com/the-promenade-west-lofts-condos-for-sale-lease-downtown-losangeles?mlsno=14-795913"
           },
           {
            "bathrooms": 3,
            "bedrooms": 2,
            "date": "2015-02-18",
            "price": 560000,
            "price_per_square_foot": 373.33333333333326,
            "square_feet": 1500,
            "unit": 203,
            "url": "https://www.dlxco.com/the-promenade-west-lofts-condos-for-sale-lease-downtown-losangeles?mlsno=14-812843"
           },
           {
            "bathrooms": 2,
            "bedrooms": 2,
            "date": "2014-12-30",
            "price": 495000,
            "price_per_square_foot": 374.1496598639456,
            "square_feet": 1323,
            "unit": 524,
            "url": "https://www.dlxco.com/the-promenade-west-lofts-condos-for-sale-lease-downtown-losangeles?mlsno=14-781543"
           },
           {
            "bathrooms": 2,
            "bedrooms": 2,
            "date": "2014-12-23",
            "price": 499000,
            "price_per_square_foot": 410.02465078060806,
            "square_feet": 1217,
            "unit": 209,
            "url": "https://www.dlxco.com/the-promenade-west-lofts-condos-for-sale-lease-downtown-losangeles?mlsno=14-812935"
           },
           {
            "bathrooms": 1,
            "bedrooms": 1,
            "date": "2014-11-13",
            "price": 385000,
            "price_per_square_foot": 382.7037773359841,
            "square_feet": 1006,
            "unit": 610,
            "url": "https://www.dlxco.com/the-promenade-west-lofts-condos-for-sale-lease-downtown-losangeles?mlsno=14-791495"
           },
           {
            "bathrooms": 3,
            "bedrooms": 2,
            "date": "2014-09-25",
            "price": 470000,
            "price_per_square_foot": 313.7516688918558,
            "square_feet": 1498,
            "unit": 317,
            "url": "https://www.dlxco.com/the-promenade-west-lofts-condos-for-sale-lease-downtown-losangeles?mlsno=214012630IT"
           },
           {
            "bathrooms": 3,
            "bedrooms": 2,
            "date": "2014-09-19",
            "price": 550000,
            "price_per_square_foot": 363.75661375661383,
            "square_feet": 1512,
            "unit": 206,
            "url": "https://www.dlxco.com/the-promenade-west-lofts-condos-for-sale-lease-downtown-losangeles?mlsno=14-738439"
           },
           {
            "bathrooms": 2,
            "bedrooms": 3,
            "date": "2014-05-22",
            "price": 625000,
            "price_per_square_foot": 370.91988130563794,
            "square_feet": 1685,
            "unit": 405,
            "url": "https://www.dlxco.com/the-promenade-west-lofts-condos-for-sale-lease-downtown-losangeles?mlsno=14-745001"
           },
           {
            "bathrooms": 3,
            "bedrooms": 2,
            "date": "2014-02-12",
            "price": 398500,
            "price_per_square_foot": 264.0821736249172,
            "square_feet": 1509,
            "unit": 319,
            "url": "https://www.dlxco.com/the-promenade-west-lofts-condos-for-sale-lease-downtown-losangeles?mlsno=SR13129134CN"
           },
           {
            "bathrooms": 2,
            "bedrooms": 2,
            "date": "2014-01-17",
            "price": 405000,
            "price_per_square_foot": 306.8181818181818,
            "square_feet": 1320,
            "unit": 108,
            "url": "https://www.dlxco.com/the-promenade-west-lofts-condos-for-sale-lease-downtown-losangeles?mlsno=13-719047"
           },
           {
            "bathrooms": 1,
            "bedrooms": 1,
            "date": "2013-11-19",
            "price": 390000,
            "price_per_square_foot": 387.6739562624255,
            "square_feet": 1006,
            "unit": 711,
            "url": "https://www.dlxco.com/the-promenade-west-lofts-condos-for-sale-lease-downtown-losangeles?mlsno=13-689693"
           },
           {
            "bathrooms": 2,
            "bedrooms": 2,
            "date": "2013-10-09",
            "price": 381650,
            "price_per_square_foot": 313.5990139687757,
            "square_feet": 1217,
            "unit": 211,
            "url": "https://www.dlxco.com/the-promenade-west-lofts-condos-for-sale-lease-downtown-losangeles?mlsno=PW13077881MR"
           },
           {
            "bathrooms": 2,
            "bedrooms": 2,
            "date": "2013-09-11",
            "price": 420000,
            "price_per_square_foot": 340.90909090909093,
            "square_feet": 1232,
            "unit": 502,
            "url": "https://www.dlxco.com/the-promenade-west-lofts-condos-for-sale-lease-downtown-losangeles?mlsno=13-664793"
           },
           {
            "bathrooms": 1,
            "bedrooms": 1,
            "date": "2013-04-12",
            "price": 290000,
            "price_per_square_foot": 289.13260219341976,
            "square_feet": 1003,
            "unit": 609,
            "url": "https://www.dlxco.com/the-promenade-west-lofts-condos-for-sale-lease-downtown-losangeles?mlsno=S710858MR"
           },
           {
            "bathrooms": 2,
            "bedrooms": 2,
            "date": "2013-02-11",
            "price": 335000,
            "price_per_square_foot": 253.21239606953893,
            "square_feet": 1323,
            "unit": 522,
            "url": "https://www.dlxco.com/the-promenade-west-lofts-condos-for-sale-lease-downtown-losangeles?mlsno=P837804MR"
           },
           {
            "bathrooms": 2,
            "bedrooms": 2,
            "date": "2013-02-04",
            "price": 390000,
            "price_per_square_foot": 293.896006028636,
            "square_feet": 1327,
            "unit": 403,
            "url": "https://www.dlxco.com/the-promenade-west-lofts-condos-for-sale-lease-downtown-losangeles?mlsno=12-631013"
           },
           {
            "bathrooms": 2,
            "bedrooms": 2,
            "date": "2012-11-07",
            "price": 380000,
            "price_per_square_foot": 286.3602110022607,
            "square_feet": 1327,
            "unit": 416,
            "url": "https://www.dlxco.com/the-promenade-west-lofts-condos-for-sale-lease-downtown-losangeles?mlsno=22167529IT"
           },
           {
            "bathrooms": 2,
            "bedrooms": 2,
            "date": "2012-10-24",
            "price": 290000,
            "price_per_square_foot": 218.53805576488318,
            "square_feet": 1327,
            "unit": 526,
            "url": "https://www.dlxco.com/the-promenade-west-lofts-condos-for-sale-lease-downtown-losangeles?mlsno=12-598567"
           },
           {
            "bathrooms": 2,
            "bedrooms": 2,
            "date": "2012-06-20",
            "price": 395000,
            "price_per_square_foot": 298.56386999244137,
            "square_feet": 1323,
            "unit": 308,
            "url": "https://www.dlxco.com/the-promenade-west-lofts-condos-for-sale-lease-downtown-losangeles?mlsno=12-593925"
           },
           {
            "bathrooms": 2,
            "bedrooms": 2,
            "date": "2012-02-10",
            "price": 380000,
            "price_per_square_foot": 286.3602110022607,
            "square_feet": 1327,
            "unit": 415,
            "url": "https://www.dlxco.com/the-promenade-west-lofts-condos-for-sale-lease-downtown-losangeles?mlsno=11-569123"
           },
           {
            "bathrooms": 3,
            "bedrooms": 2,
            "date": "2011-10-07",
            "price": 455000,
            "price_per_square_foot": 301.92435301924354,
            "square_feet": 1507,
            "unit": 205,
            "url": "https://www.dlxco.com/the-promenade-west-lofts-condos-for-sale-lease-downtown-losangeles?mlsno=11-535629"
           },
           {
            "bathrooms": 3,
            "bedrooms": 2,
            "date": "2011-09-27",
            "price": 275000,
            "price_per_square_foot": 181.87830687830692,
            "square_feet": 1512,
            "unit": 216,
            "url": "https://www.dlxco.com/the-promenade-west-lofts-condos-for-sale-lease-downtown-losangeles?mlsno=C11032172MR"
           },
           {
            "bathrooms": 2,
            "bedrooms": 2,
            "date": "2011-08-16",
            "price": 350000,
            "price_per_square_foot": 284.09090909090907,
            "square_feet": 1232,
            "unit": 511,
            "url": "https://www.dlxco.com/the-promenade-west-lofts-condos-for-sale-lease-downtown-losangeles?mlsno=11-524713"
           },
           {
            "bathrooms": 1,
            "bedrooms": 1,
            "date": "2011-07-18",
            "price": 270000,
            "price_per_square_foot": 268.38966202783297,
            "square_feet": 1006,
            "unit": 804,
            "url": "https://www.dlxco.com/the-promenade-west-lofts-condos-for-sale-lease-downtown-losangeles?mlsno=11-505205"
           },
           {
            "bathrooms": 3,
            "bedrooms": 2,
            "date": "2011-06-27",
            "price": 375000,
            "price_per_square_foot": 248.01587301587298,
            "square_feet": 1512,
            "unit": 314,
            "url": "https://www.dlxco.com/the-promenade-west-lofts-condos-for-sale-lease-downtown-losangeles?mlsno=11-507735"
           },
           {
            "bathrooms": 3,
            "bedrooms": 2,
            "date": "2011-04-15",
            "price": 443000,
            "price_per_square_foot": 295.3333333333333,
            "square_feet": 1500,
            "unit": 203,
            "url": "https://www.dlxco.com/the-promenade-west-lofts-condos-for-sale-lease-downtown-losangeles?mlsno=10-469183"
           },
           {
            "bathrooms": 2,
            "bedrooms": 2,
            "date": "2011-04-14",
            "price": 265000,
            "price_per_square_foot": 217.74856203779785,
            "square_feet": 1217,
            "unit": 107,
            "url": "https://www.dlxco.com/the-promenade-west-lofts-condos-for-sale-lease-downtown-losangeles?mlsno=R1006067MR"
           },
           {
            "bathrooms": 1,
            "bedrooms": 1,
            "date": "2011-01-14",
            "price": 250000,
            "price_per_square_foot": 252.0161290322581,
            "square_feet": 992,
            "unit": 714,
            "url": "https://www.dlxco.com/the-promenade-west-lofts-condos-for-sale-lease-downtown-losangeles?mlsno=10-480135"
           }
          ]
         },
         "encoding": {
          "text": {
           "aggregate": "median",
           "field": "price",
           "format": "$,.0f",
           "type": "quantitative"
          },
          "x": {
           "axis": {
            "labelAngle": 0,
            "title": ""
           },
           "field": "date",
           "timeUnit": "year",
           "type": "ordinal"
          },
          "y": {
           "aggregate": "median",
           "axis": {
            "format": "$s",
            "grid": false,
            "title": ""
           },
           "field": "price",
           "scale": {
            "domain": [
             0,
             700000
            ]
           },
           "type": "quantitative"
          }
         },
         "mark": {
          "align": "center",
          "baseline": "middle",
          "dy": -9,
          "size": 13,
          "type": "text"
         },
         "width": 600
        }
       ]
      },
      "image/png": "[encoded data removed]",
      "text/plain": [
       "<VegaLite 2 object>\n",
       "\n",
       "If you see this message, it means the renderer has not been properly enabled\n",
       "for the frontend that you are using. For more information, see\n",
       "https://altair-viz.github.io/user_guide/troubleshooting.html\n"
      ]
     },
     "execution_count": 68,
     "metadata": {},
     "output_type": "execute_result"
    }
   ],
   "source": [
    "bars = alt.Chart(df).mark_bar(color=\"black\").encode(\n",
    "    x=alt.X(\n",
    "        \"date:O\",\n",
    "        timeUnit=\"year\",\n",
    "        axis=alt.Axis(title=\"\", labelAngle=0),\n",
    "    ),\n",
    "    y=alt.Y(\n",
    "        \"median(price):Q\",\n",
    "        axis=alt.Axis(title=\"\", format=\"$s\", grid=False),\n",
    "        scale=alt.Scale(domain=[0, 700000]),\n",
    "    ),\n",
    ").properties(width=600)\n",
    "\n",
    "text = bars.mark_text(\n",
    "    align='center',\n",
    "    baseline='middle',\n",
    "    dy=-9,\n",
    "    size=13\n",
    ").encode(\n",
    "    text=alt.Text('median(price):Q', format=\"$,.0f\")\n",
    ")\n",
    "\n",
    "chart = bars + text\n",
    "\n",
    "chart.configure_view(\n",
    "    strokeOpacity=0\n",
    ").save('assets/price-by-year.svg')\n",
    "\n",
    "chart"
   ]
  },
  {
   "cell_type": "code",
   "execution_count": 69,
   "metadata": {},
   "outputs": [
    {
     "data": {
      "application/vnd.vegalite.v2+json": {
       "$schema": "https://vega.github.io/schema/vega-lite/v2.4.3.json",
       "config": {
        "view": {
         "height": 300,
         "width": 400
        }
       },
       "layer": [
        {
         "data": {
          "values": [
           {
            "bathrooms": 2,
            "bedrooms": 2,
            "date": "2018-06-12",
            "price": 600000,
            "price_per_square_foot": 453.51473922902494,
            "square_feet": 1323,
            "unit": 527,
            "url": "https://www.dlxco.com/the-promenade-west-lofts-condos-for-sale-lease-downtown-losangeles?mlsno=18-334730"
           },
           {
            "bathrooms": 2,
            "bedrooms": 2,
            "date": "2018-04-11",
            "price": 598000,
            "price_per_square_foot": 443.62017804154294,
            "square_feet": 1348,
            "unit": 706,
            "url": "https://www.dlxco.com/the-promenade-west-lofts-condos-for-sale-lease-downtown-losangeles?mlsno=SR18004194CN"
           },
           {
            "bathrooms": 2,
            "bedrooms": 2,
            "date": "2018-02-01",
            "price": 590000,
            "price_per_square_foot": 445.95616024187444,
            "square_feet": 1323,
            "unit": 409,
            "url": "https://www.dlxco.com/the-promenade-west-lofts-condos-for-sale-lease-downtown-losangeles?mlsno=18-302636"
           },
           {
            "bathrooms": 3,
            "bedrooms": 2,
            "date": "2018-01-24",
            "price": 615000,
            "price_per_square_foot": 407.55467196819086,
            "square_feet": 1509,
            "unit": 315,
            "url": "https://www.dlxco.com/the-promenade-west-lofts-condos-for-sale-lease-downtown-losangeles?mlsno=17-280756"
           },
           {
            "bathrooms": 1,
            "bedrooms": 1,
            "date": "2017-12-13",
            "price": 455000,
            "price_per_square_foot": 452.286282306163,
            "square_feet": 1006,
            "unit": 804,
            "url": "https://www.dlxco.com/the-promenade-west-lofts-condos-for-sale-lease-downtown-losangeles?mlsno=17-276468"
           },
           {
            "bathrooms": 2,
            "bedrooms": 1,
            "date": "2017-12-08",
            "price": 450000,
            "price_per_square_foot": 447.31610337972165,
            "square_feet": 1006,
            "unit": 803,
            "url": "https://www.dlxco.com/the-promenade-west-lofts-condos-for-sale-lease-downtown-losangeles?mlsno=RS17251377MR"
           },
           {
            "bathrooms": 2,
            "bedrooms": 2,
            "date": "2017-08-31",
            "price": 555000,
            "price_per_square_foot": 450.48701298701303,
            "square_feet": 1232,
            "unit": 511,
            "url": "https://www.dlxco.com/the-promenade-west-lofts-condos-for-sale-lease-downtown-losangeles?mlsno=SR17142069CN"
           },
           {
            "bathrooms": 2,
            "bedrooms": 2,
            "date": "2017-08-22",
            "price": 573000,
            "price_per_square_foot": 470.8299096138044,
            "square_feet": 1217,
            "unit": 305,
            "url": "https://www.dlxco.com/the-promenade-west-lofts-condos-for-sale-lease-downtown-losangeles?mlsno=17-241720"
           },
           {
            "bathrooms": 3,
            "bedrooms": 2,
            "date": "2017-07-31",
            "price": 580000,
            "price_per_square_foot": 386.66666666666674,
            "square_feet": 1500,
            "unit": 316,
            "url": "https://www.dlxco.com/the-promenade-west-lofts-condos-for-sale-lease-downtown-losangeles?mlsno=17-206676"
           },
           {
            "bathrooms": 1,
            "bedrooms": 1,
            "date": "2017-07-24",
            "price": 462000,
            "price_per_square_foot": 465.72580645161287,
            "square_feet": 992,
            "unit": 712,
            "url": "https://www.dlxco.com/the-promenade-west-lofts-condos-for-sale-lease-downtown-losangeles?mlsno=17-233274"
           },
           {
            "bathrooms": 2,
            "bedrooms": 3,
            "date": "2017-07-19",
            "price": 612000,
            "price_per_square_foot": 375.9213759213759,
            "square_feet": 1628,
            "unit": 705,
            "url": "https://www.dlxco.com/the-promenade-west-lofts-condos-for-sale-lease-downtown-losangeles?mlsno=17-229802"
           },
           {
            "bathrooms": 2,
            "bedrooms": 2,
            "date": "2017-07-06",
            "price": 570000,
            "price_per_square_foot": 468.3648315529992,
            "square_feet": 1217,
            "unit": 309,
            "url": "https://www.dlxco.com/the-promenade-west-lofts-condos-for-sale-lease-downtown-losangeles?mlsno=17-215688"
           },
           {
            "bathrooms": 2,
            "bedrooms": 2,
            "date": "2017-06-26",
            "price": 527500,
            "price_per_square_foot": 391.32047477744806,
            "square_feet": 1348,
            "unit": 621,
            "url": "https://www.dlxco.com/the-promenade-west-lofts-condos-for-sale-lease-downtown-losangeles?mlsno=SB17104895MR"
           },
           {
            "bathrooms": 3,
            "bedrooms": 2,
            "date": "2017-05-12",
            "price": 605000,
            "price_per_square_foot": 400.13227513227514,
            "square_feet": 1512,
            "unit": 206,
            "url": "https://www.dlxco.com/the-promenade-west-lofts-condos-for-sale-lease-downtown-losangeles?mlsno=17-211192"
           },
           {
            "bathrooms": 2,
            "bedrooms": 3,
            "date": "2017-03-27",
            "price": 550000,
            "price_per_square_foot": 322.20269478617456,
            "square_feet": 1707,
            "unit": 520,
            "url": "https://www.dlxco.com/the-promenade-west-lofts-condos-for-sale-lease-downtown-losangeles?mlsno=16-166900"
           },
           {
            "bathrooms": 2,
            "bedrooms": 2,
            "date": "2017-01-03",
            "price": 570000,
            "price_per_square_foot": 430.8390022675737,
            "square_feet": 1323,
            "unit": 619,
            "url": "https://www.dlxco.com/the-promenade-west-lofts-condos-for-sale-lease-downtown-losangeles?mlsno=16-176362"
           },
           {
            "bathrooms": 2,
            "bedrooms": 2,
            "date": "2016-11-18",
            "price": 545000,
            "price_per_square_foot": 434.95610534716684,
            "square_feet": 1253,
            "unit": 501,
            "url": "https://www.dlxco.com/the-promenade-west-lofts-condos-for-sale-lease-downtown-losangeles?mlsno=16-149712"
           },
           {
            "bathrooms": 2,
            "bedrooms": 2,
            "date": "2016-11-14",
            "price": 615000,
            "price_per_square_foot": 440.5444126074497,
            "square_feet": 1396,
            "unit": 808,
            "url": "https://www.dlxco.com/the-promenade-west-lofts-condos-for-sale-lease-downtown-losangeles?mlsno=16-138782"
           },
           {
            "bathrooms": 1,
            "bedrooms": 1,
            "date": "2016-10-11",
            "price": 466000,
            "price_per_square_foot": 463.220675944334,
            "square_feet": 1006,
            "unit": 806,
            "url": "https://www.dlxco.com/the-promenade-west-lofts-condos-for-sale-lease-downtown-losangeles?mlsno=16-122734"
           },
           {
            "bathrooms": 2,
            "bedrooms": 2,
            "date": "2016-09-17",
            "price": 575000,
            "price_per_square_foot": 433.3082140165788,
            "square_feet": 1327,
            "unit": 415,
            "url": "https://www.dlxco.com/the-promenade-west-lofts-condos-for-sale-lease-downtown-losangeles?mlsno=16-142232"
           },
           {
            "bathrooms": 1,
            "bedrooms": 1,
            "date": "2016-08-05",
            "price": 545000,
            "price_per_square_foot": 541.7495029821074,
            "square_feet": 1006,
            "unit": 802,
            "url": "https://www.dlxco.com/the-promenade-west-lofts-condos-for-sale-lease-downtown-losangeles?mlsno=16-125118"
           },
           {
            "bathrooms": 3,
            "bedrooms": 2,
            "date": "2016-07-26",
            "price": 629500,
            "price_per_square_foot": 416.33597883597884,
            "square_feet": 1512,
            "unit": 314,
            "url": "https://www.dlxco.com/the-promenade-west-lofts-condos-for-sale-lease-downtown-losangeles?mlsno=16-124382"
           },
           {
            "bathrooms": 2,
            "bedrooms": 3,
            "date": "2016-05-31",
            "price": 637000,
            "price_per_square_foot": 391.03744628606506,
            "square_feet": 1629,
            "unit": 505,
            "url": "https://www.dlxco.com/the-promenade-west-lofts-condos-for-sale-lease-downtown-losangeles?mlsno=PW16060511MR"
           },
           {
            "bathrooms": 1,
            "bedrooms": 1,
            "date": "2016-05-17",
            "price": 530000,
            "price_per_square_foot": 526.8389662027834,
            "square_feet": 1006,
            "unit": 801,
            "url": "https://www.dlxco.com/the-promenade-west-lofts-condos-for-sale-lease-downtown-losangeles?mlsno=16-975267"
           },
           {
            "bathrooms": 2,
            "bedrooms": 2,
            "date": "2016-04-11",
            "price": 520000,
            "price_per_square_foot": 385.75667655786344,
            "square_feet": 1348,
            "unit": 414,
            "url": "https://www.dlxco.com/the-promenade-west-lofts-condos-for-sale-lease-downtown-losangeles?mlsno=15-963651"
           },
           {
            "bathrooms": 3,
            "bedrooms": 2,
            "date": "2016-01-09",
            "price": 585000,
            "price_per_square_foot": 386.90476190476187,
            "square_feet": 1512,
            "unit": 202,
            "url": "https://www.dlxco.com/the-promenade-west-lofts-condos-for-sale-lease-downtown-losangeles?mlsno=15-960051"
           },
           {
            "bathrooms": 2,
            "bedrooms": 2,
            "date": "2015-11-25",
            "price": 535000,
            "price_per_square_foot": 408.08543096872603,
            "square_feet": 1311,
            "unit": 516,
            "url": "https://www.dlxco.com/the-promenade-west-lofts-condos-for-sale-lease-downtown-losangeles?mlsno=315009216IT"
           },
           {
            "bathrooms": 2,
            "bedrooms": 2,
            "date": "2015-09-28",
            "price": 560000,
            "price_per_square_foot": 416.0475482912333,
            "square_feet": 1346,
            "unit": 504,
            "url": "https://www.dlxco.com/the-promenade-west-lofts-condos-for-sale-lease-downtown-losangeles?mlsno=15-927421"
           },
           {
            "bathrooms": 2,
            "bedrooms": 2,
            "date": "2015-09-03",
            "price": 535000,
            "price_per_square_foot": 404.07854984894266,
            "square_feet": 1324,
            "unit": 611,
            "url": "https://www.dlxco.com/the-promenade-west-lofts-condos-for-sale-lease-downtown-losangeles?mlsno=15-906695"
           },
           {
            "bathrooms": 2,
            "bedrooms": 2,
            "date": "2015-08-24",
            "price": 558000,
            "price_per_square_foot": 421.76870748299314,
            "square_feet": 1323,
            "unit": 616,
            "url": "https://www.dlxco.com/the-promenade-west-lofts-condos-for-sale-lease-downtown-losangeles?mlsno=15-907973"
           },
           {
            "bathrooms": 2,
            "bedrooms": 2,
            "date": "2015-08-20",
            "price": 625000,
            "price_per_square_foot": 472.41118669690104,
            "square_feet": 1323,
            "unit": 527,
            "url": "https://www.dlxco.com/the-promenade-west-lofts-condos-for-sale-lease-downtown-losangeles?mlsno=AR15120825MR"
           },
           {
            "bathrooms": 2,
            "bedrooms": 2,
            "date": "2015-08-20",
            "price": 520000,
            "price_per_square_foot": 385.75667655786344,
            "square_feet": 1348,
            "unit": 701,
            "url": "https://www.dlxco.com/the-promenade-west-lofts-condos-for-sale-lease-downtown-losangeles?mlsno=15-913217"
           },
           {
            "bathrooms": 2,
            "bedrooms": 2,
            "date": "2015-04-14",
            "price": 500000,
            "price_per_square_foot": 370.91988130563794,
            "square_feet": 1348,
            "unit": 704,
            "url": "https://www.dlxco.com/the-promenade-west-lofts-condos-for-sale-lease-downtown-losangeles?mlsno=15-824505"
           },
           {
            "bathrooms": 2,
            "bedrooms": 2,
            "date": "2015-03-26",
            "price": 530000,
            "price_per_square_foot": 393.1750741839763,
            "square_feet": 1348,
            "unit": 412,
            "url": "https://www.dlxco.com/the-promenade-west-lofts-condos-for-sale-lease-downtown-losangeles?mlsno=15-879535"
           },
           {
            "bathrooms": 3,
            "bedrooms": 2,
            "date": "2015-03-25",
            "price": 485000,
            "price_per_square_foot": 321.40490390987406,
            "square_feet": 1509,
            "unit": 319,
            "url": "https://www.dlxco.com/the-promenade-west-lofts-condos-for-sale-lease-downtown-losangeles?mlsno=14-795913"
           },
           {
            "bathrooms": 3,
            "bedrooms": 2,
            "date": "2015-02-18",
            "price": 560000,
            "price_per_square_foot": 373.33333333333326,
            "square_feet": 1500,
            "unit": 203,
            "url": "https://www.dlxco.com/the-promenade-west-lofts-condos-for-sale-lease-downtown-losangeles?mlsno=14-812843"
           },
           {
            "bathrooms": 2,
            "bedrooms": 2,
            "date": "2014-12-30",
            "price": 495000,
            "price_per_square_foot": 374.1496598639456,
            "square_feet": 1323,
            "unit": 524,
            "url": "https://www.dlxco.com/the-promenade-west-lofts-condos-for-sale-lease-downtown-losangeles?mlsno=14-781543"
           },
           {
            "bathrooms": 2,
            "bedrooms": 2,
            "date": "2014-12-23",
            "price": 499000,
            "price_per_square_foot": 410.02465078060806,
            "square_feet": 1217,
            "unit": 209,
            "url": "https://www.dlxco.com/the-promenade-west-lofts-condos-for-sale-lease-downtown-losangeles?mlsno=14-812935"
           },
           {
            "bathrooms": 1,
            "bedrooms": 1,
            "date": "2014-11-13",
            "price": 385000,
            "price_per_square_foot": 382.7037773359841,
            "square_feet": 1006,
            "unit": 610,
            "url": "https://www.dlxco.com/the-promenade-west-lofts-condos-for-sale-lease-downtown-losangeles?mlsno=14-791495"
           },
           {
            "bathrooms": 3,
            "bedrooms": 2,
            "date": "2014-09-25",
            "price": 470000,
            "price_per_square_foot": 313.7516688918558,
            "square_feet": 1498,
            "unit": 317,
            "url": "https://www.dlxco.com/the-promenade-west-lofts-condos-for-sale-lease-downtown-losangeles?mlsno=214012630IT"
           },
           {
            "bathrooms": 3,
            "bedrooms": 2,
            "date": "2014-09-19",
            "price": 550000,
            "price_per_square_foot": 363.75661375661383,
            "square_feet": 1512,
            "unit": 206,
            "url": "https://www.dlxco.com/the-promenade-west-lofts-condos-for-sale-lease-downtown-losangeles?mlsno=14-738439"
           },
           {
            "bathrooms": 2,
            "bedrooms": 3,
            "date": "2014-05-22",
            "price": 625000,
            "price_per_square_foot": 370.91988130563794,
            "square_feet": 1685,
            "unit": 405,
            "url": "https://www.dlxco.com/the-promenade-west-lofts-condos-for-sale-lease-downtown-losangeles?mlsno=14-745001"
           },
           {
            "bathrooms": 3,
            "bedrooms": 2,
            "date": "2014-02-12",
            "price": 398500,
            "price_per_square_foot": 264.0821736249172,
            "square_feet": 1509,
            "unit": 319,
            "url": "https://www.dlxco.com/the-promenade-west-lofts-condos-for-sale-lease-downtown-losangeles?mlsno=SR13129134CN"
           },
           {
            "bathrooms": 2,
            "bedrooms": 2,
            "date": "2014-01-17",
            "price": 405000,
            "price_per_square_foot": 306.8181818181818,
            "square_feet": 1320,
            "unit": 108,
            "url": "https://www.dlxco.com/the-promenade-west-lofts-condos-for-sale-lease-downtown-losangeles?mlsno=13-719047"
           },
           {
            "bathrooms": 1,
            "bedrooms": 1,
            "date": "2013-11-19",
            "price": 390000,
            "price_per_square_foot": 387.6739562624255,
            "square_feet": 1006,
            "unit": 711,
            "url": "https://www.dlxco.com/the-promenade-west-lofts-condos-for-sale-lease-downtown-losangeles?mlsno=13-689693"
           },
           {
            "bathrooms": 2,
            "bedrooms": 2,
            "date": "2013-10-09",
            "price": 381650,
            "price_per_square_foot": 313.5990139687757,
            "square_feet": 1217,
            "unit": 211,
            "url": "https://www.dlxco.com/the-promenade-west-lofts-condos-for-sale-lease-downtown-losangeles?mlsno=PW13077881MR"
           },
           {
            "bathrooms": 2,
            "bedrooms": 2,
            "date": "2013-09-11",
            "price": 420000,
            "price_per_square_foot": 340.90909090909093,
            "square_feet": 1232,
            "unit": 502,
            "url": "https://www.dlxco.com/the-promenade-west-lofts-condos-for-sale-lease-downtown-losangeles?mlsno=13-664793"
           },
           {
            "bathrooms": 1,
            "bedrooms": 1,
            "date": "2013-04-12",
            "price": 290000,
            "price_per_square_foot": 289.13260219341976,
            "square_feet": 1003,
            "unit": 609,
            "url": "https://www.dlxco.com/the-promenade-west-lofts-condos-for-sale-lease-downtown-losangeles?mlsno=S710858MR"
           },
           {
            "bathrooms": 2,
            "bedrooms": 2,
            "date": "2013-02-11",
            "price": 335000,
            "price_per_square_foot": 253.21239606953893,
            "square_feet": 1323,
            "unit": 522,
            "url": "https://www.dlxco.com/the-promenade-west-lofts-condos-for-sale-lease-downtown-losangeles?mlsno=P837804MR"
           },
           {
            "bathrooms": 2,
            "bedrooms": 2,
            "date": "2013-02-04",
            "price": 390000,
            "price_per_square_foot": 293.896006028636,
            "square_feet": 1327,
            "unit": 403,
            "url": "https://www.dlxco.com/the-promenade-west-lofts-condos-for-sale-lease-downtown-losangeles?mlsno=12-631013"
           },
           {
            "bathrooms": 2,
            "bedrooms": 2,
            "date": "2012-11-07",
            "price": 380000,
            "price_per_square_foot": 286.3602110022607,
            "square_feet": 1327,
            "unit": 416,
            "url": "https://www.dlxco.com/the-promenade-west-lofts-condos-for-sale-lease-downtown-losangeles?mlsno=22167529IT"
           },
           {
            "bathrooms": 2,
            "bedrooms": 2,
            "date": "2012-10-24",
            "price": 290000,
            "price_per_square_foot": 218.53805576488318,
            "square_feet": 1327,
            "unit": 526,
            "url": "https://www.dlxco.com/the-promenade-west-lofts-condos-for-sale-lease-downtown-losangeles?mlsno=12-598567"
           },
           {
            "bathrooms": 2,
            "bedrooms": 2,
            "date": "2012-06-20",
            "price": 395000,
            "price_per_square_foot": 298.56386999244137,
            "square_feet": 1323,
            "unit": 308,
            "url": "https://www.dlxco.com/the-promenade-west-lofts-condos-for-sale-lease-downtown-losangeles?mlsno=12-593925"
           },
           {
            "bathrooms": 2,
            "bedrooms": 2,
            "date": "2012-02-10",
            "price": 380000,
            "price_per_square_foot": 286.3602110022607,
            "square_feet": 1327,
            "unit": 415,
            "url": "https://www.dlxco.com/the-promenade-west-lofts-condos-for-sale-lease-downtown-losangeles?mlsno=11-569123"
           },
           {
            "bathrooms": 3,
            "bedrooms": 2,
            "date": "2011-10-07",
            "price": 455000,
            "price_per_square_foot": 301.92435301924354,
            "square_feet": 1507,
            "unit": 205,
            "url": "https://www.dlxco.com/the-promenade-west-lofts-condos-for-sale-lease-downtown-losangeles?mlsno=11-535629"
           },
           {
            "bathrooms": 3,
            "bedrooms": 2,
            "date": "2011-09-27",
            "price": 275000,
            "price_per_square_foot": 181.87830687830692,
            "square_feet": 1512,
            "unit": 216,
            "url": "https://www.dlxco.com/the-promenade-west-lofts-condos-for-sale-lease-downtown-losangeles?mlsno=C11032172MR"
           },
           {
            "bathrooms": 2,
            "bedrooms": 2,
            "date": "2011-08-16",
            "price": 350000,
            "price_per_square_foot": 284.09090909090907,
            "square_feet": 1232,
            "unit": 511,
            "url": "https://www.dlxco.com/the-promenade-west-lofts-condos-for-sale-lease-downtown-losangeles?mlsno=11-524713"
           },
           {
            "bathrooms": 1,
            "bedrooms": 1,
            "date": "2011-07-18",
            "price": 270000,
            "price_per_square_foot": 268.38966202783297,
            "square_feet": 1006,
            "unit": 804,
            "url": "https://www.dlxco.com/the-promenade-west-lofts-condos-for-sale-lease-downtown-losangeles?mlsno=11-505205"
           },
           {
            "bathrooms": 3,
            "bedrooms": 2,
            "date": "2011-06-27",
            "price": 375000,
            "price_per_square_foot": 248.01587301587298,
            "square_feet": 1512,
            "unit": 314,
            "url": "https://www.dlxco.com/the-promenade-west-lofts-condos-for-sale-lease-downtown-losangeles?mlsno=11-507735"
           },
           {
            "bathrooms": 3,
            "bedrooms": 2,
            "date": "2011-04-15",
            "price": 443000,
            "price_per_square_foot": 295.3333333333333,
            "square_feet": 1500,
            "unit": 203,
            "url": "https://www.dlxco.com/the-promenade-west-lofts-condos-for-sale-lease-downtown-losangeles?mlsno=10-469183"
           },
           {
            "bathrooms": 2,
            "bedrooms": 2,
            "date": "2011-04-14",
            "price": 265000,
            "price_per_square_foot": 217.74856203779785,
            "square_feet": 1217,
            "unit": 107,
            "url": "https://www.dlxco.com/the-promenade-west-lofts-condos-for-sale-lease-downtown-losangeles?mlsno=R1006067MR"
           },
           {
            "bathrooms": 1,
            "bedrooms": 1,
            "date": "2011-01-14",
            "price": 250000,
            "price_per_square_foot": 252.0161290322581,
            "square_feet": 992,
            "unit": 714,
            "url": "https://www.dlxco.com/the-promenade-west-lofts-condos-for-sale-lease-downtown-losangeles?mlsno=10-480135"
           }
          ]
         },
         "encoding": {
          "x": {
           "axis": {
            "labelAngle": 0,
            "title": ""
           },
           "field": "date",
           "timeUnit": "year",
           "type": "ordinal"
          },
          "y": {
           "aggregate": "median",
           "axis": {
            "format": "$s",
            "grid": false,
            "title": ""
           },
           "field": "price_per_square_foot",
           "scale": {
            "domain": [
             0,
             500
            ]
           },
           "type": "quantitative"
          }
         },
         "mark": {
          "color": "black",
          "type": "bar"
         },
         "width": 600
        },
        {
         "data": {
          "values": [
           {
            "bathrooms": 2,
            "bedrooms": 2,
            "date": "2018-06-12",
            "price": 600000,
            "price_per_square_foot": 453.51473922902494,
            "square_feet": 1323,
            "unit": 527,
            "url": "https://www.dlxco.com/the-promenade-west-lofts-condos-for-sale-lease-downtown-losangeles?mlsno=18-334730"
           },
           {
            "bathrooms": 2,
            "bedrooms": 2,
            "date": "2018-04-11",
            "price": 598000,
            "price_per_square_foot": 443.62017804154294,
            "square_feet": 1348,
            "unit": 706,
            "url": "https://www.dlxco.com/the-promenade-west-lofts-condos-for-sale-lease-downtown-losangeles?mlsno=SR18004194CN"
           },
           {
            "bathrooms": 2,
            "bedrooms": 2,
            "date": "2018-02-01",
            "price": 590000,
            "price_per_square_foot": 445.95616024187444,
            "square_feet": 1323,
            "unit": 409,
            "url": "https://www.dlxco.com/the-promenade-west-lofts-condos-for-sale-lease-downtown-losangeles?mlsno=18-302636"
           },
           {
            "bathrooms": 3,
            "bedrooms": 2,
            "date": "2018-01-24",
            "price": 615000,
            "price_per_square_foot": 407.55467196819086,
            "square_feet": 1509,
            "unit": 315,
            "url": "https://www.dlxco.com/the-promenade-west-lofts-condos-for-sale-lease-downtown-losangeles?mlsno=17-280756"
           },
           {
            "bathrooms": 1,
            "bedrooms": 1,
            "date": "2017-12-13",
            "price": 455000,
            "price_per_square_foot": 452.286282306163,
            "square_feet": 1006,
            "unit": 804,
            "url": "https://www.dlxco.com/the-promenade-west-lofts-condos-for-sale-lease-downtown-losangeles?mlsno=17-276468"
           },
           {
            "bathrooms": 2,
            "bedrooms": 1,
            "date": "2017-12-08",
            "price": 450000,
            "price_per_square_foot": 447.31610337972165,
            "square_feet": 1006,
            "unit": 803,
            "url": "https://www.dlxco.com/the-promenade-west-lofts-condos-for-sale-lease-downtown-losangeles?mlsno=RS17251377MR"
           },
           {
            "bathrooms": 2,
            "bedrooms": 2,
            "date": "2017-08-31",
            "price": 555000,
            "price_per_square_foot": 450.48701298701303,
            "square_feet": 1232,
            "unit": 511,
            "url": "https://www.dlxco.com/the-promenade-west-lofts-condos-for-sale-lease-downtown-losangeles?mlsno=SR17142069CN"
           },
           {
            "bathrooms": 2,
            "bedrooms": 2,
            "date": "2017-08-22",
            "price": 573000,
            "price_per_square_foot": 470.8299096138044,
            "square_feet": 1217,
            "unit": 305,
            "url": "https://www.dlxco.com/the-promenade-west-lofts-condos-for-sale-lease-downtown-losangeles?mlsno=17-241720"
           },
           {
            "bathrooms": 3,
            "bedrooms": 2,
            "date": "2017-07-31",
            "price": 580000,
            "price_per_square_foot": 386.66666666666674,
            "square_feet": 1500,
            "unit": 316,
            "url": "https://www.dlxco.com/the-promenade-west-lofts-condos-for-sale-lease-downtown-losangeles?mlsno=17-206676"
           },
           {
            "bathrooms": 1,
            "bedrooms": 1,
            "date": "2017-07-24",
            "price": 462000,
            "price_per_square_foot": 465.72580645161287,
            "square_feet": 992,
            "unit": 712,
            "url": "https://www.dlxco.com/the-promenade-west-lofts-condos-for-sale-lease-downtown-losangeles?mlsno=17-233274"
           },
           {
            "bathrooms": 2,
            "bedrooms": 3,
            "date": "2017-07-19",
            "price": 612000,
            "price_per_square_foot": 375.9213759213759,
            "square_feet": 1628,
            "unit": 705,
            "url": "https://www.dlxco.com/the-promenade-west-lofts-condos-for-sale-lease-downtown-losangeles?mlsno=17-229802"
           },
           {
            "bathrooms": 2,
            "bedrooms": 2,
            "date": "2017-07-06",
            "price": 570000,
            "price_per_square_foot": 468.3648315529992,
            "square_feet": 1217,
            "unit": 309,
            "url": "https://www.dlxco.com/the-promenade-west-lofts-condos-for-sale-lease-downtown-losangeles?mlsno=17-215688"
           },
           {
            "bathrooms": 2,
            "bedrooms": 2,
            "date": "2017-06-26",
            "price": 527500,
            "price_per_square_foot": 391.32047477744806,
            "square_feet": 1348,
            "unit": 621,
            "url": "https://www.dlxco.com/the-promenade-west-lofts-condos-for-sale-lease-downtown-losangeles?mlsno=SB17104895MR"
           },
           {
            "bathrooms": 3,
            "bedrooms": 2,
            "date": "2017-05-12",
            "price": 605000,
            "price_per_square_foot": 400.13227513227514,
            "square_feet": 1512,
            "unit": 206,
            "url": "https://www.dlxco.com/the-promenade-west-lofts-condos-for-sale-lease-downtown-losangeles?mlsno=17-211192"
           },
           {
            "bathrooms": 2,
            "bedrooms": 3,
            "date": "2017-03-27",
            "price": 550000,
            "price_per_square_foot": 322.20269478617456,
            "square_feet": 1707,
            "unit": 520,
            "url": "https://www.dlxco.com/the-promenade-west-lofts-condos-for-sale-lease-downtown-losangeles?mlsno=16-166900"
           },
           {
            "bathrooms": 2,
            "bedrooms": 2,
            "date": "2017-01-03",
            "price": 570000,
            "price_per_square_foot": 430.8390022675737,
            "square_feet": 1323,
            "unit": 619,
            "url": "https://www.dlxco.com/the-promenade-west-lofts-condos-for-sale-lease-downtown-losangeles?mlsno=16-176362"
           },
           {
            "bathrooms": 2,
            "bedrooms": 2,
            "date": "2016-11-18",
            "price": 545000,
            "price_per_square_foot": 434.95610534716684,
            "square_feet": 1253,
            "unit": 501,
            "url": "https://www.dlxco.com/the-promenade-west-lofts-condos-for-sale-lease-downtown-losangeles?mlsno=16-149712"
           },
           {
            "bathrooms": 2,
            "bedrooms": 2,
            "date": "2016-11-14",
            "price": 615000,
            "price_per_square_foot": 440.5444126074497,
            "square_feet": 1396,
            "unit": 808,
            "url": "https://www.dlxco.com/the-promenade-west-lofts-condos-for-sale-lease-downtown-losangeles?mlsno=16-138782"
           },
           {
            "bathrooms": 1,
            "bedrooms": 1,
            "date": "2016-10-11",
            "price": 466000,
            "price_per_square_foot": 463.220675944334,
            "square_feet": 1006,
            "unit": 806,
            "url": "https://www.dlxco.com/the-promenade-west-lofts-condos-for-sale-lease-downtown-losangeles?mlsno=16-122734"
           },
           {
            "bathrooms": 2,
            "bedrooms": 2,
            "date": "2016-09-17",
            "price": 575000,
            "price_per_square_foot": 433.3082140165788,
            "square_feet": 1327,
            "unit": 415,
            "url": "https://www.dlxco.com/the-promenade-west-lofts-condos-for-sale-lease-downtown-losangeles?mlsno=16-142232"
           },
           {
            "bathrooms": 1,
            "bedrooms": 1,
            "date": "2016-08-05",
            "price": 545000,
            "price_per_square_foot": 541.7495029821074,
            "square_feet": 1006,
            "unit": 802,
            "url": "https://www.dlxco.com/the-promenade-west-lofts-condos-for-sale-lease-downtown-losangeles?mlsno=16-125118"
           },
           {
            "bathrooms": 3,
            "bedrooms": 2,
            "date": "2016-07-26",
            "price": 629500,
            "price_per_square_foot": 416.33597883597884,
            "square_feet": 1512,
            "unit": 314,
            "url": "https://www.dlxco.com/the-promenade-west-lofts-condos-for-sale-lease-downtown-losangeles?mlsno=16-124382"
           },
           {
            "bathrooms": 2,
            "bedrooms": 3,
            "date": "2016-05-31",
            "price": 637000,
            "price_per_square_foot": 391.03744628606506,
            "square_feet": 1629,
            "unit": 505,
            "url": "https://www.dlxco.com/the-promenade-west-lofts-condos-for-sale-lease-downtown-losangeles?mlsno=PW16060511MR"
           },
           {
            "bathrooms": 1,
            "bedrooms": 1,
            "date": "2016-05-17",
            "price": 530000,
            "price_per_square_foot": 526.8389662027834,
            "square_feet": 1006,
            "unit": 801,
            "url": "https://www.dlxco.com/the-promenade-west-lofts-condos-for-sale-lease-downtown-losangeles?mlsno=16-975267"
           },
           {
            "bathrooms": 2,
            "bedrooms": 2,
            "date": "2016-04-11",
            "price": 520000,
            "price_per_square_foot": 385.75667655786344,
            "square_feet": 1348,
            "unit": 414,
            "url": "https://www.dlxco.com/the-promenade-west-lofts-condos-for-sale-lease-downtown-losangeles?mlsno=15-963651"
           },
           {
            "bathrooms": 3,
            "bedrooms": 2,
            "date": "2016-01-09",
            "price": 585000,
            "price_per_square_foot": 386.90476190476187,
            "square_feet": 1512,
            "unit": 202,
            "url": "https://www.dlxco.com/the-promenade-west-lofts-condos-for-sale-lease-downtown-losangeles?mlsno=15-960051"
           },
           {
            "bathrooms": 2,
            "bedrooms": 2,
            "date": "2015-11-25",
            "price": 535000,
            "price_per_square_foot": 408.08543096872603,
            "square_feet": 1311,
            "unit": 516,
            "url": "https://www.dlxco.com/the-promenade-west-lofts-condos-for-sale-lease-downtown-losangeles?mlsno=315009216IT"
           },
           {
            "bathrooms": 2,
            "bedrooms": 2,
            "date": "2015-09-28",
            "price": 560000,
            "price_per_square_foot": 416.0475482912333,
            "square_feet": 1346,
            "unit": 504,
            "url": "https://www.dlxco.com/the-promenade-west-lofts-condos-for-sale-lease-downtown-losangeles?mlsno=15-927421"
           },
           {
            "bathrooms": 2,
            "bedrooms": 2,
            "date": "2015-09-03",
            "price": 535000,
            "price_per_square_foot": 404.07854984894266,
            "square_feet": 1324,
            "unit": 611,
            "url": "https://www.dlxco.com/the-promenade-west-lofts-condos-for-sale-lease-downtown-losangeles?mlsno=15-906695"
           },
           {
            "bathrooms": 2,
            "bedrooms": 2,
            "date": "2015-08-24",
            "price": 558000,
            "price_per_square_foot": 421.76870748299314,
            "square_feet": 1323,
            "unit": 616,
            "url": "https://www.dlxco.com/the-promenade-west-lofts-condos-for-sale-lease-downtown-losangeles?mlsno=15-907973"
           },
           {
            "bathrooms": 2,
            "bedrooms": 2,
            "date": "2015-08-20",
            "price": 625000,
            "price_per_square_foot": 472.41118669690104,
            "square_feet": 1323,
            "unit": 527,
            "url": "https://www.dlxco.com/the-promenade-west-lofts-condos-for-sale-lease-downtown-losangeles?mlsno=AR15120825MR"
           },
           {
            "bathrooms": 2,
            "bedrooms": 2,
            "date": "2015-08-20",
            "price": 520000,
            "price_per_square_foot": 385.75667655786344,
            "square_feet": 1348,
            "unit": 701,
            "url": "https://www.dlxco.com/the-promenade-west-lofts-condos-for-sale-lease-downtown-losangeles?mlsno=15-913217"
           },
           {
            "bathrooms": 2,
            "bedrooms": 2,
            "date": "2015-04-14",
            "price": 500000,
            "price_per_square_foot": 370.91988130563794,
            "square_feet": 1348,
            "unit": 704,
            "url": "https://www.dlxco.com/the-promenade-west-lofts-condos-for-sale-lease-downtown-losangeles?mlsno=15-824505"
           },
           {
            "bathrooms": 2,
            "bedrooms": 2,
            "date": "2015-03-26",
            "price": 530000,
            "price_per_square_foot": 393.1750741839763,
            "square_feet": 1348,
            "unit": 412,
            "url": "https://www.dlxco.com/the-promenade-west-lofts-condos-for-sale-lease-downtown-losangeles?mlsno=15-879535"
           },
           {
            "bathrooms": 3,
            "bedrooms": 2,
            "date": "2015-03-25",
            "price": 485000,
            "price_per_square_foot": 321.40490390987406,
            "square_feet": 1509,
            "unit": 319,
            "url": "https://www.dlxco.com/the-promenade-west-lofts-condos-for-sale-lease-downtown-losangeles?mlsno=14-795913"
           },
           {
            "bathrooms": 3,
            "bedrooms": 2,
            "date": "2015-02-18",
            "price": 560000,
            "price_per_square_foot": 373.33333333333326,
            "square_feet": 1500,
            "unit": 203,
            "url": "https://www.dlxco.com/the-promenade-west-lofts-condos-for-sale-lease-downtown-losangeles?mlsno=14-812843"
           },
           {
            "bathrooms": 2,
            "bedrooms": 2,
            "date": "2014-12-30",
            "price": 495000,
            "price_per_square_foot": 374.1496598639456,
            "square_feet": 1323,
            "unit": 524,
            "url": "https://www.dlxco.com/the-promenade-west-lofts-condos-for-sale-lease-downtown-losangeles?mlsno=14-781543"
           },
           {
            "bathrooms": 2,
            "bedrooms": 2,
            "date": "2014-12-23",
            "price": 499000,
            "price_per_square_foot": 410.02465078060806,
            "square_feet": 1217,
            "unit": 209,
            "url": "https://www.dlxco.com/the-promenade-west-lofts-condos-for-sale-lease-downtown-losangeles?mlsno=14-812935"
           },
           {
            "bathrooms": 1,
            "bedrooms": 1,
            "date": "2014-11-13",
            "price": 385000,
            "price_per_square_foot": 382.7037773359841,
            "square_feet": 1006,
            "unit": 610,
            "url": "https://www.dlxco.com/the-promenade-west-lofts-condos-for-sale-lease-downtown-losangeles?mlsno=14-791495"
           },
           {
            "bathrooms": 3,
            "bedrooms": 2,
            "date": "2014-09-25",
            "price": 470000,
            "price_per_square_foot": 313.7516688918558,
            "square_feet": 1498,
            "unit": 317,
            "url": "https://www.dlxco.com/the-promenade-west-lofts-condos-for-sale-lease-downtown-losangeles?mlsno=214012630IT"
           },
           {
            "bathrooms": 3,
            "bedrooms": 2,
            "date": "2014-09-19",
            "price": 550000,
            "price_per_square_foot": 363.75661375661383,
            "square_feet": 1512,
            "unit": 206,
            "url": "https://www.dlxco.com/the-promenade-west-lofts-condos-for-sale-lease-downtown-losangeles?mlsno=14-738439"
           },
           {
            "bathrooms": 2,
            "bedrooms": 3,
            "date": "2014-05-22",
            "price": 625000,
            "price_per_square_foot": 370.91988130563794,
            "square_feet": 1685,
            "unit": 405,
            "url": "https://www.dlxco.com/the-promenade-west-lofts-condos-for-sale-lease-downtown-losangeles?mlsno=14-745001"
           },
           {
            "bathrooms": 3,
            "bedrooms": 2,
            "date": "2014-02-12",
            "price": 398500,
            "price_per_square_foot": 264.0821736249172,
            "square_feet": 1509,
            "unit": 319,
            "url": "https://www.dlxco.com/the-promenade-west-lofts-condos-for-sale-lease-downtown-losangeles?mlsno=SR13129134CN"
           },
           {
            "bathrooms": 2,
            "bedrooms": 2,
            "date": "2014-01-17",
            "price": 405000,
            "price_per_square_foot": 306.8181818181818,
            "square_feet": 1320,
            "unit": 108,
            "url": "https://www.dlxco.com/the-promenade-west-lofts-condos-for-sale-lease-downtown-losangeles?mlsno=13-719047"
           },
           {
            "bathrooms": 1,
            "bedrooms": 1,
            "date": "2013-11-19",
            "price": 390000,
            "price_per_square_foot": 387.6739562624255,
            "square_feet": 1006,
            "unit": 711,
            "url": "https://www.dlxco.com/the-promenade-west-lofts-condos-for-sale-lease-downtown-losangeles?mlsno=13-689693"
           },
           {
            "bathrooms": 2,
            "bedrooms": 2,
            "date": "2013-10-09",
            "price": 381650,
            "price_per_square_foot": 313.5990139687757,
            "square_feet": 1217,
            "unit": 211,
            "url": "https://www.dlxco.com/the-promenade-west-lofts-condos-for-sale-lease-downtown-losangeles?mlsno=PW13077881MR"
           },
           {
            "bathrooms": 2,
            "bedrooms": 2,
            "date": "2013-09-11",
            "price": 420000,
            "price_per_square_foot": 340.90909090909093,
            "square_feet": 1232,
            "unit": 502,
            "url": "https://www.dlxco.com/the-promenade-west-lofts-condos-for-sale-lease-downtown-losangeles?mlsno=13-664793"
           },
           {
            "bathrooms": 1,
            "bedrooms": 1,
            "date": "2013-04-12",
            "price": 290000,
            "price_per_square_foot": 289.13260219341976,
            "square_feet": 1003,
            "unit": 609,
            "url": "https://www.dlxco.com/the-promenade-west-lofts-condos-for-sale-lease-downtown-losangeles?mlsno=S710858MR"
           },
           {
            "bathrooms": 2,
            "bedrooms": 2,
            "date": "2013-02-11",
            "price": 335000,
            "price_per_square_foot": 253.21239606953893,
            "square_feet": 1323,
            "unit": 522,
            "url": "https://www.dlxco.com/the-promenade-west-lofts-condos-for-sale-lease-downtown-losangeles?mlsno=P837804MR"
           },
           {
            "bathrooms": 2,
            "bedrooms": 2,
            "date": "2013-02-04",
            "price": 390000,
            "price_per_square_foot": 293.896006028636,
            "square_feet": 1327,
            "unit": 403,
            "url": "https://www.dlxco.com/the-promenade-west-lofts-condos-for-sale-lease-downtown-losangeles?mlsno=12-631013"
           },
           {
            "bathrooms": 2,
            "bedrooms": 2,
            "date": "2012-11-07",
            "price": 380000,
            "price_per_square_foot": 286.3602110022607,
            "square_feet": 1327,
            "unit": 416,
            "url": "https://www.dlxco.com/the-promenade-west-lofts-condos-for-sale-lease-downtown-losangeles?mlsno=22167529IT"
           },
           {
            "bathrooms": 2,
            "bedrooms": 2,
            "date": "2012-10-24",
            "price": 290000,
            "price_per_square_foot": 218.53805576488318,
            "square_feet": 1327,
            "unit": 526,
            "url": "https://www.dlxco.com/the-promenade-west-lofts-condos-for-sale-lease-downtown-losangeles?mlsno=12-598567"
           },
           {
            "bathrooms": 2,
            "bedrooms": 2,
            "date": "2012-06-20",
            "price": 395000,
            "price_per_square_foot": 298.56386999244137,
            "square_feet": 1323,
            "unit": 308,
            "url": "https://www.dlxco.com/the-promenade-west-lofts-condos-for-sale-lease-downtown-losangeles?mlsno=12-593925"
           },
           {
            "bathrooms": 2,
            "bedrooms": 2,
            "date": "2012-02-10",
            "price": 380000,
            "price_per_square_foot": 286.3602110022607,
            "square_feet": 1327,
            "unit": 415,
            "url": "https://www.dlxco.com/the-promenade-west-lofts-condos-for-sale-lease-downtown-losangeles?mlsno=11-569123"
           },
           {
            "bathrooms": 3,
            "bedrooms": 2,
            "date": "2011-10-07",
            "price": 455000,
            "price_per_square_foot": 301.92435301924354,
            "square_feet": 1507,
            "unit": 205,
            "url": "https://www.dlxco.com/the-promenade-west-lofts-condos-for-sale-lease-downtown-losangeles?mlsno=11-535629"
           },
           {
            "bathrooms": 3,
            "bedrooms": 2,
            "date": "2011-09-27",
            "price": 275000,
            "price_per_square_foot": 181.87830687830692,
            "square_feet": 1512,
            "unit": 216,
            "url": "https://www.dlxco.com/the-promenade-west-lofts-condos-for-sale-lease-downtown-losangeles?mlsno=C11032172MR"
           },
           {
            "bathrooms": 2,
            "bedrooms": 2,
            "date": "2011-08-16",
            "price": 350000,
            "price_per_square_foot": 284.09090909090907,
            "square_feet": 1232,
            "unit": 511,
            "url": "https://www.dlxco.com/the-promenade-west-lofts-condos-for-sale-lease-downtown-losangeles?mlsno=11-524713"
           },
           {
            "bathrooms": 1,
            "bedrooms": 1,
            "date": "2011-07-18",
            "price": 270000,
            "price_per_square_foot": 268.38966202783297,
            "square_feet": 1006,
            "unit": 804,
            "url": "https://www.dlxco.com/the-promenade-west-lofts-condos-for-sale-lease-downtown-losangeles?mlsno=11-505205"
           },
           {
            "bathrooms": 3,
            "bedrooms": 2,
            "date": "2011-06-27",
            "price": 375000,
            "price_per_square_foot": 248.01587301587298,
            "square_feet": 1512,
            "unit": 314,
            "url": "https://www.dlxco.com/the-promenade-west-lofts-condos-for-sale-lease-downtown-losangeles?mlsno=11-507735"
           },
           {
            "bathrooms": 3,
            "bedrooms": 2,
            "date": "2011-04-15",
            "price": 443000,
            "price_per_square_foot": 295.3333333333333,
            "square_feet": 1500,
            "unit": 203,
            "url": "https://www.dlxco.com/the-promenade-west-lofts-condos-for-sale-lease-downtown-losangeles?mlsno=10-469183"
           },
           {
            "bathrooms": 2,
            "bedrooms": 2,
            "date": "2011-04-14",
            "price": 265000,
            "price_per_square_foot": 217.74856203779785,
            "square_feet": 1217,
            "unit": 107,
            "url": "https://www.dlxco.com/the-promenade-west-lofts-condos-for-sale-lease-downtown-losangeles?mlsno=R1006067MR"
           },
           {
            "bathrooms": 1,
            "bedrooms": 1,
            "date": "2011-01-14",
            "price": 250000,
            "price_per_square_foot": 252.0161290322581,
            "square_feet": 992,
            "unit": 714,
            "url": "https://www.dlxco.com/the-promenade-west-lofts-condos-for-sale-lease-downtown-losangeles?mlsno=10-480135"
           }
          ]
         },
         "encoding": {
          "text": {
           "aggregate": "median",
           "field": "price_per_square_foot",
           "format": "$,.0f",
           "type": "quantitative"
          },
          "x": {
           "axis": {
            "labelAngle": 0,
            "title": ""
           },
           "field": "date",
           "timeUnit": "year",
           "type": "ordinal"
          },
          "y": {
           "aggregate": "median",
           "axis": {
            "format": "$s",
            "grid": false,
            "title": ""
           },
           "field": "price_per_square_foot",
           "scale": {
            "domain": [
             0,
             500
            ]
           },
           "type": "quantitative"
          }
         },
         "mark": {
          "align": "center",
          "baseline": "middle",
          "dy": -9,
          "size": 13,
          "type": "text"
         },
         "width": 600
        }
       ]
      },
      "image/png": "[encoded data removed]",
      "text/plain": [
       "<VegaLite 2 object>\n",
       "\n",
       "If you see this message, it means the renderer has not been properly enabled\n",
       "for the frontend that you are using. For more information, see\n",
       "https://altair-viz.github.io/user_guide/troubleshooting.html\n"
      ]
     },
     "execution_count": 69,
     "metadata": {},
     "output_type": "execute_result"
    }
   ],
   "source": [
    "bars = alt.Chart(df).mark_bar(color=\"black\").encode(\n",
    "    x=alt.X(\n",
    "        \"date:O\",\n",
    "        timeUnit=\"year\",\n",
    "        axis=alt.Axis(title=\"\", labelAngle=0),\n",
    "    ),\n",
    "    y=alt.Y(\n",
    "        \"median(price_per_square_foot):Q\",\n",
    "        axis=alt.Axis(title=\"\", format=\"$s\", grid=False),\n",
    "        scale=alt.Scale(domain=[0, 500]),\n",
    "    ),\n",
    ").properties(width=600)\n",
    "\n",
    "text = bars.mark_text(\n",
    "    align='center',\n",
    "    baseline='middle',\n",
    "    dy=-9,\n",
    "    size=13\n",
    ").encode(\n",
    "    text=alt.Text('median(price_per_square_foot):Q', format=\"$,.0f\")\n",
    ")\n",
    "\n",
    "chart = bars + text\n",
    "\n",
    "chart.configure_view(\n",
    "    strokeOpacity=0\n",
    ").save('assets/price-per-sqft-by-year.svg')\n",
    "\n",
    "chart"
   ]
  }
 ],
 "metadata": {
  "kernelspec": {
   "display_name": "Python 2",
   "language": "python",
   "name": "python2"
  },
  "language_info": {
   "codemirror_mode": {
    "name": "ipython",
    "version": 2
   },
   "file_extension": ".py",
   "mimetype": "text/x-python",
   "name": "python",
   "nbconvert_exporter": "python",
   "pygments_lexer": "ipython2",
   "version": "2.7.12"
  }
 },
 "nbformat": 4,
 "nbformat_minor": 2
}
