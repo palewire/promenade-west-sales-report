{
 "cells": [
  {
   "cell_type": "code",
   "execution_count": 1,
   "metadata": {},
   "outputs": [],
   "source": [
    "import json\n",
    "import pandas as pd\n",
    "import altair as alt\n",
    "from utils import percentage_change\n",
    "from datetime import datetime, timedelta"
   ]
  },
  {
   "cell_type": "code",
   "execution_count": 2,
   "metadata": {},
   "outputs": [
    {
     "data": {
      "text/plain": [
       "DataTransformerRegistry.enable('json')"
      ]
     },
     "execution_count": 2,
     "metadata": {},
     "output_type": "execute_result"
    }
   ],
   "source": [
    "alt.data_transformers.enable('json')"
   ]
  },
  {
   "cell_type": "code",
   "execution_count": 3,
   "metadata": {},
   "outputs": [],
   "source": [
    "SAVE_CHARTS = True"
   ]
  },
  {
   "cell_type": "markdown",
   "metadata": {},
   "source": [
    "Read in the sales data"
   ]
  },
  {
   "cell_type": "code",
   "execution_count": 4,
   "metadata": {},
   "outputs": [],
   "source": [
    "df = pd.read_csv(\"./_data/sales.csv\")"
   ]
  },
  {
   "cell_type": "markdown",
   "metadata": {},
   "source": [
    "Parse the dates"
   ]
  },
  {
   "cell_type": "code",
   "execution_count": 5,
   "metadata": {},
   "outputs": [],
   "source": [
    "df.date = pd.to_datetime(df.date)"
   ]
  },
  {
   "cell_type": "markdown",
   "metadata": {},
   "source": [
    "Filter down to our buildings and areas we want to study"
   ]
  },
  {
   "cell_type": "code",
   "execution_count": 6,
   "metadata": {},
   "outputs": [],
   "source": [
    "pwest = df[df.building_name == 'Promenade West']"
   ]
  },
  {
   "cell_type": "code",
   "execution_count": 7,
   "metadata": {},
   "outputs": [],
   "source": [
    "bunker_hill = df[df.region == 'Bunker Hill']"
   ]
  },
  {
   "cell_type": "markdown",
   "metadata": {},
   "source": [
    "What are the most recent sales at Promenade West?"
   ]
  },
  {
   "cell_type": "code",
   "execution_count": 8,
   "metadata": {},
   "outputs": [
    {
     "data": {
      "text/html": [
       "<div>\n",
       "<style scoped>\n",
       "    .dataframe tbody tr th:only-of-type {\n",
       "        vertical-align: middle;\n",
       "    }\n",
       "\n",
       "    .dataframe tbody tr th {\n",
       "        vertical-align: top;\n",
       "    }\n",
       "\n",
       "    .dataframe thead th {\n",
       "        text-align: right;\n",
       "    }\n",
       "</style>\n",
       "<table border=\"1\" class=\"dataframe\">\n",
       "  <thead>\n",
       "    <tr style=\"text-align: right;\">\n",
       "      <th></th>\n",
       "      <th>building_name</th>\n",
       "      <th>date</th>\n",
       "      <th>unit</th>\n",
       "      <th>price</th>\n",
       "      <th>square_feet</th>\n",
       "      <th>price_per_square_foot</th>\n",
       "    </tr>\n",
       "  </thead>\n",
       "  <tbody>\n",
       "    <tr>\n",
       "      <th>2026</th>\n",
       "      <td>Promenade West</td>\n",
       "      <td>2018-11-26</td>\n",
       "      <td>412</td>\n",
       "      <td>580000.0</td>\n",
       "      <td>1348.0</td>\n",
       "      <td>430.267062</td>\n",
       "    </tr>\n",
       "    <tr>\n",
       "      <th>2027</th>\n",
       "      <td>Promenade West</td>\n",
       "      <td>2018-07-03</td>\n",
       "      <td>308</td>\n",
       "      <td>620000.0</td>\n",
       "      <td>1323.0</td>\n",
       "      <td>468.631897</td>\n",
       "    </tr>\n",
       "    <tr>\n",
       "      <th>2028</th>\n",
       "      <td>Promenade West</td>\n",
       "      <td>2018-06-12</td>\n",
       "      <td>527</td>\n",
       "      <td>600000.0</td>\n",
       "      <td>1323.0</td>\n",
       "      <td>453.514739</td>\n",
       "    </tr>\n",
       "    <tr>\n",
       "      <th>2029</th>\n",
       "      <td>Promenade West</td>\n",
       "      <td>2018-04-11</td>\n",
       "      <td>706</td>\n",
       "      <td>598000.0</td>\n",
       "      <td>1348.0</td>\n",
       "      <td>443.620178</td>\n",
       "    </tr>\n",
       "    <tr>\n",
       "      <th>2030</th>\n",
       "      <td>Promenade West</td>\n",
       "      <td>2018-02-01</td>\n",
       "      <td>409</td>\n",
       "      <td>590000.0</td>\n",
       "      <td>1323.0</td>\n",
       "      <td>445.956160</td>\n",
       "    </tr>\n",
       "  </tbody>\n",
       "</table>\n",
       "</div>"
      ],
      "text/plain": [
       "       building_name       date unit     price  square_feet  \\\n",
       "2026  Promenade West 2018-11-26  412  580000.0       1348.0   \n",
       "2027  Promenade West 2018-07-03  308  620000.0       1323.0   \n",
       "2028  Promenade West 2018-06-12  527  600000.0       1323.0   \n",
       "2029  Promenade West 2018-04-11  706  598000.0       1348.0   \n",
       "2030  Promenade West 2018-02-01  409  590000.0       1323.0   \n",
       "\n",
       "      price_per_square_foot  \n",
       "2026             430.267062  \n",
       "2027             468.631897  \n",
       "2028             453.514739  \n",
       "2029             443.620178  \n",
       "2030             445.956160  "
      ]
     },
     "execution_count": 8,
     "metadata": {},
     "output_type": "execute_result"
    }
   ],
   "source": [
    "pwest.sort_values(\"date\", ascending=False)[[\n",
    "    'building_name',\n",
    "    'date',\n",
    "    'unit',\n",
    "    'price',\n",
    "    'square_feet',\n",
    "    'price_per_square_foot'\n",
    "]].head(5)"
   ]
  },
  {
   "cell_type": "markdown",
   "metadata": {},
   "source": [
    "Write out its sales to use elsewhere."
   ]
  },
  {
   "cell_type": "code",
   "execution_count": 9,
   "metadata": {},
   "outputs": [],
   "source": [
    "pwest.to_csv(\"./_data/pwest_sales.csv\", index=False)"
   ]
  },
  {
   "cell_type": "markdown",
   "metadata": {},
   "source": [
    "Let's calculate some statistics"
   ]
  },
  {
   "cell_type": "code",
   "execution_count": 10,
   "metadata": {},
   "outputs": [],
   "source": [
    "def year_over_year_comparison(df):\n",
    "    this_year = df[df.year == datetime.now().year]\n",
    "    last_year = df[df.year == datetime.now().year - 1]\n",
    "    stats = {\n",
    "        'this_year': {\n",
    "            'count': len(this_year),\n",
    "            'median_price': this_year.price.median(),\n",
    "            'median_price_per_sqft': this_year.price_per_square_foot.median(),\n",
    "        },\n",
    "        'last_year': {\n",
    "            'count': len(last_year),\n",
    "            'median_price': last_year.price.median(),\n",
    "            'median_price_per_sqft': last_year.price_per_square_foot.median(),\n",
    "        },\n",
    "        'all_time': {\n",
    "            'median_sqft': df.square_feet.median()\n",
    "        }\n",
    "    }\n",
    "    stats.update({\n",
    "        'change': {\n",
    "            'price': percentage_change(stats['last_year']['median_price'], stats['this_year']['median_price']), \n",
    "            'median_price_per_sqft': percentage_change(stats['last_year']['median_price_per_sqft'], stats['this_year']['median_price_per_sqft']), \n",
    "        }\n",
    "    })\n",
    "    return stats"
   ]
  },
  {
   "cell_type": "markdown",
   "metadata": {},
   "source": [
    "Analyze Promenade West and the areas we care about using this tool."
   ]
  },
  {
   "cell_type": "code",
   "execution_count": 11,
   "metadata": {},
   "outputs": [],
   "source": [
    "pwest_yoy = year_over_year_comparison(pwest)\n",
    "bunkerhill_yoy = year_over_year_comparison(bunker_hill)\n",
    "dtla_yoy = year_over_year_comparison(df)"
   ]
  },
  {
   "cell_type": "markdown",
   "metadata": {},
   "source": [
    "Write out the results"
   ]
  },
  {
   "cell_type": "code",
   "execution_count": 12,
   "metadata": {},
   "outputs": [],
   "source": [
    "json.dump(pwest_yoy, open(\"./_data/pwest.json\", \"w\"), indent=4)\n",
    "json.dump(bunkerhill_yoy, open(\"./_data/bunkerhill.json\", \"w\"), indent=4)\n",
    "json.dump(dtla_yoy, open(\"./_data/dtla.json\", \"w\"), indent=4)"
   ]
  },
  {
   "cell_type": "markdown",
   "metadata": {},
   "source": [
    "### The pace of sales"
   ]
  },
  {
   "cell_type": "code",
   "execution_count": 13,
   "metadata": {},
   "outputs": [
    {
     "data": {
      "application/vnd.vegalite.v2+json": {
       "$schema": "https://vega.github.io/schema/vega-lite/v2.4.3.json",
       "config": {
        "view": {
         "height": 300,
         "strokeOpacity": 0,
         "width": 400
        }
       },
       "layer": [
        {
         "data": {
          "format": {
           "type": "json"
          },
          "url": "altair-data-bfe5e79e3d086a45054a876c6fa1bd79.json"
         },
         "encoding": {
          "x": {
           "axis": {
            "labelAngle": 0,
            "title": ""
           },
           "field": "date",
           "timeUnit": "year",
           "type": "ordinal"
          },
          "y": {
           "aggregate": "count",
           "axis": {
            "grid": false,
            "title": ""
           },
           "scale": {
            "domain": [
             0,
             14
            ]
           },
           "type": "quantitative"
          }
         },
         "mark": {
          "color": "black",
          "type": "bar"
         }
        },
        {
         "data": {
          "format": {
           "type": "json"
          },
          "url": "altair-data-bfe5e79e3d086a45054a876c6fa1bd79.json"
         },
         "encoding": {
          "text": {
           "aggregate": "count",
           "type": "quantitative"
          },
          "x": {
           "axis": {
            "labelAngle": 0,
            "title": ""
           },
           "field": "date",
           "timeUnit": "year",
           "type": "ordinal"
          },
          "y": {
           "aggregate": "count",
           "axis": {
            "grid": false,
            "title": ""
           },
           "scale": {
            "domain": [
             0,
             14
            ]
           },
           "type": "quantitative"
          }
         },
         "mark": {
          "align": "center",
          "baseline": "middle",
          "dy": -12,
          "size": 20,
          "type": "text"
         }
        }
       ],
       "width": 600
      },
      "text/plain": [
       "<VegaLite 2 object>\n",
       "\n",
       "If you see this message, it means the renderer has not been properly enabled\n",
       "for the frontend that you are using. For more information, see\n",
       "https://altair-viz.github.io/user_guide/troubleshooting.html\n"
      ]
     },
     "execution_count": 13,
     "metadata": {},
     "output_type": "execute_result"
    }
   ],
   "source": [
    "bars = alt.Chart(pwest).mark_bar(color=\"black\").encode(\n",
    "    x=alt.X(\"date:O\", timeUnit=\"year\", axis=alt.Axis(labelAngle=0, title=\"\")),\n",
    "    y=alt.Y(\"count()\", scale=alt.Scale(domain=(0, 14)), axis=alt.Axis(title=\"\", grid=False))\n",
    ")\n",
    "\n",
    "text = bars.mark_text(\n",
    "    align='center',\n",
    "    baseline='middle',\n",
    "    dy=-12,\n",
    "    size=20\n",
    ").encode(text='count()')\n",
    "\n",
    "chart = (bars + text).configure_view(\n",
    "    strokeOpacity=0\n",
    ").properties(width=600)\n",
    "\n",
    "if SAVE_CHARTS:\n",
    "    chart.save('assets/sales-by-year.svg')\n",
    "\n",
    "chart"
   ]
  },
  {
   "cell_type": "code",
   "execution_count": 14,
   "metadata": {},
   "outputs": [
    {
     "data": {
      "application/vnd.vegalite.v2+json": {
       "$schema": "https://vega.github.io/schema/vega-lite/v2.4.3.json",
       "config": {
        "view": {
         "height": 300,
         "strokeOpacity": 0,
         "width": 400
        }
       },
       "layer": [
        {
         "data": {
          "format": {
           "type": "json"
          },
          "url": "altair-data-3b9541e3cfab2f3d970eae31b0bf374d.json"
         },
         "encoding": {
          "x": {
           "axis": {
            "labelAngle": 0,
            "title": ""
           },
           "field": "date",
           "timeUnit": "year",
           "type": "ordinal"
          },
          "y": {
           "aggregate": "count",
           "axis": {
            "grid": false,
            "title": ""
           },
           "scale": {
            "domain": [
             0,
             600
            ]
           },
           "type": "quantitative"
          }
         },
         "mark": {
          "color": "gray",
          "type": "bar"
         }
        },
        {
         "data": {
          "format": {
           "type": "json"
          },
          "url": "altair-data-3b9541e3cfab2f3d970eae31b0bf374d.json"
         },
         "encoding": {
          "text": {
           "aggregate": "count",
           "type": "quantitative"
          },
          "x": {
           "axis": {
            "labelAngle": 0,
            "title": ""
           },
           "field": "date",
           "timeUnit": "year",
           "type": "ordinal"
          },
          "y": {
           "aggregate": "count",
           "axis": {
            "grid": false,
            "title": ""
           },
           "scale": {
            "domain": [
             0,
             600
            ]
           },
           "type": "quantitative"
          }
         },
         "mark": {
          "align": "center",
          "baseline": "middle",
          "dy": -12,
          "size": 20,
          "type": "text"
         }
        }
       ],
       "width": 600
      },
      "text/plain": [
       "<VegaLite 2 object>\n",
       "\n",
       "If you see this message, it means the renderer has not been properly enabled\n",
       "for the frontend that you are using. For more information, see\n",
       "https://altair-viz.github.io/user_guide/troubleshooting.html\n"
      ]
     },
     "execution_count": 14,
     "metadata": {},
     "output_type": "execute_result"
    }
   ],
   "source": [
    "bars = alt.Chart(df).mark_bar(color=\"gray\").encode(\n",
    "    x=alt.X(\"date:O\", timeUnit=\"year\", axis=alt.Axis(labelAngle=0, title=\"\")),\n",
    "    y=alt.Y(\"count()\", scale=alt.Scale(domain=(0, 600)), axis=alt.Axis(title=\"\", grid=False))\n",
    ")\n",
    "\n",
    "text = bars.mark_text(\n",
    "    align='center',\n",
    "    baseline='middle',\n",
    "    dy=-12,\n",
    "    size=20\n",
    ").encode(text='count()')\n",
    "\n",
    "chart = (bars + text).configure_view(\n",
    "    strokeOpacity=0\n",
    ").properties(width=600)\n",
    "\n",
    "if SAVE_CHARTS:\n",
    "    chart.save('assets/dtla-sales-by-year.svg')\n",
    "\n",
    "chart"
   ]
  },
  {
   "cell_type": "markdown",
   "metadata": {},
   "source": [
    "### Prices by date"
   ]
  },
  {
   "cell_type": "code",
   "execution_count": 15,
   "metadata": {},
   "outputs": [
    {
     "data": {
      "application/vnd.vegalite.v2+json": {
       "$schema": "https://vega.github.io/schema/vega-lite/v2.4.3.json",
       "config": {
        "view": {
         "height": 300,
         "strokeOpacity": 0,
         "width": 400
        }
       },
       "data": {
        "format": {
         "type": "json"
        },
        "url": "altair-data-bfe5e79e3d086a45054a876c6fa1bd79.json"
       },
       "encoding": {
        "tooltip": [
         {
          "field": "unit",
          "type": "nominal"
         },
         {
          "field": "price",
          "type": "quantitative"
         },
         {
          "field": "square_feet",
          "type": "quantitative"
         },
         {
          "field": "price_per_square_foot",
          "type": "quantitative"
         }
        ],
        "x": {
         "axis": {
          "format": "%Y",
          "grid": false,
          "title": ""
         },
         "field": "date",
         "type": "temporal"
        },
        "y": {
         "axis": {
          "format": "$s",
          "title": ""
         },
         "field": "price",
         "scale": {
          "domain": [
           0,
           700000
          ]
         },
         "type": "quantitative"
        }
       },
       "mark": {
        "color": "black",
        "size": 50,
        "type": "point"
       },
       "width": 600
      },
      "text/plain": [
       "<VegaLite 2 object>\n",
       "\n",
       "If you see this message, it means the renderer has not been properly enabled\n",
       "for the frontend that you are using. For more information, see\n",
       "https://altair-viz.github.io/user_guide/troubleshooting.html\n"
      ]
     },
     "execution_count": 15,
     "metadata": {},
     "output_type": "execute_result"
    }
   ],
   "source": [
    "chart = alt.Chart(pwest).mark_point(size=50, color=\"black\").encode(\n",
    "    x=alt.X(\n",
    "        \"date:T\",\n",
    "        axis=alt.Axis(title=\"\", format=\"%Y\", grid=False),\n",
    "    ),\n",
    "    y=alt.Y(\n",
    "        \"price:Q\",\n",
    "        axis=alt.Axis(title=\"\", format=\"$s\"),\n",
    "        scale=alt.Scale(domain=[0, 700000])\n",
    "    ),\n",
    "    tooltip=[\"unit\", \"price\", \"square_feet\", \"price_per_square_foot\"]\n",
    ").configure_view(\n",
    "    strokeOpacity=0\n",
    ").properties(width=600)\n",
    "\n",
    "\n",
    "if SAVE_CHARTS:\n",
    "    chart.save('assets/price-by-date.svg')\n",
    "\n",
    "chart"
   ]
  },
  {
   "cell_type": "code",
   "execution_count": 16,
   "metadata": {},
   "outputs": [
    {
     "data": {
      "application/vnd.vegalite.v2+json": {
       "$schema": "https://vega.github.io/schema/vega-lite/v2.4.3.json",
       "config": {
        "view": {
         "height": 300,
         "strokeOpacity": 0,
         "width": 400
        }
       },
       "data": {
        "format": {
         "type": "json"
        },
        "url": "altair-data-bfe5e79e3d086a45054a876c6fa1bd79.json"
       },
       "encoding": {
        "tooltip": [
         {
          "field": "unit",
          "type": "nominal"
         },
         {
          "field": "price",
          "type": "quantitative"
         },
         {
          "field": "square_feet",
          "type": "quantitative"
         },
         {
          "field": "price_per_square_foot",
          "type": "quantitative"
         }
        ],
        "x": {
         "axis": {
          "format": "%Y",
          "grid": false,
          "title": ""
         },
         "field": "date",
         "type": "temporal"
        },
        "y": {
         "axis": {
          "format": "$s",
          "title": ""
         },
         "field": "price_per_square_foot",
         "scale": {
          "domain": [
           0,
           600
          ]
         },
         "type": "quantitative"
        }
       },
       "mark": {
        "color": "black",
        "size": 50,
        "type": "point"
       },
       "width": 600
      },
      "text/plain": [
       "<VegaLite 2 object>\n",
       "\n",
       "If you see this message, it means the renderer has not been properly enabled\n",
       "for the frontend that you are using. For more information, see\n",
       "https://altair-viz.github.io/user_guide/troubleshooting.html\n"
      ]
     },
     "execution_count": 16,
     "metadata": {},
     "output_type": "execute_result"
    }
   ],
   "source": [
    "chart = alt.Chart(pwest).mark_point(size=50, color=\"black\").encode(\n",
    "    x=alt.X(\n",
    "        \"date:T\",\n",
    "        axis=alt.Axis(title=\"\", format=\"%Y\", grid=False),\n",
    "    ),\n",
    "    y=alt.Y(\n",
    "        \"price_per_square_foot:Q\",\n",
    "        axis=alt.Axis(title=\"\", format=\"$s\"),\n",
    "        scale=alt.Scale(domain=[0, 600])\n",
    "    ),\n",
    "    tooltip=[\"unit\", \"price\", \"square_feet\", \"price_per_square_foot\"]\n",
    ").properties(width=600).configure_view(\n",
    "    strokeOpacity=0\n",
    ")\n",
    "\n",
    "if SAVE_CHARTS:\n",
    "    chart.save('assets/price-per-sqft-by-date.svg')\n",
    "\n",
    "chart"
   ]
  },
  {
   "cell_type": "code",
   "execution_count": 17,
   "metadata": {},
   "outputs": [
    {
     "data": {
      "application/vnd.vegalite.v2+json": {
       "$schema": "https://vega.github.io/schema/vega-lite/v2.4.3.json",
       "config": {
        "view": {
         "height": 300,
         "strokeOpacity": 0,
         "width": 400
        }
       },
       "layer": [
        {
         "data": {
          "format": {
           "type": "json"
          },
          "url": "altair-data-bfe5e79e3d086a45054a876c6fa1bd79.json"
         },
         "encoding": {
          "x": {
           "axis": {
            "labelAngle": 0,
            "title": ""
           },
           "field": "date",
           "timeUnit": "year",
           "type": "ordinal"
          },
          "y": {
           "aggregate": "median",
           "axis": {
            "format": "$s",
            "grid": false,
            "title": ""
           },
           "field": "price",
           "scale": {
            "domain": [
             0,
             750000
            ]
           },
           "type": "quantitative"
          }
         },
         "mark": {
          "color": "black",
          "type": "bar"
         },
         "width": 600
        },
        {
         "data": {
          "format": {
           "type": "json"
          },
          "url": "altair-data-bfe5e79e3d086a45054a876c6fa1bd79.json"
         },
         "encoding": {
          "text": {
           "aggregate": "median",
           "field": "price",
           "format": "$,.0f",
           "type": "quantitative"
          },
          "x": {
           "axis": {
            "labelAngle": 0,
            "title": ""
           },
           "field": "date",
           "timeUnit": "year",
           "type": "ordinal"
          },
          "y": {
           "aggregate": "median",
           "axis": {
            "format": "$s",
            "grid": false,
            "title": ""
           },
           "field": "price",
           "scale": {
            "domain": [
             0,
             750000
            ]
           },
           "type": "quantitative"
          }
         },
         "mark": {
          "align": "center",
          "baseline": "middle",
          "dy": -9,
          "size": 13,
          "type": "text"
         },
         "width": 600
        }
       ]
      },
      "text/plain": [
       "<VegaLite 2 object>\n",
       "\n",
       "If you see this message, it means the renderer has not been properly enabled\n",
       "for the frontend that you are using. For more information, see\n",
       "https://altair-viz.github.io/user_guide/troubleshooting.html\n"
      ]
     },
     "execution_count": 17,
     "metadata": {},
     "output_type": "execute_result"
    }
   ],
   "source": [
    "bars = alt.Chart(pwest).mark_bar(color=\"black\").encode(\n",
    "    x=alt.X(\n",
    "        \"date:O\",\n",
    "        timeUnit=\"year\",\n",
    "        axis=alt.Axis(title=\"\", labelAngle=0),\n",
    "    ),\n",
    "    y=alt.Y(\n",
    "        \"median(price):Q\",\n",
    "        axis=alt.Axis(title=\"\", format=\"$s\", grid=False),\n",
    "        scale=alt.Scale(domain=[0, 750000]),\n",
    "    ),\n",
    ").properties(width=600)\n",
    "\n",
    "text = bars.mark_text(\n",
    "    align='center',\n",
    "    baseline='middle',\n",
    "    dy=-9,\n",
    "    size=13\n",
    ").encode(\n",
    "    text=alt.Text('median(price):Q', format=\"$,.0f\")\n",
    ")\n",
    "\n",
    "chart = (bars + text).configure_view(\n",
    "    strokeOpacity=0\n",
    ")\n",
    "\n",
    "if SAVE_CHARTS:\n",
    "    chart.save('assets/price-by-year.svg')\n",
    "\n",
    "chart"
   ]
  },
  {
   "cell_type": "code",
   "execution_count": 18,
   "metadata": {},
   "outputs": [
    {
     "data": {
      "application/vnd.vegalite.v2+json": {
       "$schema": "https://vega.github.io/schema/vega-lite/v2.4.3.json",
       "config": {
        "view": {
         "height": 300,
         "strokeOpacity": 0,
         "width": 400
        }
       },
       "layer": [
        {
         "data": {
          "format": {
           "type": "json"
          },
          "url": "altair-data-3b9541e3cfab2f3d970eae31b0bf374d.json"
         },
         "encoding": {
          "x": {
           "axis": {
            "labelAngle": 0,
            "title": ""
           },
           "field": "date",
           "timeUnit": "year",
           "type": "ordinal"
          },
          "y": {
           "aggregate": "median",
           "axis": {
            "format": "$s",
            "grid": false,
            "title": ""
           },
           "field": "price",
           "scale": {
            "domain": [
             0,
             750000
            ]
           },
           "type": "quantitative"
          }
         },
         "mark": {
          "color": "gray",
          "type": "bar"
         },
         "width": 600
        },
        {
         "data": {
          "format": {
           "type": "json"
          },
          "url": "altair-data-3b9541e3cfab2f3d970eae31b0bf374d.json"
         },
         "encoding": {
          "text": {
           "aggregate": "median",
           "field": "price",
           "format": "$,.0f",
           "type": "quantitative"
          },
          "x": {
           "axis": {
            "labelAngle": 0,
            "title": ""
           },
           "field": "date",
           "timeUnit": "year",
           "type": "ordinal"
          },
          "y": {
           "aggregate": "median",
           "axis": {
            "format": "$s",
            "grid": false,
            "title": ""
           },
           "field": "price",
           "scale": {
            "domain": [
             0,
             750000
            ]
           },
           "type": "quantitative"
          }
         },
         "mark": {
          "align": "center",
          "baseline": "middle",
          "dy": -9,
          "size": 13,
          "type": "text"
         },
         "width": 600
        }
       ]
      },
      "text/plain": [
       "<VegaLite 2 object>\n",
       "\n",
       "If you see this message, it means the renderer has not been properly enabled\n",
       "for the frontend that you are using. For more information, see\n",
       "https://altair-viz.github.io/user_guide/troubleshooting.html\n"
      ]
     },
     "execution_count": 18,
     "metadata": {},
     "output_type": "execute_result"
    }
   ],
   "source": [
    "bars = alt.Chart(df).mark_bar(color=\"gray\").encode(\n",
    "    x=alt.X(\n",
    "        \"date:O\",\n",
    "        timeUnit=\"year\",\n",
    "        axis=alt.Axis(title=\"\", labelAngle=0),\n",
    "    ),\n",
    "    y=alt.Y(\n",
    "        \"median(price):Q\",\n",
    "        axis=alt.Axis(title=\"\", format=\"$s\", grid=False),\n",
    "        scale=alt.Scale(domain=[0, 750000]),\n",
    "    ),\n",
    ").properties(width=600)\n",
    "\n",
    "text = bars.mark_text(\n",
    "    align='center',\n",
    "    baseline='middle',\n",
    "    dy=-9,\n",
    "    size=13\n",
    ").encode(\n",
    "    text=alt.Text('median(price):Q', format=\"$,.0f\")\n",
    ")\n",
    "\n",
    "chart = (bars + text).configure_view(\n",
    "    strokeOpacity=0\n",
    ")\n",
    "\n",
    "if SAVE_CHARTS:\n",
    "    chart.save('assets/dtla-price-by-year.svg')\n",
    "\n",
    "chart"
   ]
  },
  {
   "cell_type": "code",
   "execution_count": 19,
   "metadata": {},
   "outputs": [
    {
     "data": {
      "application/vnd.vegalite.v2+json": {
       "$schema": "https://vega.github.io/schema/vega-lite/v2.4.3.json",
       "config": {
        "view": {
         "height": 300,
         "strokeOpacity": 0,
         "width": 400
        }
       },
       "layer": [
        {
         "data": {
          "format": {
           "type": "json"
          },
          "url": "altair-data-bfe5e79e3d086a45054a876c6fa1bd79.json"
         },
         "encoding": {
          "x": {
           "axis": {
            "labelAngle": 0,
            "title": ""
           },
           "field": "date",
           "timeUnit": "year",
           "type": "ordinal"
          },
          "y": {
           "aggregate": "median",
           "axis": {
            "format": "$s",
            "grid": false,
            "title": ""
           },
           "field": "price_per_square_foot",
           "scale": {
            "domain": [
             0,
             750
            ]
           },
           "type": "quantitative"
          }
         },
         "mark": {
          "color": "black",
          "type": "bar"
         },
         "width": 600
        },
        {
         "data": {
          "format": {
           "type": "json"
          },
          "url": "altair-data-bfe5e79e3d086a45054a876c6fa1bd79.json"
         },
         "encoding": {
          "text": {
           "aggregate": "median",
           "field": "price_per_square_foot",
           "format": "$,.0f",
           "type": "quantitative"
          },
          "x": {
           "axis": {
            "labelAngle": 0,
            "title": ""
           },
           "field": "date",
           "timeUnit": "year",
           "type": "ordinal"
          },
          "y": {
           "aggregate": "median",
           "axis": {
            "format": "$s",
            "grid": false,
            "title": ""
           },
           "field": "price_per_square_foot",
           "scale": {
            "domain": [
             0,
             750
            ]
           },
           "type": "quantitative"
          }
         },
         "mark": {
          "align": "center",
          "baseline": "middle",
          "dy": -9,
          "size": 13,
          "type": "text"
         },
         "width": 600
        }
       ]
      },
      "text/plain": [
       "<VegaLite 2 object>\n",
       "\n",
       "If you see this message, it means the renderer has not been properly enabled\n",
       "for the frontend that you are using. For more information, see\n",
       "https://altair-viz.github.io/user_guide/troubleshooting.html\n"
      ]
     },
     "execution_count": 19,
     "metadata": {},
     "output_type": "execute_result"
    }
   ],
   "source": [
    "bars = alt.Chart(pwest).mark_bar(color=\"black\").encode(\n",
    "    x=alt.X(\n",
    "        \"date:O\",\n",
    "        timeUnit=\"year\",\n",
    "        axis=alt.Axis(title=\"\", labelAngle=0),\n",
    "    ),\n",
    "    y=alt.Y(\n",
    "        \"median(price_per_square_foot):Q\",\n",
    "        axis=alt.Axis(title=\"\", format=\"$s\", grid=False),\n",
    "        scale=alt.Scale(domain=[0, 750]),\n",
    "    ),\n",
    ").properties(width=600)\n",
    "\n",
    "text = bars.mark_text(\n",
    "    align='center',\n",
    "    baseline='middle',\n",
    "    dy=-9,\n",
    "    size=13\n",
    ").encode(\n",
    "    text=alt.Text('median(price_per_square_foot):Q', format=\"$,.0f\")\n",
    ")\n",
    "\n",
    "chart = (bars + text).configure_view(\n",
    "    strokeOpacity=0\n",
    ")\n",
    "\n",
    "if SAVE_CHARTS:\n",
    "    chart.save('assets/price-per-sqft-by-year.svg')\n",
    "\n",
    "chart"
   ]
  },
  {
   "cell_type": "code",
   "execution_count": 20,
   "metadata": {},
   "outputs": [
    {
     "data": {
      "application/vnd.vegalite.v2+json": {
       "$schema": "https://vega.github.io/schema/vega-lite/v2.4.3.json",
       "config": {
        "view": {
         "height": 300,
         "strokeOpacity": 0,
         "width": 400
        }
       },
       "layer": [
        {
         "data": {
          "format": {
           "type": "json"
          },
          "url": "altair-data-3b9541e3cfab2f3d970eae31b0bf374d.json"
         },
         "encoding": {
          "x": {
           "axis": {
            "labelAngle": 0,
            "title": ""
           },
           "field": "date",
           "timeUnit": "year",
           "type": "ordinal"
          },
          "y": {
           "aggregate": "median",
           "axis": {
            "format": "$s",
            "grid": false,
            "title": ""
           },
           "field": "price_per_square_foot",
           "scale": {
            "domain": [
             0,
             750
            ]
           },
           "type": "quantitative"
          }
         },
         "mark": {
          "color": "gray",
          "type": "bar"
         },
         "width": 600
        },
        {
         "data": {
          "format": {
           "type": "json"
          },
          "url": "altair-data-3b9541e3cfab2f3d970eae31b0bf374d.json"
         },
         "encoding": {
          "text": {
           "aggregate": "median",
           "field": "price_per_square_foot",
           "format": "$,.0f",
           "type": "quantitative"
          },
          "x": {
           "axis": {
            "labelAngle": 0,
            "title": ""
           },
           "field": "date",
           "timeUnit": "year",
           "type": "ordinal"
          },
          "y": {
           "aggregate": "median",
           "axis": {
            "format": "$s",
            "grid": false,
            "title": ""
           },
           "field": "price_per_square_foot",
           "scale": {
            "domain": [
             0,
             750
            ]
           },
           "type": "quantitative"
          }
         },
         "mark": {
          "align": "center",
          "baseline": "middle",
          "dy": -9,
          "size": 13,
          "type": "text"
         },
         "width": 600
        }
       ]
      },
      "text/plain": [
       "<VegaLite 2 object>\n",
       "\n",
       "If you see this message, it means the renderer has not been properly enabled\n",
       "for the frontend that you are using. For more information, see\n",
       "https://altair-viz.github.io/user_guide/troubleshooting.html\n"
      ]
     },
     "execution_count": 20,
     "metadata": {},
     "output_type": "execute_result"
    }
   ],
   "source": [
    "bars = alt.Chart(df).mark_bar(color=\"gray\").encode(\n",
    "    x=alt.X(\n",
    "        \"date:O\",\n",
    "        timeUnit=\"year\",\n",
    "        axis=alt.Axis(title=\"\", labelAngle=0),\n",
    "    ),\n",
    "    y=alt.Y(\n",
    "        \"median(price_per_square_foot):Q\",\n",
    "        axis=alt.Axis(title=\"\", format=\"$s\", grid=False),\n",
    "        scale=alt.Scale(domain=[0, 750]),\n",
    "    ),\n",
    ").properties(width=600)\n",
    "\n",
    "text = bars.mark_text(\n",
    "    align='center',\n",
    "    baseline='middle',\n",
    "    dy=-9,\n",
    "    size=13\n",
    ").encode(\n",
    "    text=alt.Text('median(price_per_square_foot):Q', format=\"$,.0f\")\n",
    ")\n",
    "\n",
    "chart = (bars + text).configure_view(\n",
    "    strokeOpacity=0\n",
    ")\n",
    "\n",
    "if SAVE_CHARTS:\n",
    "    chart.save('assets/dtla-price-per-sqft-by-year.svg')\n",
    "\n",
    "chart"
   ]
  },
  {
   "cell_type": "markdown",
   "metadata": {},
   "source": [
    "## Bunker Hill"
   ]
  },
  {
   "cell_type": "code",
   "execution_count": 21,
   "metadata": {},
   "outputs": [
    {
     "data": {
      "application/vnd.vegalite.v2+json": {
       "$schema": "https://vega.github.io/schema/vega-lite/v2.4.3.json",
       "config": {
        "view": {
         "height": 300,
         "strokeOpacity": 0,
         "width": 400
        }
       },
       "data": {
        "format": {
         "type": "json"
        },
        "url": "altair-data-38284ec56a3a711e6fb62f1489718de5.json"
       },
       "encoding": {
        "color": {
         "field": "building_name",
         "legend": null,
         "type": "nominal"
        },
        "column": {
         "field": "building_name",
         "type": "nominal"
        },
        "tooltip": [
         {
          "field": "building_name",
          "type": "nominal"
         },
         {
          "field": "unit",
          "type": "nominal"
         },
         {
          "field": "price",
          "type": "quantitative"
         },
         {
          "field": "square_feet",
          "type": "quantitative"
         },
         {
          "field": "price_per_square_foot",
          "type": "quantitative"
         }
        ],
        "x": {
         "axis": {
          "format": "%Y",
          "grid": false,
          "tickCount": 7,
          "title": ""
         },
         "field": "date",
         "type": "temporal"
        },
        "y": {
         "axis": {
          "format": "$s",
          "grid": false,
          "title": ""
         },
         "field": "price",
         "type": "quantitative"
        }
       },
       "mark": {
        "size": 50,
        "type": "point"
       },
       "width": 250
      },
      "text/plain": [
       "<VegaLite 2 object>\n",
       "\n",
       "If you see this message, it means the renderer has not been properly enabled\n",
       "for the frontend that you are using. For more information, see\n",
       "https://altair-viz.github.io/user_guide/troubleshooting.html\n"
      ]
     },
     "execution_count": 21,
     "metadata": {},
     "output_type": "execute_result"
    }
   ],
   "source": [
    "chart = alt.Chart(bunker_hill).mark_point(size=50).encode(\n",
    "    x=alt.X(\n",
    "        \"date:T\",\n",
    "        axis=alt.Axis(title=\"\", format=\"%Y\", tickCount=7, grid=False),\n",
    "    ),\n",
    "    y=alt.Y(\n",
    "        \"price:Q\",\n",
    "        axis=alt.Axis(title=\"\", format=\"$s\", grid=False),\n",
    "    ),\n",
    "    color=alt.Color(\"building_name:N\", legend=None),\n",
    "    column=\"building_name\",\n",
    "    tooltip=[\"building_name\", \"unit\", \"price\", \"square_feet\", \"price_per_square_foot\"]\n",
    ").properties(width=250).configure_view(\n",
    "    strokeOpacity=0\n",
    ")\n",
    "\n",
    "if SAVE_CHARTS:\n",
    "    chart.save('assets/price-by-date.svg')\n",
    "\n",
    "chart"
   ]
  },
  {
   "cell_type": "code",
   "execution_count": 22,
   "metadata": {},
   "outputs": [
    {
     "data": {
      "application/vnd.vegalite.v2+json": {
       "$schema": "https://vega.github.io/schema/vega-lite/v2.4.3.json",
       "config": {
        "view": {
         "height": 300,
         "strokeOpacity": 0,
         "width": 400
        }
       },
       "data": {
        "format": {
         "type": "json"
        },
        "url": "altair-data-38284ec56a3a711e6fb62f1489718de5.json"
       },
       "encoding": {
        "color": {
         "field": "building_name",
         "legend": null,
         "type": "nominal"
        },
        "column": {
         "field": "building_name",
         "type": "nominal"
        },
        "tooltip": [
         {
          "field": "building_name",
          "type": "nominal"
         },
         {
          "field": "unit",
          "type": "nominal"
         },
         {
          "field": "price",
          "type": "quantitative"
         },
         {
          "field": "square_feet",
          "type": "quantitative"
         },
         {
          "field": "price_per_square_foot",
          "type": "quantitative"
         }
        ],
        "x": {
         "axis": {
          "format": "%Y",
          "grid": false,
          "title": ""
         },
         "field": "date",
         "type": "temporal"
        },
        "y": {
         "axis": {
          "format": "$s",
          "grid": false,
          "title": ""
         },
         "field": "price_per_square_foot",
         "type": "quantitative"
        }
       },
       "mark": {
        "size": 50,
        "type": "point"
       },
       "width": 250
      },
      "text/plain": [
       "<VegaLite 2 object>\n",
       "\n",
       "If you see this message, it means the renderer has not been properly enabled\n",
       "for the frontend that you are using. For more information, see\n",
       "https://altair-viz.github.io/user_guide/troubleshooting.html\n"
      ]
     },
     "execution_count": 22,
     "metadata": {},
     "output_type": "execute_result"
    }
   ],
   "source": [
    "chart = alt.Chart(bunker_hill).mark_point(size=50).encode(\n",
    "    x=alt.X(\n",
    "        \"date:T\",\n",
    "        axis=alt.Axis(title=\"\", format=\"%Y\", grid=False),\n",
    "    ),\n",
    "    y=alt.Y(\n",
    "        \"price_per_square_foot:Q\",\n",
    "        axis=alt.Axis(title=\"\", format=\"$s\", grid=False)\n",
    "    ),\n",
    "    color=alt.Color(\"building_name:N\", legend=None),\n",
    "    column=\"building_name\",\n",
    "    tooltip=[\"building_name\", \"unit\", \"price\", \"square_feet\", \"price_per_square_foot\"]\n",
    ").properties(width=250).configure_view(\n",
    "    strokeOpacity=0\n",
    ")\n",
    "\n",
    "if SAVE_CHARTS:\n",
    "    chart.save('assets/price-per-sqft-by-date.svg')\n",
    "\n",
    "chart"
   ]
  },
  {
   "cell_type": "markdown",
   "metadata": {},
   "source": [
    "## Region"
   ]
  },
  {
   "cell_type": "code",
   "execution_count": 23,
   "metadata": {},
   "outputs": [
    {
     "data": {
      "application/vnd.vegalite.v2+json": {
       "$schema": "https://vega.github.io/schema/vega-lite/v2.4.3.json",
       "config": {
        "view": {
         "height": 300,
         "strokeOpacity": 0,
         "width": 400
        }
       },
       "data": {
        "format": {
         "type": "json"
        },
        "url": "altair-data-3b9541e3cfab2f3d970eae31b0bf374d.json"
       },
       "encoding": {
        "x": {
         "axis": {
          "format": "%Y",
          "labelAngle": 0,
          "title": ""
         },
         "field": "date",
         "timeUnit": "yearmonth",
         "type": "temporal"
        },
        "y": {
         "aggregate": "median",
         "axis": {
          "format": "$s",
          "title": ""
         },
         "field": "price",
         "type": "quantitative"
        }
       },
       "mark": "line",
       "width": 600
      },
      "text/plain": [
       "<VegaLite 2 object>\n",
       "\n",
       "If you see this message, it means the renderer has not been properly enabled\n",
       "for the frontend that you are using. For more information, see\n",
       "https://altair-viz.github.io/user_guide/troubleshooting.html\n"
      ]
     },
     "execution_count": 23,
     "metadata": {},
     "output_type": "execute_result"
    }
   ],
   "source": [
    "chart = alt.Chart(df).mark_line().encode(\n",
    "    x=alt.X(\n",
    "        \"date:T\",\n",
    "        timeUnit=\"yearmonth\",\n",
    "        axis=alt.Axis(title=\"\", labelAngle=0, format=\"%Y\"),\n",
    "    ),\n",
    "    y=alt.Y(\n",
    "        \"median(price):Q\",\n",
    "        axis=alt.Axis(title=\"\", format=\"$s\"),\n",
    "    ),\n",
    ").properties(width=600).configure_view(\n",
    "    strokeOpacity=0\n",
    ")\n",
    "\n",
    "if SAVE_CHARTS:\n",
    "    chart.save('assets/price-by-year.svg')\n",
    "\n",
    "chart"
   ]
  },
  {
   "cell_type": "code",
   "execution_count": 24,
   "metadata": {},
   "outputs": [
    {
     "data": {
      "application/vnd.vegalite.v2+json": {
       "$schema": "https://vega.github.io/schema/vega-lite/v2.4.3.json",
       "config": {
        "view": {
         "height": 300,
         "strokeOpacity": 0,
         "width": 400
        }
       },
       "data": {
        "format": {
         "type": "json"
        },
        "url": "altair-data-3b9541e3cfab2f3d970eae31b0bf374d.json"
       },
       "encoding": {
        "color": {
         "field": "region",
         "type": "nominal"
        },
        "tooltip": [
         {
          "field": "region",
          "type": "nominal"
         },
         {
          "field": "building_name",
          "type": "nominal"
         },
         {
          "field": "unit",
          "type": "nominal"
         },
         {
          "field": "price",
          "type": "quantitative"
         },
         {
          "field": "square_feet",
          "type": "quantitative"
         },
         {
          "field": "price_per_square_foot",
          "type": "quantitative"
         }
        ],
        "x": {
         "axis": {
          "format": "%Y",
          "grid": false,
          "title": ""
         },
         "field": "date",
         "type": "temporal"
        },
        "y": {
         "axis": {
          "format": "$s",
          "grid": false,
          "title": ""
         },
         "field": "price",
         "type": "quantitative"
        }
       },
       "mark": {
        "size": 50,
        "type": "point"
       },
       "transform": [
        {
         "filter": "(datum.price <= 2000000)"
        }
       ],
       "width": 600
      },
      "text/plain": [
       "<VegaLite 2 object>\n",
       "\n",
       "If you see this message, it means the renderer has not been properly enabled\n",
       "for the frontend that you are using. For more information, see\n",
       "https://altair-viz.github.io/user_guide/troubleshooting.html\n"
      ]
     },
     "execution_count": 24,
     "metadata": {},
     "output_type": "execute_result"
    }
   ],
   "source": [
    "chart = alt.Chart(df).mark_point(size=50).encode(\n",
    "    x=alt.X(\n",
    "        \"date:T\",\n",
    "        axis=alt.Axis(title=\"\", format=\"%Y\", grid=False),\n",
    "    ),\n",
    "    y=alt.Y(\n",
    "        \"price:Q\",\n",
    "        axis=alt.Axis(title=\"\", format=\"$s\", grid=False),\n",
    "    ),\n",
    "    color=\"region\",\n",
    "    #column=alt.Column(\"region\", sort=alt.SortField(field=\"price\", op=\"median\", order=\"descending\")),\n",
    "    tooltip=[\"region\", \"building_name\", \"unit\", \"price\", \"square_feet\", \"price_per_square_foot\"]\n",
    ").transform_filter(\n",
    "    alt.datum.price <= 2000000\n",
    ").properties(width=600).configure_view(\n",
    "    strokeOpacity=0\n",
    ")\n",
    "\n",
    "if SAVE_CHARTS:\n",
    "    chart.save('assets/price-by-date.svg')\n",
    "\n",
    "chart"
   ]
  },
  {
   "cell_type": "code",
   "execution_count": 25,
   "metadata": {},
   "outputs": [
    {
     "data": {
      "application/vnd.vegalite.v2+json": {
       "$schema": "https://vega.github.io/schema/vega-lite/v2.4.3.json",
       "config": {
        "view": {
         "height": 300,
         "strokeOpacity": 0,
         "width": 400
        }
       },
       "data": {
        "format": {
         "type": "json"
        },
        "url": "altair-data-3b9541e3cfab2f3d970eae31b0bf374d.json"
       },
       "encoding": {
        "color": {
         "field": "region",
         "type": "nominal"
        },
        "tooltip": [
         {
          "field": "region",
          "type": "nominal"
         },
         {
          "field": "building_name",
          "type": "nominal"
         },
         {
          "field": "unit",
          "type": "nominal"
         },
         {
          "field": "price",
          "type": "quantitative"
         },
         {
          "field": "square_feet",
          "type": "quantitative"
         },
         {
          "field": "price_per_square_foot",
          "type": "quantitative"
         }
        ],
        "x": {
         "axis": {
          "format": "%Y",
          "grid": false,
          "tickCount": 7,
          "title": ""
         },
         "field": "date",
         "type": "temporal"
        },
        "y": {
         "axis": {
          "format": "$s",
          "grid": false,
          "title": ""
         },
         "field": "price_per_square_foot",
         "type": "quantitative"
        }
       },
       "mark": {
        "size": 50,
        "type": "point"
       },
       "width": 600
      },
      "text/plain": [
       "<VegaLite 2 object>\n",
       "\n",
       "If you see this message, it means the renderer has not been properly enabled\n",
       "for the frontend that you are using. For more information, see\n",
       "https://altair-viz.github.io/user_guide/troubleshooting.html\n"
      ]
     },
     "execution_count": 25,
     "metadata": {},
     "output_type": "execute_result"
    }
   ],
   "source": [
    "chart = alt.Chart(df).mark_point(size=50).encode(\n",
    "    x=alt.X(\n",
    "        \"date:T\",\n",
    "        axis=alt.Axis(title=\"\", format=\"%Y\", tickCount=7, grid=False),\n",
    "    ),\n",
    "    y=alt.Y(\n",
    "        \"price_per_square_foot:Q\",\n",
    "        axis=alt.Axis(title=\"\", format=\"$s\", grid=False),\n",
    "    ),\n",
    "    color=\"region\",\n",
    "    tooltip=[\"region\", \"building_name\", \"unit\", \"price\", \"square_feet\", \"price_per_square_foot\"]\n",
    ").properties(width=600).configure_view(\n",
    "    strokeOpacity=0\n",
    ")\n",
    "\n",
    "if SAVE_CHARTS:\n",
    "    chart.save('assets/price-by-date.svg')\n",
    "\n",
    "chart"
   ]
  },
  {
   "cell_type": "markdown",
   "metadata": {},
   "source": [
    "## Last 12 months"
   ]
  },
  {
   "cell_type": "code",
   "execution_count": 26,
   "metadata": {},
   "outputs": [],
   "source": [
    "one_year_ago = datetime.now() - timedelta(days=365)"
   ]
  },
  {
   "cell_type": "code",
   "execution_count": 27,
   "metadata": {},
   "outputs": [],
   "source": [
    "last_year = df[df.date > one_year_ago]"
   ]
  },
  {
   "cell_type": "code",
   "execution_count": 28,
   "metadata": {},
   "outputs": [
    {
     "data": {
      "text/html": [
       "<div>\n",
       "<style scoped>\n",
       "    .dataframe tbody tr th:only-of-type {\n",
       "        vertical-align: middle;\n",
       "    }\n",
       "\n",
       "    .dataframe tbody tr th {\n",
       "        vertical-align: top;\n",
       "    }\n",
       "\n",
       "    .dataframe thead th {\n",
       "        text-align: right;\n",
       "    }\n",
       "</style>\n",
       "<table border=\"1\" class=\"dataframe\">\n",
       "  <thead>\n",
       "    <tr style=\"text-align: right;\">\n",
       "      <th></th>\n",
       "      <th>price</th>\n",
       "      <th>square_feet</th>\n",
       "      <th>unit</th>\n",
       "      <th>price_per_square_foot</th>\n",
       "    </tr>\n",
       "    <tr>\n",
       "      <th>region</th>\n",
       "      <th></th>\n",
       "      <th></th>\n",
       "      <th></th>\n",
       "      <th></th>\n",
       "    </tr>\n",
       "  </thead>\n",
       "  <tbody>\n",
       "    <tr>\n",
       "      <th>Fashion District</th>\n",
       "      <td>570000.0</td>\n",
       "      <td>820.0</td>\n",
       "      <td>6</td>\n",
       "      <td>766.590126</td>\n",
       "    </tr>\n",
       "    <tr>\n",
       "      <th>Financial District</th>\n",
       "      <td>616250.0</td>\n",
       "      <td>880.0</td>\n",
       "      <td>10</td>\n",
       "      <td>726.773227</td>\n",
       "    </tr>\n",
       "    <tr>\n",
       "      <th>Jewelry District</th>\n",
       "      <td>525000.0</td>\n",
       "      <td>750.0</td>\n",
       "      <td>13</td>\n",
       "      <td>715.384615</td>\n",
       "    </tr>\n",
       "    <tr>\n",
       "      <th>L.A. Live</th>\n",
       "      <td>735000.0</td>\n",
       "      <td>1120.0</td>\n",
       "      <td>165</td>\n",
       "      <td>709.677419</td>\n",
       "    </tr>\n",
       "    <tr>\n",
       "      <th>Arts District</th>\n",
       "      <td>792000.0</td>\n",
       "      <td>1186.0</td>\n",
       "      <td>78</td>\n",
       "      <td>704.566153</td>\n",
       "    </tr>\n",
       "    <tr>\n",
       "      <th>Historic Core</th>\n",
       "      <td>525000.0</td>\n",
       "      <td>801.0</td>\n",
       "      <td>41</td>\n",
       "      <td>681.250000</td>\n",
       "    </tr>\n",
       "    <tr>\n",
       "      <th>City West</th>\n",
       "      <td>567500.0</td>\n",
       "      <td>975.0</td>\n",
       "      <td>28</td>\n",
       "      <td>643.158348</td>\n",
       "    </tr>\n",
       "    <tr>\n",
       "      <th>Little Tokyo</th>\n",
       "      <td>467500.0</td>\n",
       "      <td>876.5</td>\n",
       "      <td>36</td>\n",
       "      <td>556.623932</td>\n",
       "    </tr>\n",
       "    <tr>\n",
       "      <th>Bunker Hill</th>\n",
       "      <td>584000.0</td>\n",
       "      <td>1120.5</td>\n",
       "      <td>22</td>\n",
       "      <td>549.568246</td>\n",
       "    </tr>\n",
       "  </tbody>\n",
       "</table>\n",
       "</div>"
      ],
      "text/plain": [
       "                       price  square_feet  unit  price_per_square_foot\n",
       "region                                                                \n",
       "Fashion District    570000.0        820.0     6             766.590126\n",
       "Financial District  616250.0        880.0    10             726.773227\n",
       "Jewelry District    525000.0        750.0    13             715.384615\n",
       "L.A. Live           735000.0       1120.0   165             709.677419\n",
       "Arts District       792000.0       1186.0    78             704.566153\n",
       "Historic Core       525000.0        801.0    41             681.250000\n",
       "City West           567500.0        975.0    28             643.158348\n",
       "Little Tokyo        467500.0        876.5    36             556.623932\n",
       "Bunker Hill         584000.0       1120.5    22             549.568246"
      ]
     },
     "execution_count": 28,
     "metadata": {},
     "output_type": "execute_result"
    }
   ],
   "source": [
    "last_year.groupby([\"region\"]).agg({\n",
    "    \"unit\": \"count\",\n",
    "    \"price\": \"median\",\n",
    "    \"price_per_square_foot\": \"median\",\n",
    "    \"square_feet\": \"median\",\n",
    "}).sort_values(\"price_per_square_foot\", ascending=False)"
   ]
  },
  {
   "cell_type": "code",
   "execution_count": 29,
   "metadata": {},
   "outputs": [
    {
     "data": {
      "text/html": [
       "<div>\n",
       "<style scoped>\n",
       "    .dataframe tbody tr th:only-of-type {\n",
       "        vertical-align: middle;\n",
       "    }\n",
       "\n",
       "    .dataframe tbody tr th {\n",
       "        vertical-align: top;\n",
       "    }\n",
       "\n",
       "    .dataframe thead th {\n",
       "        text-align: right;\n",
       "    }\n",
       "</style>\n",
       "<table border=\"1\" class=\"dataframe\">\n",
       "  <thead>\n",
       "    <tr style=\"text-align: right;\">\n",
       "      <th></th>\n",
       "      <th></th>\n",
       "      <th>price</th>\n",
       "      <th>square_feet</th>\n",
       "      <th>unit</th>\n",
       "      <th>price_per_square_foot</th>\n",
       "    </tr>\n",
       "    <tr>\n",
       "      <th>building_name</th>\n",
       "      <th>region</th>\n",
       "      <th></th>\n",
       "      <th></th>\n",
       "      <th></th>\n",
       "      <th></th>\n",
       "    </tr>\n",
       "  </thead>\n",
       "  <tbody>\n",
       "    <tr>\n",
       "      <th>Metropolis Tower II</th>\n",
       "      <th>L.A. Live</th>\n",
       "      <td>1162000.0</td>\n",
       "      <td>918.0</td>\n",
       "      <td>3</td>\n",
       "      <td>1265.795207</td>\n",
       "    </tr>\n",
       "    <tr>\n",
       "      <th>Metropolis Tower I</th>\n",
       "      <th>L.A. Live</th>\n",
       "      <td>803000.0</td>\n",
       "      <td>783.0</td>\n",
       "      <td>7</td>\n",
       "      <td>1115.660184</td>\n",
       "    </tr>\n",
       "    <tr>\n",
       "      <th>Ritz Carlton</th>\n",
       "      <th>L.A. Live</th>\n",
       "      <td>1757500.0</td>\n",
       "      <td>1700.0</td>\n",
       "      <td>16</td>\n",
       "      <td>1054.209645</td>\n",
       "    </tr>\n",
       "    <tr>\n",
       "      <th>Ten50</th>\n",
       "      <th>L.A. Live</th>\n",
       "      <td>1099000.0</td>\n",
       "      <td>1144.0</td>\n",
       "      <td>17</td>\n",
       "      <td>986.842105</td>\n",
       "    </tr>\n",
       "    <tr>\n",
       "      <th>Biscuit Company Lofts</th>\n",
       "      <th>Arts District</th>\n",
       "      <td>850000.0</td>\n",
       "      <td>1052.0</td>\n",
       "      <td>11</td>\n",
       "      <td>851.851852</td>\n",
       "    </tr>\n",
       "    <tr>\n",
       "      <th>The Rowan</th>\n",
       "      <th>Historic Core</th>\n",
       "      <td>650000.0</td>\n",
       "      <td>720.0</td>\n",
       "      <td>11</td>\n",
       "      <td>847.222222</td>\n",
       "    </tr>\n",
       "    <tr>\n",
       "      <th>Gallery Lofts</th>\n",
       "      <th>Arts District</th>\n",
       "      <td>736000.0</td>\n",
       "      <td>866.0</td>\n",
       "      <td>3</td>\n",
       "      <td>837.182448</td>\n",
       "    </tr>\n",
       "    <tr>\n",
       "      <th>Barker Block Warehouse</th>\n",
       "      <th>Arts District</th>\n",
       "      <td>787500.0</td>\n",
       "      <td>991.0</td>\n",
       "      <td>4</td>\n",
       "      <td>794.419064</td>\n",
       "    </tr>\n",
       "    <tr>\n",
       "      <th>Santee Village: Cornell</th>\n",
       "      <th>Fashion District</th>\n",
       "      <td>540000.0</td>\n",
       "      <td>700.0</td>\n",
       "      <td>2</td>\n",
       "      <td>770.769231</td>\n",
       "    </tr>\n",
       "    <tr>\n",
       "      <th>Eastern Columbia</th>\n",
       "      <th>L.A. Live</th>\n",
       "      <td>1135000.0</td>\n",
       "      <td>1610.0</td>\n",
       "      <td>7</td>\n",
       "      <td>766.990291</td>\n",
       "    </tr>\n",
       "    <tr>\n",
       "      <th>Toy Factory</th>\n",
       "      <th>Arts District</th>\n",
       "      <td>1147500.0</td>\n",
       "      <td>1469.5</td>\n",
       "      <td>8</td>\n",
       "      <td>747.885549</td>\n",
       "    </tr>\n",
       "    <tr>\n",
       "      <th>Barker Block Lofts</th>\n",
       "      <th>Arts District</th>\n",
       "      <td>1042500.0</td>\n",
       "      <td>1475.0</td>\n",
       "      <td>12</td>\n",
       "      <td>745.538999</td>\n",
       "    </tr>\n",
       "    <tr>\n",
       "      <th>Textile Building</th>\n",
       "      <th>Fashion District</th>\n",
       "      <td>595000.0</td>\n",
       "      <td>890.0</td>\n",
       "      <td>4</td>\n",
       "      <td>742.562469</td>\n",
       "    </tr>\n",
       "    <tr>\n",
       "      <th>Concerto Lofts</th>\n",
       "      <th>L.A. Live</th>\n",
       "      <td>675000.0</td>\n",
       "      <td>920.0</td>\n",
       "      <td>5</td>\n",
       "      <td>731.343284</td>\n",
       "    </tr>\n",
       "    <tr>\n",
       "      <th>655 Hope</th>\n",
       "      <th>Financial District</th>\n",
       "      <td>725000.0</td>\n",
       "      <td>1001.0</td>\n",
       "      <td>7</td>\n",
       "      <td>729.270729</td>\n",
       "    </tr>\n",
       "    <tr>\n",
       "      <th>Douglas</th>\n",
       "      <th>Historic Core</th>\n",
       "      <td>652500.0</td>\n",
       "      <td>905.0</td>\n",
       "      <td>2</td>\n",
       "      <td>721.299571</td>\n",
       "    </tr>\n",
       "    <tr>\n",
       "      <th>Bartlett</th>\n",
       "      <th>Jewelry District</th>\n",
       "      <td>525000.0</td>\n",
       "      <td>750.0</td>\n",
       "      <td>13</td>\n",
       "      <td>715.384615</td>\n",
       "    </tr>\n",
       "    <tr>\n",
       "      <th>Evo</th>\n",
       "      <th>L.A. Live</th>\n",
       "      <td>678750.0</td>\n",
       "      <td>1090.0</td>\n",
       "      <td>26</td>\n",
       "      <td>702.269604</td>\n",
       "    </tr>\n",
       "    <tr>\n",
       "      <th>Beacon Lofts</th>\n",
       "      <th>Arts District</th>\n",
       "      <td>747250.0</td>\n",
       "      <td>1065.0</td>\n",
       "      <td>2</td>\n",
       "      <td>700.722046</td>\n",
       "    </tr>\n",
       "    <tr>\n",
       "      <th>Library Court</th>\n",
       "      <th>Financial District</th>\n",
       "      <td>505000.0</td>\n",
       "      <td>690.0</td>\n",
       "      <td>3</td>\n",
       "      <td>700.549451</td>\n",
       "    </tr>\n",
       "    <tr>\n",
       "      <th>110 Wilshire</th>\n",
       "      <th>City West</th>\n",
       "      <td>530000.0</td>\n",
       "      <td>760.0</td>\n",
       "      <td>11</td>\n",
       "      <td>700.000000</td>\n",
       "    </tr>\n",
       "    <tr>\n",
       "      <th>Luma Lofts</th>\n",
       "      <th>L.A. Live</th>\n",
       "      <td>642500.0</td>\n",
       "      <td>930.0</td>\n",
       "      <td>14</td>\n",
       "      <td>695.747801</td>\n",
       "    </tr>\n",
       "    <tr>\n",
       "      <th>940 E. 2nd Street</th>\n",
       "      <th>Arts District</th>\n",
       "      <td>1650000.0</td>\n",
       "      <td>2453.0</td>\n",
       "      <td>1</td>\n",
       "      <td>672.645740</td>\n",
       "    </tr>\n",
       "    <tr>\n",
       "      <th>El Dorado</th>\n",
       "      <th>Historic Core</th>\n",
       "      <td>789500.0</td>\n",
       "      <td>1207.0</td>\n",
       "      <td>2</td>\n",
       "      <td>662.362506</td>\n",
       "    </tr>\n",
       "    <tr>\n",
       "      <th>Sky Lofts</th>\n",
       "      <th>L.A. Live</th>\n",
       "      <td>870000.0</td>\n",
       "      <td>1340.0</td>\n",
       "      <td>12</td>\n",
       "      <td>659.090909</td>\n",
       "    </tr>\n",
       "    <tr>\n",
       "      <th>Toy Warehouse</th>\n",
       "      <th>Arts District</th>\n",
       "      <td>1125000.0</td>\n",
       "      <td>1712.0</td>\n",
       "      <td>3</td>\n",
       "      <td>657.126168</td>\n",
       "    </tr>\n",
       "    <tr>\n",
       "      <th>Skyline</th>\n",
       "      <th>L.A. Live</th>\n",
       "      <td>725000.0</td>\n",
       "      <td>1193.0</td>\n",
       "      <td>9</td>\n",
       "      <td>652.307692</td>\n",
       "    </tr>\n",
       "    <tr>\n",
       "      <th>Market Lofts</th>\n",
       "      <th>L.A. Live</th>\n",
       "      <td>583000.0</td>\n",
       "      <td>988.0</td>\n",
       "      <td>21</td>\n",
       "      <td>650.000000</td>\n",
       "    </tr>\n",
       "    <tr>\n",
       "      <th>Mura</th>\n",
       "      <th>Arts District</th>\n",
       "      <td>800000.0</td>\n",
       "      <td>1240.0</td>\n",
       "      <td>17</td>\n",
       "      <td>645.161290</td>\n",
       "    </tr>\n",
       "    <tr>\n",
       "      <th>Pan American</th>\n",
       "      <th>Historic Core</th>\n",
       "      <td>705000.0</td>\n",
       "      <td>1100.0</td>\n",
       "      <td>3</td>\n",
       "      <td>640.909091</td>\n",
       "    </tr>\n",
       "    <tr>\n",
       "      <th>Savoy</th>\n",
       "      <th>Arts District</th>\n",
       "      <td>590000.0</td>\n",
       "      <td>910.0</td>\n",
       "      <td>15</td>\n",
       "      <td>631.868132</td>\n",
       "    </tr>\n",
       "    <tr>\n",
       "      <th>Bunker Hill Tower</th>\n",
       "      <th>Bunker Hill</th>\n",
       "      <td>472500.0</td>\n",
       "      <td>748.5</td>\n",
       "      <td>10</td>\n",
       "      <td>628.006321</td>\n",
       "    </tr>\n",
       "    <tr>\n",
       "      <th>Shy Barry Grand</th>\n",
       "      <th>Historic Core</th>\n",
       "      <td>455000.0</td>\n",
       "      <td>800.0</td>\n",
       "      <td>15</td>\n",
       "      <td>622.500000</td>\n",
       "    </tr>\n",
       "    <tr>\n",
       "      <th>Molino Street Lofts</th>\n",
       "      <th>Arts District</th>\n",
       "      <td>1232500.0</td>\n",
       "      <td>2060.0</td>\n",
       "      <td>2</td>\n",
       "      <td>606.814760</td>\n",
       "    </tr>\n",
       "    <tr>\n",
       "      <th>Vero</th>\n",
       "      <th>City West</th>\n",
       "      <td>590000.0</td>\n",
       "      <td>1130.0</td>\n",
       "      <td>17</td>\n",
       "      <td>602.484472</td>\n",
       "    </tr>\n",
       "    <tr>\n",
       "      <th>Higgins</th>\n",
       "      <th>Historic Core</th>\n",
       "      <td>505000.0</td>\n",
       "      <td>855.5</td>\n",
       "      <td>8</td>\n",
       "      <td>597.802198</td>\n",
       "    </tr>\n",
       "    <tr>\n",
       "      <th>Elleven Lofts</th>\n",
       "      <th>L.A. Live</th>\n",
       "      <td>617500.0</td>\n",
       "      <td>1089.0</td>\n",
       "      <td>18</td>\n",
       "      <td>588.942308</td>\n",
       "    </tr>\n",
       "    <tr>\n",
       "      <th>Little Tokyo Lofts</th>\n",
       "      <th>Little Tokyo</th>\n",
       "      <td>435000.0</td>\n",
       "      <td>790.0</td>\n",
       "      <td>17</td>\n",
       "      <td>576.388889</td>\n",
       "    </tr>\n",
       "    <tr>\n",
       "      <th>Promenade</th>\n",
       "      <th>Bunker Hill</th>\n",
       "      <td>619000.0</td>\n",
       "      <td>1144.0</td>\n",
       "      <td>4</td>\n",
       "      <td>549.875263</td>\n",
       "    </tr>\n",
       "    <tr>\n",
       "      <th>Grand Lofts</th>\n",
       "      <th>L.A. Live</th>\n",
       "      <td>855000.0</td>\n",
       "      <td>1556.0</td>\n",
       "      <td>3</td>\n",
       "      <td>549.485861</td>\n",
       "    </tr>\n",
       "    <tr>\n",
       "      <th>Tokyo Villa</th>\n",
       "      <th>Little Tokyo</th>\n",
       "      <td>450000.0</td>\n",
       "      <td>848.0</td>\n",
       "      <td>11</td>\n",
       "      <td>548.349057</td>\n",
       "    </tr>\n",
       "    <tr>\n",
       "      <th>Flower Street Lofts</th>\n",
       "      <th>L.A. Live</th>\n",
       "      <td>711000.0</td>\n",
       "      <td>1432.0</td>\n",
       "      <td>7</td>\n",
       "      <td>490.947075</td>\n",
       "    </tr>\n",
       "    <tr>\n",
       "      <th>Teramachi</th>\n",
       "      <th>Little Tokyo</th>\n",
       "      <td>475875.0</td>\n",
       "      <td>970.0</td>\n",
       "      <td>8</td>\n",
       "      <td>485.567010</td>\n",
       "    </tr>\n",
       "    <tr>\n",
       "      <th>Promenade West</th>\n",
       "      <th>Bunker Hill</th>\n",
       "      <td>594000.0</td>\n",
       "      <td>1323.0</td>\n",
       "      <td>8</td>\n",
       "      <td>446.636132</td>\n",
       "    </tr>\n",
       "  </tbody>\n",
       "</table>\n",
       "</div>"
      ],
      "text/plain": [
       "                                                price  square_feet  unit  \\\n",
       "building_name           region                                             \n",
       "Metropolis Tower II     L.A. Live           1162000.0        918.0     3   \n",
       "Metropolis Tower I      L.A. Live            803000.0        783.0     7   \n",
       "Ritz Carlton            L.A. Live           1757500.0       1700.0    16   \n",
       "Ten50                   L.A. Live           1099000.0       1144.0    17   \n",
       "Biscuit Company Lofts   Arts District        850000.0       1052.0    11   \n",
       "The Rowan               Historic Core        650000.0        720.0    11   \n",
       "Gallery Lofts           Arts District        736000.0        866.0     3   \n",
       "Barker Block Warehouse  Arts District        787500.0        991.0     4   \n",
       "Santee Village: Cornell Fashion District     540000.0        700.0     2   \n",
       "Eastern Columbia        L.A. Live           1135000.0       1610.0     7   \n",
       "Toy Factory             Arts District       1147500.0       1469.5     8   \n",
       "Barker Block Lofts      Arts District       1042500.0       1475.0    12   \n",
       "Textile Building        Fashion District     595000.0        890.0     4   \n",
       "Concerto Lofts          L.A. Live            675000.0        920.0     5   \n",
       "655 Hope                Financial District   725000.0       1001.0     7   \n",
       "Douglas                 Historic Core        652500.0        905.0     2   \n",
       "Bartlett                Jewelry District     525000.0        750.0    13   \n",
       "Evo                     L.A. Live            678750.0       1090.0    26   \n",
       "Beacon Lofts            Arts District        747250.0       1065.0     2   \n",
       "Library Court           Financial District   505000.0        690.0     3   \n",
       "110 Wilshire            City West            530000.0        760.0    11   \n",
       "Luma Lofts              L.A. Live            642500.0        930.0    14   \n",
       "940 E. 2nd Street       Arts District       1650000.0       2453.0     1   \n",
       "El Dorado               Historic Core        789500.0       1207.0     2   \n",
       "Sky Lofts               L.A. Live            870000.0       1340.0    12   \n",
       "Toy Warehouse           Arts District       1125000.0       1712.0     3   \n",
       "Skyline                 L.A. Live            725000.0       1193.0     9   \n",
       "Market Lofts            L.A. Live            583000.0        988.0    21   \n",
       "Mura                    Arts District        800000.0       1240.0    17   \n",
       "Pan American            Historic Core        705000.0       1100.0     3   \n",
       "Savoy                   Arts District        590000.0        910.0    15   \n",
       "Bunker Hill Tower       Bunker Hill          472500.0        748.5    10   \n",
       "Shy Barry Grand         Historic Core        455000.0        800.0    15   \n",
       "Molino Street Lofts     Arts District       1232500.0       2060.0     2   \n",
       "Vero                    City West            590000.0       1130.0    17   \n",
       "Higgins                 Historic Core        505000.0        855.5     8   \n",
       "Elleven Lofts           L.A. Live            617500.0       1089.0    18   \n",
       "Little Tokyo Lofts      Little Tokyo         435000.0        790.0    17   \n",
       "Promenade               Bunker Hill          619000.0       1144.0     4   \n",
       "Grand Lofts             L.A. Live            855000.0       1556.0     3   \n",
       "Tokyo Villa             Little Tokyo         450000.0        848.0    11   \n",
       "Flower Street Lofts     L.A. Live            711000.0       1432.0     7   \n",
       "Teramachi               Little Tokyo         475875.0        970.0     8   \n",
       "Promenade West          Bunker Hill          594000.0       1323.0     8   \n",
       "\n",
       "                                            price_per_square_foot  \n",
       "building_name           region                                     \n",
       "Metropolis Tower II     L.A. Live                     1265.795207  \n",
       "Metropolis Tower I      L.A. Live                     1115.660184  \n",
       "Ritz Carlton            L.A. Live                     1054.209645  \n",
       "Ten50                   L.A. Live                      986.842105  \n",
       "Biscuit Company Lofts   Arts District                  851.851852  \n",
       "The Rowan               Historic Core                  847.222222  \n",
       "Gallery Lofts           Arts District                  837.182448  \n",
       "Barker Block Warehouse  Arts District                  794.419064  \n",
       "Santee Village: Cornell Fashion District               770.769231  \n",
       "Eastern Columbia        L.A. Live                      766.990291  \n",
       "Toy Factory             Arts District                  747.885549  \n",
       "Barker Block Lofts      Arts District                  745.538999  \n",
       "Textile Building        Fashion District               742.562469  \n",
       "Concerto Lofts          L.A. Live                      731.343284  \n",
       "655 Hope                Financial District             729.270729  \n",
       "Douglas                 Historic Core                  721.299571  \n",
       "Bartlett                Jewelry District               715.384615  \n",
       "Evo                     L.A. Live                      702.269604  \n",
       "Beacon Lofts            Arts District                  700.722046  \n",
       "Library Court           Financial District             700.549451  \n",
       "110 Wilshire            City West                      700.000000  \n",
       "Luma Lofts              L.A. Live                      695.747801  \n",
       "940 E. 2nd Street       Arts District                  672.645740  \n",
       "El Dorado               Historic Core                  662.362506  \n",
       "Sky Lofts               L.A. Live                      659.090909  \n",
       "Toy Warehouse           Arts District                  657.126168  \n",
       "Skyline                 L.A. Live                      652.307692  \n",
       "Market Lofts            L.A. Live                      650.000000  \n",
       "Mura                    Arts District                  645.161290  \n",
       "Pan American            Historic Core                  640.909091  \n",
       "Savoy                   Arts District                  631.868132  \n",
       "Bunker Hill Tower       Bunker Hill                    628.006321  \n",
       "Shy Barry Grand         Historic Core                  622.500000  \n",
       "Molino Street Lofts     Arts District                  606.814760  \n",
       "Vero                    City West                      602.484472  \n",
       "Higgins                 Historic Core                  597.802198  \n",
       "Elleven Lofts           L.A. Live                      588.942308  \n",
       "Little Tokyo Lofts      Little Tokyo                   576.388889  \n",
       "Promenade               Bunker Hill                    549.875263  \n",
       "Grand Lofts             L.A. Live                      549.485861  \n",
       "Tokyo Villa             Little Tokyo                   548.349057  \n",
       "Flower Street Lofts     L.A. Live                      490.947075  \n",
       "Teramachi               Little Tokyo                   485.567010  \n",
       "Promenade West          Bunker Hill                    446.636132  "
      ]
     },
     "execution_count": 29,
     "metadata": {},
     "output_type": "execute_result"
    }
   ],
   "source": [
    "last_year.groupby([\"building_name\", \"region\"]).agg({\n",
    "    \"unit\": \"count\",\n",
    "    \"price\": \"median\",\n",
    "    \"price_per_square_foot\": \"median\",\n",
    "    \"square_feet\": \"median\",\n",
    "}).sort_values(\"price_per_square_foot\", ascending=False)"
   ]
  },
  {
   "cell_type": "markdown",
   "metadata": {},
   "source": [
    "## Largest units"
   ]
  },
  {
   "cell_type": "code",
   "execution_count": 30,
   "metadata": {},
   "outputs": [
    {
     "data": {
      "application/vnd.vegalite.v2+json": {
       "$schema": "https://vega.github.io/schema/vega-lite/v2.4.3.json",
       "config": {
        "view": {
         "height": 300,
         "strokeOpacity": 0,
         "width": 400
        }
       },
       "data": {
        "format": {
         "type": "json"
        },
        "url": "altair-data-3b9541e3cfab2f3d970eae31b0bf374d.json"
       },
       "encoding": {
        "color": {
         "condition": {
          "test": "(datum.building_name === 'Promenade West')",
          "value": "black"
         },
         "value": "gray"
        },
        "x": {
         "aggregate": "median",
         "axis": {
          "title": ""
         },
         "field": "square_feet",
         "type": "quantitative"
        },
        "y": {
         "axis": {
          "title": ""
         },
         "field": "building_name",
         "sort": {
          "field": "square_feet",
          "op": "median",
          "order": "descending"
         },
         "type": "nominal"
        }
       },
       "mark": "bar"
      },
      "text/plain": [
       "<VegaLite 2 object>\n",
       "\n",
       "If you see this message, it means the renderer has not been properly enabled\n",
       "for the frontend that you are using. For more information, see\n",
       "https://altair-viz.github.io/user_guide/troubleshooting.html\n"
      ]
     },
     "execution_count": 30,
     "metadata": {},
     "output_type": "execute_result"
    }
   ],
   "source": [
    "chart = alt.Chart(df).mark_bar().encode(\n",
    "    x=alt.X(\n",
    "        \"median(square_feet):Q\",\n",
    "        axis=alt.Axis(title=\"\")\n",
    "    ),\n",
    "    y=alt.Y(\n",
    "        \"building_name:N\",\n",
    "        axis=alt.Axis(title=\"\"),\n",
    "        sort=alt.SortField(field=\"square_feet\", op=\"median\", order=\"descending\")\n",
    "    ),\n",
    "    color=alt.condition(\n",
    "        alt.datum.building_name == 'Promenade West',\n",
    "        alt.value(\"black\"),\n",
    "        alt.value(\"gray\")\n",
    "    )\n",
    ").configure_view(\n",
    "    strokeOpacity=0\n",
    ")\n",
    "\n",
    "if SAVE_CHARTS:\n",
    "    chart.save('assets/size-by-building.svg')\n",
    "\n",
    "chart"
   ]
  }
 ],
 "metadata": {
  "kernelspec": {
   "display_name": "Python 2",
   "language": "python",
   "name": "python2"
  },
  "language_info": {
   "codemirror_mode": {
    "name": "ipython",
    "version": 2
   },
   "file_extension": ".py",
   "mimetype": "text/x-python",
   "name": "python",
   "nbconvert_exporter": "python",
   "pygments_lexer": "ipython2",
   "version": "2.7.12"
  }
 },
 "nbformat": 4,
 "nbformat_minor": 2
}
